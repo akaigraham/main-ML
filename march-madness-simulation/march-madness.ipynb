{
 "cells": [
  {
   "attachments": {},
   "cell_type": "markdown",
   "metadata": {},
   "source": [
    "# March Madness Monte Carlo Simulation"
   ]
  },
  {
   "attachments": {},
   "cell_type": "markdown",
   "metadata": {},
   "source": [
    "Use information to try to predict the 2023 March Madness Men's and Women's Basketball Championships."
   ]
  },
  {
   "attachments": {},
   "cell_type": "markdown",
   "metadata": {},
   "source": [
    "## Configure Notebook and Download Competition Items"
   ]
  },
  {
   "cell_type": "code",
   "execution_count": 2,
   "metadata": {},
   "outputs": [],
   "source": [
    "from pathlib import Path\n",
    "\n",
    "cred_path = Path('~/.kaggle/kaggle.json').expanduser()\n",
    "if not cred_path.exists():\n",
    "    cred_path.parent.mkdir(exist_ok=True)\n",
    "    cred_path.write_text(creds)\n",
    "    cred_path.chmod(0o600)"
   ]
  },
  {
   "cell_type": "code",
   "execution_count": 3,
   "metadata": {},
   "outputs": [],
   "source": [
    "from pathlib import Path\n",
    "import os\n",
    "\n",
    "iskaggle = os.environ.get('KAGGLE_KERNEL_RUN_TYPE', '')\n",
    "if iskaggle:\n",
    "    path = Path('../input/march-machine-learning-mania-2023')\n",
    "    !pip install -Uqq fastai\n",
    "else:\n",
    "    import zipfile,kaggle\n",
    "    path = Path('march-machine-learning-mania-2023')\n",
    "    if not path.exists():\n",
    "        kaggle.api.competition_download_cli(str(path))\n",
    "        zipfile.ZipFile(f'{path}.zip').extractall(path)"
   ]
  },
  {
   "attachments": {},
   "cell_type": "markdown",
   "metadata": {},
   "source": [
    "## Load and Preview Provided Data"
   ]
  },
  {
   "cell_type": "code",
   "execution_count": 4,
   "metadata": {},
   "outputs": [],
   "source": [
    "import pandas as pd\n",
    "\n",
    "cities = pd.read_csv(path/'Cities.csv')\n",
    "conferences = pd.read_csv(path/'Conferences.csv')\n",
    "m_conf_tourney_games = pd.read_csv(path/'MConferenceTourneyGames.csv')\n",
    "m_game_cities = pd.read_csv(path/'MGameCities.csv')\n",
    "m_massey_ordinals = pd.read_csv(path/'MMasseyOrdinals_thru_Season2023_Day128.csv')\n",
    "m_tourney_compact_results = pd.read_csv(path/'MNCAATourneyCompactResults.csv')\n",
    "m_tourney_detailed_results = pd.read_csv(path/'MNCAATourneyDetailedResults.csv')\n",
    "m_tourney_seed_round_slots = pd.read_csv(path/'MNCAATourneySeedRoundSlots.csv')\n",
    "m_tourney_seeds = pd.read_csv(path/'MNCAATourneySeeds.csv')\n",
    "m_tourney_slots = pd.read_csv(path/'MNCAATourneySlots.csv')\n",
    "m_reg_season_compact_results = pd.read_csv(path/'MRegularSeasonCompactResults.csv')\n",
    "m_reg_season_detailed_results = pd.read_csv(path/'MSeasons.csv')\n",
    "m_secondary_tourney_compact_results = pd.read_csv(path/'MSecondaryTourneyCompactResults.csv')\n",
    "m_secondary_tourney_teams = pd.read_csv(path/'MSecondaryTourneyTeams.csv')\n",
    "m_team_coaches = pd.read_csv(path/'MTeamCoaches.csv')\n",
    "m_team_conferences = pd.read_csv(path/'MTeamConferences.csv')\n",
    "m_teams = pd.read_csv(path/'MTeams.csv')\n",
    "m_team_spellings = pd.read_csv(path/'MTeamSpellings.csv', encoding='latin-1')\n",
    "samp_submission = pd.read_csv(path/'SampleSubmission2023.csv')\n",
    "w_game_cities = pd.read_csv(path/'WGameCities.csv')\n",
    "w_tourney_compact_results = pd.read_csv(path/'WNCAATourneyCompactResults.csv')\n",
    "w_tourney_detailed_results = pd.read_csv(path/'WNCAATourneyDetailedResults.csv')\n",
    "w_tourney_seeds = pd.read_csv(path/'WNCAATourneySeeds.csv')\n",
    "w_tourney_slots = pd.read_csv(path/'WNCAATourneySlots.csv')\n",
    "w_reg_season_compact_results = pd.read_csv(path/'WRegularSeasonCompactResults.csv')\n",
    "w_reg_season_detailed_results = pd.read_csv(path/'WRegularSeasonDetailedResults.csv')\n",
    "w_seasons = pd.read_csv(path/'WSeasons.csv')\n",
    "w_team_conferences = pd.read_csv(path/'WTeamConferences.csv')\n",
    "w_teams = pd.read_csv(path/'WTeams.csv')\n",
    "w_team_spellings = pd.read_csv(path/'WTeamSpellings.csv', encoding='latin-1')"
   ]
  },
  {
   "cell_type": "code",
   "execution_count": 5,
   "metadata": {},
   "outputs": [
    {
     "data": {
      "text/html": [
       "<div>\n",
       "<style scoped>\n",
       "    .dataframe tbody tr th:only-of-type {\n",
       "        vertical-align: middle;\n",
       "    }\n",
       "\n",
       "    .dataframe tbody tr th {\n",
       "        vertical-align: top;\n",
       "    }\n",
       "\n",
       "    .dataframe thead th {\n",
       "        text-align: right;\n",
       "    }\n",
       "</style>\n",
       "<table border=\"1\" class=\"dataframe\">\n",
       "  <thead>\n",
       "    <tr style=\"text-align: right;\">\n",
       "      <th></th>\n",
       "      <th>Season</th>\n",
       "      <th>RankingDayNum</th>\n",
       "      <th>SystemName</th>\n",
       "      <th>TeamID</th>\n",
       "      <th>OrdinalRank</th>\n",
       "    </tr>\n",
       "  </thead>\n",
       "  <tbody>\n",
       "    <tr>\n",
       "      <th>0</th>\n",
       "      <td>2003</td>\n",
       "      <td>35</td>\n",
       "      <td>SEL</td>\n",
       "      <td>1102</td>\n",
       "      <td>159</td>\n",
       "    </tr>\n",
       "    <tr>\n",
       "      <th>1</th>\n",
       "      <td>2003</td>\n",
       "      <td>35</td>\n",
       "      <td>SEL</td>\n",
       "      <td>1103</td>\n",
       "      <td>229</td>\n",
       "    </tr>\n",
       "    <tr>\n",
       "      <th>2</th>\n",
       "      <td>2003</td>\n",
       "      <td>35</td>\n",
       "      <td>SEL</td>\n",
       "      <td>1104</td>\n",
       "      <td>12</td>\n",
       "    </tr>\n",
       "    <tr>\n",
       "      <th>3</th>\n",
       "      <td>2003</td>\n",
       "      <td>35</td>\n",
       "      <td>SEL</td>\n",
       "      <td>1105</td>\n",
       "      <td>314</td>\n",
       "    </tr>\n",
       "    <tr>\n",
       "      <th>4</th>\n",
       "      <td>2003</td>\n",
       "      <td>35</td>\n",
       "      <td>SEL</td>\n",
       "      <td>1106</td>\n",
       "      <td>260</td>\n",
       "    </tr>\n",
       "  </tbody>\n",
       "</table>\n",
       "</div>"
      ],
      "text/plain": [
       "   Season  RankingDayNum SystemName  TeamID  OrdinalRank\n",
       "0    2003             35        SEL    1102          159\n",
       "1    2003             35        SEL    1103          229\n",
       "2    2003             35        SEL    1104           12\n",
       "3    2003             35        SEL    1105          314\n",
       "4    2003             35        SEL    1106          260"
      ]
     },
     "execution_count": 5,
     "metadata": {},
     "output_type": "execute_result"
    }
   ],
   "source": [
    "m_massey_ordinals.head()"
   ]
  },
  {
   "cell_type": "code",
   "execution_count": null,
   "metadata": {},
   "outputs": [],
   "source": []
  },
  {
   "cell_type": "code",
   "execution_count": null,
   "metadata": {},
   "outputs": [],
   "source": []
  },
  {
   "cell_type": "code",
   "execution_count": null,
   "metadata": {},
   "outputs": [],
   "source": []
  },
  {
   "cell_type": "code",
   "execution_count": null,
   "metadata": {},
   "outputs": [],
   "source": []
  }
 ],
 "metadata": {
  "kernelspec": {
   "display_name": "kaggle",
   "language": "python",
   "name": "python3"
  },
  "language_info": {
   "codemirror_mode": {
    "name": "ipython",
    "version": 3
   },
   "file_extension": ".py",
   "mimetype": "text/x-python",
   "name": "python",
   "nbconvert_exporter": "python",
   "pygments_lexer": "ipython3",
   "version": "3.10.9"
  },
  "orig_nbformat": 4
 },
 "nbformat": 4,
 "nbformat_minor": 2
}
