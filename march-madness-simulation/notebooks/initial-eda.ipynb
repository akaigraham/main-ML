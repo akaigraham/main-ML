{
 "cells": [
  {
   "cell_type": "markdown",
   "id": "22f76f7e",
   "metadata": {},
   "source": [
    "# Initial EDA"
   ]
  },
  {
   "cell_type": "code",
   "execution_count": 17,
   "id": "7d5184b8",
   "metadata": {},
   "outputs": [],
   "source": [
    "import pandas as pd\n",
    "from pathlib import Path\n",
    "import matplotlib.pyplot as plt\n",
    "import seaborn as sns\n",
    "\n",
    "%matplotlib inline"
   ]
  },
  {
   "cell_type": "code",
   "execution_count": 11,
   "id": "9c662673",
   "metadata": {},
   "outputs": [
    {
     "name": "stderr",
     "output_type": "stream",
     "text": [
      "/var/folders/04/whwls5095tz8s5mxv15jpsvr0000gn/T/ipykernel_76690/3818455442.py:4: DtypeWarning: Columns (11,13,14) have mixed types. Specify dtype option on import or set low_memory=False.\n",
      "  df = pd.read_csv(data_files/'initial_preprocessed.csv')\n"
     ]
    }
   ],
   "source": [
    "path = Path('/Users/addingtongraham/github-repos/main-ML/march-madness-simulation/')\n",
    "data_files = path/'data'\n",
    "\n",
    "df = pd.read_csv(data_files/'initial_preprocessed.csv')"
   ]
  },
  {
   "cell_type": "code",
   "execution_count": 12,
   "id": "e1d5fd57",
   "metadata": {},
   "outputs": [
    {
     "data": {
      "text/html": [
       "<div>\n",
       "<style scoped>\n",
       "    .dataframe tbody tr th:only-of-type {\n",
       "        vertical-align: middle;\n",
       "    }\n",
       "\n",
       "    .dataframe tbody tr th {\n",
       "        vertical-align: top;\n",
       "    }\n",
       "\n",
       "    .dataframe thead th {\n",
       "        text-align: right;\n",
       "    }\n",
       "</style>\n",
       "<table border=\"1\" class=\"dataframe\">\n",
       "  <thead>\n",
       "    <tr style=\"text-align: right;\">\n",
       "      <th></th>\n",
       "      <th>Season</th>\n",
       "      <th>DayNum</th>\n",
       "      <th>WTeamID</th>\n",
       "      <th>WScore</th>\n",
       "      <th>LTeamID</th>\n",
       "      <th>LScore</th>\n",
       "      <th>WLoc</th>\n",
       "      <th>NumOT</th>\n",
       "      <th>gender</th>\n",
       "      <th>WTeamConf</th>\n",
       "      <th>LTeamConf</th>\n",
       "      <th>CRType</th>\n",
       "      <th>CityID</th>\n",
       "      <th>WTeamSeed</th>\n",
       "      <th>LTeamSeed</th>\n",
       "      <th>ID</th>\n",
       "      <th>Pred</th>\n",
       "    </tr>\n",
       "  </thead>\n",
       "  <tbody>\n",
       "    <tr>\n",
       "      <th>0</th>\n",
       "      <td>2019</td>\n",
       "      <td>108</td>\n",
       "      <td>1190</td>\n",
       "      <td>94</td>\n",
       "      <td>1440</td>\n",
       "      <td>70</td>\n",
       "      <td>A</td>\n",
       "      <td>0</td>\n",
       "      <td>men</td>\n",
       "      <td>southern</td>\n",
       "      <td>southern</td>\n",
       "      <td>Regular</td>\n",
       "      <td>4194.0</td>\n",
       "      <td>NaN</td>\n",
       "      <td>NaN</td>\n",
       "      <td>2019_1190_1440</td>\n",
       "      <td>1</td>\n",
       "    </tr>\n",
       "    <tr>\n",
       "      <th>1</th>\n",
       "      <td>2007</td>\n",
       "      <td>82</td>\n",
       "      <td>3426</td>\n",
       "      <td>75</td>\n",
       "      <td>3394</td>\n",
       "      <td>60</td>\n",
       "      <td>A</td>\n",
       "      <td>0</td>\n",
       "      <td>women</td>\n",
       "      <td>southland</td>\n",
       "      <td>southland</td>\n",
       "      <td>NaN</td>\n",
       "      <td>NaN</td>\n",
       "      <td>NaN</td>\n",
       "      <td>NaN</td>\n",
       "      <td>2007_3426_3394</td>\n",
       "      <td>1</td>\n",
       "    </tr>\n",
       "    <tr>\n",
       "      <th>2</th>\n",
       "      <td>2012</td>\n",
       "      <td>51</td>\n",
       "      <td>1179</td>\n",
       "      <td>87</td>\n",
       "      <td>1146</td>\n",
       "      <td>64</td>\n",
       "      <td>H</td>\n",
       "      <td>0</td>\n",
       "      <td>men</td>\n",
       "      <td>mvc</td>\n",
       "      <td>southland</td>\n",
       "      <td>Regular</td>\n",
       "      <td>4097.0</td>\n",
       "      <td>NaN</td>\n",
       "      <td>NaN</td>\n",
       "      <td>2012_1179_1146</td>\n",
       "      <td>1</td>\n",
       "    </tr>\n",
       "    <tr>\n",
       "      <th>3</th>\n",
       "      <td>2009</td>\n",
       "      <td>71</td>\n",
       "      <td>1326</td>\n",
       "      <td>77</td>\n",
       "      <td>1231</td>\n",
       "      <td>53</td>\n",
       "      <td>H</td>\n",
       "      <td>0</td>\n",
       "      <td>men</td>\n",
       "      <td>big_ten</td>\n",
       "      <td>big_ten</td>\n",
       "      <td>NaN</td>\n",
       "      <td>NaN</td>\n",
       "      <td>NaN</td>\n",
       "      <td>NaN</td>\n",
       "      <td>2009_1326_1231</td>\n",
       "      <td>1</td>\n",
       "    </tr>\n",
       "    <tr>\n",
       "      <th>4</th>\n",
       "      <td>1998</td>\n",
       "      <td>69</td>\n",
       "      <td>3361</td>\n",
       "      <td>68</td>\n",
       "      <td>3363</td>\n",
       "      <td>55</td>\n",
       "      <td>H</td>\n",
       "      <td>0</td>\n",
       "      <td>women</td>\n",
       "      <td>wac</td>\n",
       "      <td>wac</td>\n",
       "      <td>NaN</td>\n",
       "      <td>NaN</td>\n",
       "      <td>NaN</td>\n",
       "      <td>NaN</td>\n",
       "      <td>1998_3361_3363</td>\n",
       "      <td>1</td>\n",
       "    </tr>\n",
       "  </tbody>\n",
       "</table>\n",
       "</div>"
      ],
      "text/plain": [
       "   Season  DayNum  WTeamID  WScore  LTeamID  LScore WLoc  NumOT gender  \\\n",
       "0    2019     108     1190      94     1440      70    A      0    men   \n",
       "1    2007      82     3426      75     3394      60    A      0  women   \n",
       "2    2012      51     1179      87     1146      64    H      0    men   \n",
       "3    2009      71     1326      77     1231      53    H      0    men   \n",
       "4    1998      69     3361      68     3363      55    H      0  women   \n",
       "\n",
       "   WTeamConf  LTeamConf   CRType  CityID WTeamSeed LTeamSeed              ID  \\\n",
       "0   southern   southern  Regular  4194.0       NaN       NaN  2019_1190_1440   \n",
       "1  southland  southland      NaN     NaN       NaN       NaN  2007_3426_3394   \n",
       "2        mvc  southland  Regular  4097.0       NaN       NaN  2012_1179_1146   \n",
       "3    big_ten    big_ten      NaN     NaN       NaN       NaN  2009_1326_1231   \n",
       "4        wac        wac      NaN     NaN       NaN       NaN  1998_3361_3363   \n",
       "\n",
       "   Pred  \n",
       "0     1  \n",
       "1     1  \n",
       "2     1  \n",
       "3     1  \n",
       "4     1  "
      ]
     },
     "execution_count": 12,
     "metadata": {},
     "output_type": "execute_result"
    }
   ],
   "source": [
    "# preview dataset\n",
    "df.head()"
   ]
  },
  {
   "cell_type": "code",
   "execution_count": 13,
   "id": "5763466e",
   "metadata": {},
   "outputs": [],
   "source": [
    "df_eda = df.copy()"
   ]
  },
  {
   "cell_type": "code",
   "execution_count": 14,
   "id": "1d24a41f",
   "metadata": {},
   "outputs": [],
   "source": [
    "df_eda['score_diff'] = df_eda['WScore'] - df_eda['LScore']"
   ]
  },
  {
   "cell_type": "code",
   "execution_count": 15,
   "id": "ac1a8447",
   "metadata": {},
   "outputs": [
    {
     "data": {
      "text/plain": [
       "<Axes: >"
      ]
     },
     "execution_count": 15,
     "metadata": {},
     "output_type": "execute_result"
    },
    {
     "data": {
      "image/png": "[encoded data removed]",
      "text/plain": [
       "<Figure size 640x480 with 1 Axes>"
      ]
     },
     "metadata": {},
     "output_type": "display_data"
    }
   ],
   "source": []
  },
  {
   "cell_type": "code",
   "execution_count": null,
   "id": "65dfac29",
   "metadata": {},
   "outputs": [],
   "source": []
  },
  {
   "cell_type": "code",
   "execution_count": null,
   "id": "0d53fbe7",
   "metadata": {},
   "outputs": [],
   "source": []
  },
  {
   "cell_type": "code",
   "execution_count": null,
   "id": "9596e27d",
   "metadata": {},
   "outputs": [],
   "source": []
  },
  {
   "cell_type": "code",
   "execution_count": null,
   "id": "c2bef248",
   "metadata": {},
   "outputs": [],
   "source": []
  }
 ],
 "metadata": {
  "kernelspec": {
   "display_name": "Python 3 (ipykernel)",
   "language": "python",
   "name": "python3"
  },
  "language_info": {
   "codemirror_mode": {
    "name": "ipython",
    "version": 3
   },
   "file_extension": ".py",
   "mimetype": "text/x-python",
   "name": "python",
   "nbconvert_exporter": "python",
   "pygments_lexer": "ipython3",
   "version": "3.10.9"
  }
 },
 "nbformat": 4,
 "nbformat_minor": 5
}
