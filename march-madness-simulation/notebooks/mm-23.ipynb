{
 "cells": [
  {
   "attachments": {},
   "cell_type": "markdown",
   "metadata": {},
   "source": [
    "# Kaggle March Madness Competition"
   ]
  },
  {
   "cell_type": "code",
   "execution_count": 1,
   "metadata": {},
   "outputs": [],
   "source": [
    "from pathlib import Path\n",
    "import os\n",
    "import pandas as pd"
   ]
  },
  {
   "cell_type": "code",
   "execution_count": 2,
   "metadata": {},
   "outputs": [],
   "source": [
    "# set path to data directories\n",
    "raw_data = Path('../march-machine-learning-mania-2023/')\n",
    "data_path = Path('../data/')"
   ]
  },
  {
   "attachments": {},
   "cell_type": "markdown",
   "metadata": {},
   "source": [
    "## Load Relevant Raw Data"
   ]
  },
  {
   "cell_type": "code",
   "execution_count": 3,
   "metadata": {},
   "outputs": [],
   "source": [
    "# teams\n",
    "m_teams = pd.read_csv(raw_data/'MTeams.csv')\n",
    "w_teams = pd.read_csv(raw_data/'WTeams.csv')\n",
    "\n",
    "# seasons\n",
    "m_seasons = pd.read_csv(raw_data/'MSeasons.csv')\n",
    "w_seasons = pd.read_csv(raw_data/'WSeasons.csv')\n",
    "\n",
    "# NCAA tournament seeds\n",
    "m_seeds = pd.read_csv(raw_data/'MNCAATourneySeeds.csv')\n",
    "w_seeds = pd.read_csv(raw_data/'WNCAATourneySeeds.csv')\n",
    "\n",
    "# compact regular season results\n",
    "m_season_compact = pd.read_csv(raw_data/'MRegularSeasonCompactResults.csv')\n",
    "w_season_compact = pd.read_csv(raw_data/'WRegularSeasonCompactResults.csv')\n",
    "\n",
    "# compact tournament results\n",
    "m_ncaa_compact = pd.read_csv(raw_data/'MNCAATourneyCompactResults.csv')\n",
    "w_ncaa_compact = pd.read_csv(raw_data/'WNCAATourneyCompactResults.csv')\n",
    "\n",
    "# sample submission file\n",
    "samp_submission = pd.read_csv(raw_data/'SampleSubmission2023.csv')"
   ]
  },
  {
   "attachments": {},
   "cell_type": "markdown",
   "metadata": {},
   "source": [
    "## Preprocess Data"
   ]
  },
  {
   "cell_type": "code",
   "execution_count": 4,
   "metadata": {},
   "outputs": [],
   "source": [
    "# concat mens and womens datasets\n",
    "teams = pd.concat([m_teams, w_teams], axis=0)\n",
    "seasons = pd.concat([m_seasons, w_seasons], axis=0)\n",
    "seeds = pd.concat([m_seeds, w_seeds], axis=0)\n",
    "season_results = pd.concat([m_season_compact, w_season_compact], axis=0)\n",
    "ncaa_results = pd.concat([m_ncaa_compact, w_ncaa_compact])"
   ]
  },
  {
   "cell_type": "code",
   "execution_count": 5,
   "metadata": {},
   "outputs": [],
   "source": [
    "# add winning team seeds to ncaa_results\n",
    "ncaa_results = ncaa_results.merge(seeds, how='left', left_on=['WTeamID', 'Season'], right_on=['TeamID', 'Season'])\n",
    "ncaa_results.rename(columns={'Seed': 'WTeamSeed'}, inplace=True)\n",
    "ncaa_results.drop('TeamID', axis=1, inplace=True)\n",
    "\n",
    "# add losing team seeds\n",
    "ncaa_results = ncaa_results.merge(seeds, how='left', left_on=['LTeamID', 'Season'], right_on=['TeamID', 'Season'])\n",
    "ncaa_results.rename(columns={'Seed':'LTeamSeed'}, inplace=True)\n",
    "ncaa_results.drop('TeamID', axis=1, inplace=True)"
   ]
  },
  {
   "cell_type": "code",
   "execution_count": 6,
   "metadata": {},
   "outputs": [],
   "source": [
    "# rename season columns\n",
    "seasons.columns = ['Season', 'SeasonStart', 'RegionW', 'RegionX', 'RegionY', 'RegionZ']\n",
    "\n",
    "# add to ncaa_results\n",
    "ncaa_results = ncaa_results.merge(seasons, how='left', on='Season')"
   ]
  },
  {
   "cell_type": "code",
   "execution_count": 7,
   "metadata": {},
   "outputs": [],
   "source": [
    "# identify team regions based on seed\n",
    "ncaa_results['WTeamRegion'] = ncaa_results['WTeamSeed'].apply(lambda x: x[0])\n",
    "ncaa_results['LTeamRegion'] = ncaa_results['LTeamSeed'].apply(lambda x: x[0])"
   ]
  },
  {
   "cell_type": "code",
   "execution_count": 8,
   "metadata": {},
   "outputs": [],
   "source": [
    "# create mapping dict for regions\n",
    "ncaa_results['mapping_dict'] = ncaa_results.apply(lambda x: {'W': x['RegionW'], \n",
    "                                                             'X': x['RegionX'],\n",
    "                                                             'Y': x['RegionY'],\n",
    "                                                             'Z': x['RegionZ']}, axis=1)"
   ]
  },
  {
   "cell_type": "code",
   "execution_count": 9,
   "metadata": {},
   "outputs": [],
   "source": [
    "# replace region codes with the proper region name\n",
    "ncaa_results['WTeamRegion'] = ncaa_results.apply(lambda x: x['mapping_dict'][x['WTeamRegion']], axis=1)\n",
    "ncaa_results['LTeamRegion'] = ncaa_results.apply(lambda x: x['mapping_dict'][x['LTeamRegion']], axis=1)"
   ]
  },
  {
   "cell_type": "code",
   "execution_count": 10,
   "metadata": {},
   "outputs": [],
   "source": [
    "# drop unnecessary columns\n",
    "ncaa_results.drop(['RegionW', 'RegionX', 'RegionY', 'RegionZ', 'mapping_dict'], axis=1, inplace=True)"
   ]
  },
  {
   "cell_type": "code",
   "execution_count": 14,
   "metadata": {},
   "outputs": [],
   "source": [
    "# winning team details \n",
    "ncaa_results = ncaa_results.merge(teams, how='left', left_on='WTeamID', right_on='TeamID')\n",
    "ncaa_results.rename(columns={'TeamName': 'WTeamName',\n",
    "                             'FirstD1Season': 'WTeamFirstD1Season',\n",
    "                             'LastD1Season': 'WTeamLastD1Season'}, inplace=True)\n",
    "ncaa_results.drop('TeamID', axis=1, inplace=True)\n",
    "\n",
    "# losing team details \n",
    "ncaa_results = ncaa_results.merge(teams, how='left', left_on='LTeamID', right_on='TeamID')\n",
    "ncaa_results.rename(columns={'TeamName':'LTeamName',\n",
    "                             'FirstD1Season': 'LTeamFirstD1Season',\n",
    "                             'LastD1Season': 'LTeamLastD1Season'}, inplace=True)\n",
    "ncaa_results.drop('TeamID', axis=1, inplace=True)"
   ]
  },
  {
   "cell_type": "code",
   "execution_count": 15,
   "metadata": {},
   "outputs": [
    {
     "data": {
      "text/html": [
       "<div>\n",
       "<style scoped>\n",
       "    .dataframe tbody tr th:only-of-type {\n",
       "        vertical-align: middle;\n",
       "    }\n",
       "\n",
       "    .dataframe tbody tr th {\n",
       "        vertical-align: top;\n",
       "    }\n",
       "\n",
       "    .dataframe thead th {\n",
       "        text-align: right;\n",
       "    }\n",
       "</style>\n",
       "<table border=\"1\" class=\"dataframe\">\n",
       "  <thead>\n",
       "    <tr style=\"text-align: right;\">\n",
       "      <th></th>\n",
       "      <th>Season</th>\n",
       "      <th>DayNum</th>\n",
       "      <th>WTeamID</th>\n",
       "      <th>WScore</th>\n",
       "      <th>LTeamID</th>\n",
       "      <th>LScore</th>\n",
       "      <th>WLoc</th>\n",
       "      <th>NumOT</th>\n",
       "      <th>WTeamSeed</th>\n",
       "      <th>LTeamSeed</th>\n",
       "      <th>SeasonStart</th>\n",
       "      <th>WTeamRegion</th>\n",
       "      <th>LTeamRegion</th>\n",
       "      <th>WTeamName</th>\n",
       "      <th>WTeamFirstD1Season</th>\n",
       "      <th>WTeamLastD1Season</th>\n",
       "      <th>LTeamName</th>\n",
       "      <th>LTeamFirstD1Season</th>\n",
       "      <th>LTeamLastD1Season</th>\n",
       "    </tr>\n",
       "  </thead>\n",
       "  <tbody>\n",
       "    <tr>\n",
       "      <th>0</th>\n",
       "      <td>1985</td>\n",
       "      <td>136</td>\n",
       "      <td>1116</td>\n",
       "      <td>63</td>\n",
       "      <td>1234</td>\n",
       "      <td>54</td>\n",
       "      <td>N</td>\n",
       "      <td>0</td>\n",
       "      <td>X09</td>\n",
       "      <td>X08</td>\n",
       "      <td>10/29/1984</td>\n",
       "      <td>West</td>\n",
       "      <td>West</td>\n",
       "      <td>Arkansas</td>\n",
       "      <td>1985.0</td>\n",
       "      <td>2023.0</td>\n",
       "      <td>Iowa</td>\n",
       "      <td>1985.0</td>\n",
       "      <td>2023.0</td>\n",
       "    </tr>\n",
       "    <tr>\n",
       "      <th>1</th>\n",
       "      <td>1985</td>\n",
       "      <td>136</td>\n",
       "      <td>1120</td>\n",
       "      <td>59</td>\n",
       "      <td>1345</td>\n",
       "      <td>58</td>\n",
       "      <td>N</td>\n",
       "      <td>0</td>\n",
       "      <td>Z11</td>\n",
       "      <td>Z06</td>\n",
       "      <td>10/29/1984</td>\n",
       "      <td>Southeast</td>\n",
       "      <td>Southeast</td>\n",
       "      <td>Auburn</td>\n",
       "      <td>1985.0</td>\n",
       "      <td>2023.0</td>\n",
       "      <td>Purdue</td>\n",
       "      <td>1985.0</td>\n",
       "      <td>2023.0</td>\n",
       "    </tr>\n",
       "    <tr>\n",
       "      <th>2</th>\n",
       "      <td>1985</td>\n",
       "      <td>136</td>\n",
       "      <td>1207</td>\n",
       "      <td>68</td>\n",
       "      <td>1250</td>\n",
       "      <td>43</td>\n",
       "      <td>N</td>\n",
       "      <td>0</td>\n",
       "      <td>W01</td>\n",
       "      <td>W16</td>\n",
       "      <td>10/29/1984</td>\n",
       "      <td>East</td>\n",
       "      <td>East</td>\n",
       "      <td>Georgetown</td>\n",
       "      <td>1985.0</td>\n",
       "      <td>2023.0</td>\n",
       "      <td>Lehigh</td>\n",
       "      <td>1985.0</td>\n",
       "      <td>2023.0</td>\n",
       "    </tr>\n",
       "    <tr>\n",
       "      <th>3</th>\n",
       "      <td>1985</td>\n",
       "      <td>136</td>\n",
       "      <td>1229</td>\n",
       "      <td>58</td>\n",
       "      <td>1425</td>\n",
       "      <td>55</td>\n",
       "      <td>N</td>\n",
       "      <td>0</td>\n",
       "      <td>Y09</td>\n",
       "      <td>Y08</td>\n",
       "      <td>10/29/1984</td>\n",
       "      <td>Midwest</td>\n",
       "      <td>Midwest</td>\n",
       "      <td>Illinois St</td>\n",
       "      <td>1985.0</td>\n",
       "      <td>2023.0</td>\n",
       "      <td>USC</td>\n",
       "      <td>1985.0</td>\n",
       "      <td>2023.0</td>\n",
       "    </tr>\n",
       "    <tr>\n",
       "      <th>4</th>\n",
       "      <td>1985</td>\n",
       "      <td>136</td>\n",
       "      <td>1242</td>\n",
       "      <td>49</td>\n",
       "      <td>1325</td>\n",
       "      <td>38</td>\n",
       "      <td>N</td>\n",
       "      <td>0</td>\n",
       "      <td>Z03</td>\n",
       "      <td>Z14</td>\n",
       "      <td>10/29/1984</td>\n",
       "      <td>Southeast</td>\n",
       "      <td>Southeast</td>\n",
       "      <td>Kansas</td>\n",
       "      <td>1985.0</td>\n",
       "      <td>2023.0</td>\n",
       "      <td>Ohio</td>\n",
       "      <td>1985.0</td>\n",
       "      <td>2023.0</td>\n",
       "    </tr>\n",
       "  </tbody>\n",
       "</table>\n",
       "</div>"
      ],
      "text/plain": [
       "   Season  DayNum  WTeamID  WScore  LTeamID  LScore WLoc  NumOT WTeamSeed  \\\n",
       "0    1985     136     1116      63     1234      54    N      0       X09   \n",
       "1    1985     136     1120      59     1345      58    N      0       Z11   \n",
       "2    1985     136     1207      68     1250      43    N      0       W01   \n",
       "3    1985     136     1229      58     1425      55    N      0       Y09   \n",
       "4    1985     136     1242      49     1325      38    N      0       Z03   \n",
       "\n",
       "  LTeamSeed SeasonStart WTeamRegion LTeamRegion    WTeamName  \\\n",
       "0       X08  10/29/1984        West        West     Arkansas   \n",
       "1       Z06  10/29/1984   Southeast   Southeast       Auburn   \n",
       "2       W16  10/29/1984        East        East   Georgetown   \n",
       "3       Y08  10/29/1984     Midwest     Midwest  Illinois St   \n",
       "4       Z14  10/29/1984   Southeast   Southeast       Kansas   \n",
       "\n",
       "   WTeamFirstD1Season  WTeamLastD1Season LTeamName  LTeamFirstD1Season  \\\n",
       "0              1985.0             2023.0      Iowa              1985.0   \n",
       "1              1985.0             2023.0    Purdue              1985.0   \n",
       "2              1985.0             2023.0    Lehigh              1985.0   \n",
       "3              1985.0             2023.0       USC              1985.0   \n",
       "4              1985.0             2023.0      Ohio              1985.0   \n",
       "\n",
       "   LTeamLastD1Season  \n",
       "0             2023.0  \n",
       "1             2023.0  \n",
       "2             2023.0  \n",
       "3             2023.0  \n",
       "4             2023.0  "
      ]
     },
     "execution_count": 15,
     "metadata": {},
     "output_type": "execute_result"
    }
   ],
   "source": [
    "ncaa_results.head()"
   ]
  },
  {
   "cell_type": "code",
   "execution_count": null,
   "metadata": {},
   "outputs": [],
   "source": []
  }
 ],
 "metadata": {
  "kernelspec": {
   "display_name": "kaggle",
   "language": "python",
   "name": "python3"
  },
  "language_info": {
   "codemirror_mode": {
    "name": "ipython",
    "version": 3
   },
   "file_extension": ".py",
   "mimetype": "text/x-python",
   "name": "python",
   "nbconvert_exporter": "python",
   "pygments_lexer": "ipython3",
   "version": "3.10.9"
  },
  "orig_nbformat": 4
 },
 "nbformat": 4,
 "nbformat_minor": 2
}
