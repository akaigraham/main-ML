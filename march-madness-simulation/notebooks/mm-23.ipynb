{
 "cells": [
  {
   "attachments": {},
   "cell_type": "markdown",
   "metadata": {},
   "source": [
    "# Kaggle March Madness Competition"
   ]
  },
  {
   "cell_type": "code",
   "execution_count": 1,
   "metadata": {},
   "outputs": [],
   "source": [
    "from pathlib import Path\n",
    "import os\n",
    "import pandas as pd"
   ]
  },
  {
   "cell_type": "code",
   "execution_count": 2,
   "metadata": {},
   "outputs": [],
   "source": [
    "# set path to data directories\n",
    "raw_data = Path('../march-machine-learning-mania-2023/')\n",
    "data_path = Path('../data/')"
   ]
  },
  {
   "attachments": {},
   "cell_type": "markdown",
   "metadata": {},
   "source": [
    "## Load Relevant Raw Data"
   ]
  },
  {
   "cell_type": "code",
   "execution_count": 3,
   "metadata": {},
   "outputs": [],
   "source": [
    "# teams\n",
    "m_teams = pd.read_csv(raw_data/'MTeams.csv')\n",
    "w_teams = pd.read_csv(raw_data/'WTeams.csv')\n",
    "\n",
    "# seasons\n",
    "m_seasons = pd.read_csv(raw_data/'MSeasons.csv')\n",
    "w_seasons = pd.read_csv(raw_data/'WSeasons.csv')\n",
    "\n",
    "# NCAA tournament seeds\n",
    "m_seeds = pd.read_csv(raw_data/'MNCAATourneySeeds.csv')\n",
    "w_seeds = pd.read_csv(raw_data/'WNCAATourneySeeds.csv')\n",
    "\n",
    "# compact regular season results\n",
    "m_season_compact = pd.read_csv(raw_data/'MRegularSeasonCompactResults.csv')\n",
    "w_season_compact = pd.read_csv(raw_data/'WRegularSeasonCompactResults.csv')\n",
    "\n",
    "# compact tournament results\n",
    "m_ncaa_compact = pd.read_csv(raw_data/'MNCAATourneyCompactResults.csv')\n",
    "w_ncaa_compact = pd.read_csv(raw_data/'WNCAATourneyCompactResults.csv')\n",
    "\n",
    "# sample submission file\n",
    "samp_submission = pd.read_csv(raw_data/'SampleSubmission2023.csv')"
   ]
  },
  {
   "attachments": {},
   "cell_type": "markdown",
   "metadata": {},
   "source": [
    "## Preprocess Data"
   ]
  },
  {
   "cell_type": "code",
   "execution_count": 4,
   "metadata": {},
   "outputs": [],
   "source": [
    "# concat mens and womens datasets\n",
    "teams = pd.concat([m_teams, w_teams], axis=0)\n",
    "seasons = pd.concat([m_seasons, w_seasons], axis=0)\n",
    "seeds = pd.concat([m_seeds, w_seeds], axis=0)\n",
    "season_results = pd.concat([m_season_compact, w_season_compact], axis=0)\n",
    "ncaa_results = pd.concat([m_ncaa_compact, w_ncaa_compact])"
   ]
  },
  {
   "cell_type": "code",
   "execution_count": 5,
   "metadata": {},
   "outputs": [],
   "source": [
    "# add winning team seeds to ncaa_results\n",
    "ncaa_results = ncaa_results.merge(seeds, how='left', left_on=['WTeamID', 'Season'], right_on=['TeamID', 'Season'])\n",
    "ncaa_results.rename(columns={'Seed': 'WTeamSeed'}, inplace=True)\n",
    "ncaa_results.drop('TeamID', axis=1, inplace=True)\n",
    "\n",
    "# add losing team seeds\n",
    "ncaa_results = ncaa_results.merge(seeds, how='left', left_on=['LTeamID', 'Season'], right_on=['TeamID', 'Season'])\n",
    "ncaa_results.rename(columns={'Seed':'LTeamSeed'}, inplace=True)\n",
    "ncaa_results.drop('TeamID', axis=1, inplace=True)"
   ]
  },
  {
   "cell_type": "code",
   "execution_count": 6,
   "metadata": {},
   "outputs": [],
   "source": [
    "# rename season columns\n",
    "seasons.columns = ['Season', 'SeasonStart', 'RegionW', 'RegionX', 'RegionY', 'RegionZ']\n",
    "\n",
    "# add to ncaa_results\n",
    "ncaa_results = ncaa_results.merge(seasons, how='left', on='Season')"
   ]
  },
  {
   "cell_type": "code",
   "execution_count": 7,
   "metadata": {},
   "outputs": [],
   "source": [
    "# identify team regions based on seed\n",
    "ncaa_results['WTeamRegion'] = ncaa_results['WTeamSeed'].apply(lambda x: x[0])\n",
    "ncaa_results['LTeamRegion'] = ncaa_results['LTeamSeed'].apply(lambda x: x[0])"
   ]
  },
  {
   "cell_type": "code",
   "execution_count": 8,
   "metadata": {},
   "outputs": [],
   "source": [
    "# create mapping dict for regions\n",
    "ncaa_results['mapping_dict'] = ncaa_results.apply(lambda x: {'W': x['RegionW'], \n",
    "                                                             'X': x['RegionX'],\n",
    "                                                             'Y': x['RegionY'],\n",
    "                                                             'Z': x['RegionZ']}, axis=1)"
   ]
  },
  {
   "cell_type": "code",
   "execution_count": 9,
   "metadata": {},
   "outputs": [],
   "source": [
    "# replace region codes with the proper region name\n",
    "ncaa_results['WTeamRegion'] = ncaa_results.apply(lambda x: x['mapping_dict'][x['WTeamRegion']], axis=1)\n",
    "ncaa_results['LTeamRegion'] = ncaa_results.apply(lambda x: x['mapping_dict'][x['LTeamRegion']], axis=1)"
   ]
  },
  {
   "cell_type": "code",
   "execution_count": 10,
   "metadata": {},
   "outputs": [],
   "source": [
    "# drop unnecessary columns\n",
    "ncaa_results.drop(['RegionW', 'RegionX', 'RegionY', 'RegionZ', 'mapping_dict'], axis=1, inplace=True)"
   ]
  },
  {
   "cell_type": "code",
   "execution_count": 11,
   "metadata": {},
   "outputs": [],
   "source": [
    "# winning team details \n",
    "ncaa_results = ncaa_results.merge(teams, how='left', left_on='WTeamID', right_on='TeamID')\n",
    "ncaa_results.rename(columns={'TeamName': 'WTeamName',\n",
    "                             'FirstD1Season': 'WTeamFirstD1Season',\n",
    "                             'LastD1Season': 'WTeamLastD1Season'}, inplace=True)\n",
    "ncaa_results.drop('TeamID', axis=1, inplace=True)\n",
    "\n",
    "# losing team details \n",
    "ncaa_results = ncaa_results.merge(teams, how='left', left_on='LTeamID', right_on='TeamID')\n",
    "ncaa_results.rename(columns={'TeamName':'LTeamName',\n",
    "                             'FirstD1Season': 'LTeamFirstD1Season',\n",
    "                             'LastD1Season': 'LTeamLastD1Season'}, inplace=True)\n",
    "ncaa_results.drop('TeamID', axis=1, inplace=True)"
   ]
  },
  {
   "cell_type": "code",
   "execution_count": 12,
   "metadata": {},
   "outputs": [],
   "source": [
    "# add columns \n",
    "season_results['WTeamScoreDiff'] = season_results['WScore'] - season_results['LScore']\n",
    "season_results['LTeamScoreDiff'] = season_results['LScore'] - season_results['WScore']"
   ]
  },
  {
   "cell_type": "code",
   "execution_count": 13,
   "metadata": {},
   "outputs": [],
   "source": [
    "# regular season games won\n",
    "grouped = season_results.groupby(['Season', 'WTeamID']).count().reset_index()\n",
    "grouped = grouped[['Season', 'WTeamID', 'WScore']]\n",
    "grouped.columns = ['Season', 'TeamID', 'GamesWon']\n",
    "\n",
    "# concat into ncaa_results on WTeam\n",
    "ncaa_results = ncaa_results.merge(grouped, how='left', left_on=['Season', 'WTeamID'], right_on=['Season', 'TeamID'])\n",
    "ncaa_results.drop('TeamID', axis=1, inplace=True)\n",
    "ncaa_results.rename(columns={'GamesWon':'WTeamGamesWon'}, inplace=True)\n",
    "\n",
    "# concat into ncaa_results on LTeam\n",
    "ncaa_results = ncaa_results.merge(grouped, how='left', left_on=['Season', 'LTeamID'], right_on=['Season', 'TeamID'])\n",
    "ncaa_results.drop('TeamID', axis=1, inplace=True)\n",
    "ncaa_results.rename(columns={'GamesWon':'LTeamGamesWon'}, inplace=True)"
   ]
  },
  {
   "cell_type": "code",
   "execution_count": 14,
   "metadata": {},
   "outputs": [],
   "source": [
    "# regular season games lost\n",
    "grouped = season_results.groupby(['Season', 'LTeamID']).count().reset_index()\n",
    "grouped = grouped[['Season', 'LTeamID', 'LScore']]\n",
    "grouped.columns = ['Season', 'TeamID', 'GamesLost']\n",
    "\n",
    "# concat into ncaa_results on WTeam\n",
    "ncaa_results = ncaa_results.merge(grouped, how='left', left_on=['Season', 'WTeamID'], right_on=['Season', 'TeamID'])\n",
    "ncaa_results.drop('TeamID', axis=1, inplace=True)\n",
    "ncaa_results.rename(columns={'GamesLost':'WTeamGamesLost'}, inplace=True)\n",
    "\n",
    "# concat into ncaa_results on LTeam\n",
    "ncaa_results = ncaa_results.merge(grouped, how='left', left_on=['Season', 'LTeamID'], right_on=['Season', 'TeamID'])\n",
    "ncaa_results.drop('TeamID', axis=1, inplace=True)\n",
    "ncaa_results.rename(columns={'GamesLost':'LTeamGamesLost'}, inplace=True)"
   ]
  },
  {
   "cell_type": "code",
   "execution_count": 15,
   "metadata": {},
   "outputs": [],
   "source": [
    "# average regular season point differential\n",
    "grouped_win = season_results.groupby(['Season', 'WTeamID']).mean(numeric_only=True).reset_index()\n",
    "grouped_lose = season_results.groupby(['Season', 'LTeamID']).mean(numeric_only=True).reset_index()\n",
    "\n",
    "# Win score diff\n",
    "grouped_win = grouped_win[['Season', 'WTeamID', 'WTeamScoreDiff']]\n",
    "grouped_win.columns = ['Season', 'TeamID', 'MeanWinScoreDiff']\n",
    "\n",
    "# Lose score diff\n",
    "grouped_lose = grouped_lose[['Season', 'LTeamID', 'LTeamScoreDiff']]\n",
    "grouped_lose.columns = ['Season', 'TeamID', 'MeanLoseScoreDiff']"
   ]
  },
  {
   "cell_type": "code",
   "execution_count": null,
   "metadata": {},
   "outputs": [],
   "source": []
  },
  {
   "cell_type": "code",
   "execution_count": null,
   "metadata": {},
   "outputs": [],
   "source": []
  },
  {
   "cell_type": "code",
   "execution_count": null,
   "metadata": {},
   "outputs": [],
   "source": []
  },
  {
   "cell_type": "code",
   "execution_count": null,
   "metadata": {},
   "outputs": [],
   "source": []
  },
  {
   "cell_type": "code",
   "execution_count": null,
   "metadata": {},
   "outputs": [],
   "source": []
  }
 ],
 "metadata": {
  "kernelspec": {
   "display_name": "kaggle",
   "language": "python",
   "name": "python3"
  },
  "language_info": {
   "codemirror_mode": {
    "name": "ipython",
    "version": 3
   },
   "file_extension": ".py",
   "mimetype": "text/x-python",
   "name": "python",
   "nbconvert_exporter": "python",
   "pygments_lexer": "ipython3",
   "version": "3.10.9"
  },
  "orig_nbformat": 4
 },
 "nbformat": 4,
 "nbformat_minor": 2
}
