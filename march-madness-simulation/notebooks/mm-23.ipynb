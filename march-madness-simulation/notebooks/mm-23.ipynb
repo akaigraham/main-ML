{
 "cells": [
  {
   "attachments": {},
   "cell_type": "markdown",
   "metadata": {},
   "source": [
    "# Kaggle March Madness Competition"
   ]
  },
  {
   "cell_type": "code",
   "execution_count": 1,
   "metadata": {},
   "outputs": [],
   "source": [
    "from pathlib import Path\n",
    "import os\n",
    "import pandas as pd"
   ]
  },
  {
   "cell_type": "code",
   "execution_count": 2,
   "metadata": {},
   "outputs": [],
   "source": [
    "# set path to data directories\n",
    "raw_data = Path('../march-machine-learning-mania-2023/')\n",
    "data_path = Path('../data/')"
   ]
  },
  {
   "attachments": {},
   "cell_type": "markdown",
   "metadata": {},
   "source": [
    "## Load Relevant Raw Data"
   ]
  },
  {
   "cell_type": "code",
   "execution_count": 3,
   "metadata": {},
   "outputs": [],
   "source": [
    "# teams\n",
    "m_teams = pd.read_csv(raw_data/'MTeams.csv')\n",
    "w_teams = pd.read_csv(raw_data/'WTeams.csv')\n",
    "\n",
    "# seasons\n",
    "m_seasons = pd.read_csv(raw_data/'MSeasons.csv')\n",
    "w_seasons = pd.read_csv(raw_data/'WSeasons.csv')\n",
    "\n",
    "# NCAA tournament seeds\n",
    "m_seeds = pd.read_csv(raw_data/'MNCAATourneySeeds.csv')\n",
    "w_seeds = pd.read_csv(raw_data/'WNCAATourneySeeds.csv')\n",
    "\n",
    "# compact regular season results\n",
    "m_season_compact = pd.read_csv(raw_data/'MRegularSeasonCompactResults.csv')\n",
    "w_season_compact = pd.read_csv(raw_data/'WRegularSeasonCompactResults.csv')\n",
    "\n",
    "# compact tournament results\n",
    "m_ncaa_compact = pd.read_csv(raw_data/'MNCAATourneyCompactResults.csv')\n",
    "w_ncaa_compact = pd.read_csv(raw_data/'WNCAATourneyCompactResults.csv')\n",
    "\n",
    "# sample submission file\n",
    "samp_submission = pd.read_csv(raw_data/'SampleSubmission2023.csv')"
   ]
  },
  {
   "attachments": {},
   "cell_type": "markdown",
   "metadata": {},
   "source": [
    "## Preprocess Data"
   ]
  },
  {
   "cell_type": "code",
   "execution_count": 4,
   "metadata": {},
   "outputs": [],
   "source": [
    "# concat mens and womens datasets\n",
    "teams = pd.concat([m_teams, w_teams], axis=0)\n",
    "seasons = pd.concat([m_seasons, w_seasons], axis=0)\n",
    "seeds = pd.concat([m_seeds, w_seeds], axis=0)\n",
    "season_results = pd.concat([m_season_compact, w_season_compact], axis=0)\n",
    "ncaa_results = pd.concat([m_ncaa_compact, w_ncaa_compact])"
   ]
  },
  {
   "cell_type": "code",
   "execution_count": 5,
   "metadata": {},
   "outputs": [],
   "source": [
    "# add winning team seeds to ncaa_results\n",
    "ncaa_results = ncaa_results.merge(seeds, how='left', left_on=['WTeamID', 'Season'], right_on=['TeamID', 'Season'])\n",
    "ncaa_results.rename(columns={'Seed': 'WTeamSeed'}, inplace=True)\n",
    "ncaa_results.drop('TeamID', axis=1, inplace=True)\n",
    "\n",
    "# add losing team seeds\n",
    "ncaa_results = ncaa_results.merge(seeds, how='left', left_on=['LTeamID', 'Season'], right_on=['TeamID', 'Season'])\n",
    "ncaa_results.rename(columns={'Seed':'LTeamSeed'}, inplace=True)\n",
    "ncaa_results.drop('TeamID', axis=1, inplace=True)"
   ]
  },
  {
   "cell_type": "code",
   "execution_count": 6,
   "metadata": {},
   "outputs": [],
   "source": [
    "# rename season columns\n",
    "seasons.columns = ['Season', 'SeasonStart', 'RegionW', 'RegionX', 'RegionY', 'RegionZ']\n",
    "\n",
    "# add to ncaa_results\n",
    "ncaa_results = ncaa_results.merge(seasons, how='left', on='Season')"
   ]
  },
  {
   "cell_type": "code",
   "execution_count": 7,
   "metadata": {},
   "outputs": [],
   "source": [
    "# identify team regions based on seed\n",
    "ncaa_results['WTeamRegion'] = ncaa_results['WTeamSeed'].apply(lambda x: x[0])\n",
    "ncaa_results['LTeamRegion'] = ncaa_results['LTeamSeed'].apply(lambda x: x[0])"
   ]
  },
  {
   "cell_type": "code",
   "execution_count": 8,
   "metadata": {},
   "outputs": [],
   "source": [
    "# create mapping dict for regions\n",
    "ncaa_results['mapping_dict'] = ncaa_results.apply(lambda x: {'W': x['RegionW'], \n",
    "                                                             'X': x['RegionX'],\n",
    "                                                             'Y': x['RegionY'],\n",
    "                                                             'Z': x['RegionZ']}, axis=1)"
   ]
  },
  {
   "cell_type": "code",
   "execution_count": 9,
   "metadata": {},
   "outputs": [],
   "source": [
    "# replace region codes with the proper region name\n",
    "ncaa_results['WTeamRegion'] = ncaa_results.apply(lambda x: x['mapping_dict'][x['WTeamRegion']], axis=1)\n",
    "ncaa_results['LTeamRegion'] = ncaa_results.apply(lambda x: x['mapping_dict'][x['LTeamRegion']], axis=1)"
   ]
  },
  {
   "cell_type": "code",
   "execution_count": 10,
   "metadata": {},
   "outputs": [],
   "source": [
    "# drop unnecessary columns\n",
    "ncaa_results.drop(['RegionW', 'RegionX', 'RegionY', 'RegionZ', 'mapping_dict'], axis=1, inplace=True)"
   ]
  },
  {
   "cell_type": "code",
   "execution_count": 11,
   "metadata": {},
   "outputs": [],
   "source": [
    "# winning team details \n",
    "ncaa_results = ncaa_results.merge(teams, how='left', left_on='WTeamID', right_on='TeamID')\n",
    "ncaa_results.rename(columns={'TeamName': 'WTeamName',\n",
    "                             'FirstD1Season': 'WTeamFirstD1Season',\n",
    "                             'LastD1Season': 'WTeamLastD1Season'}, inplace=True)\n",
    "ncaa_results.drop('TeamID', axis=1, inplace=True)\n",
    "\n",
    "# losing team details \n",
    "ncaa_results = ncaa_results.merge(teams, how='left', left_on='LTeamID', right_on='TeamID')\n",
    "ncaa_results.rename(columns={'TeamName':'LTeamName',\n",
    "                             'FirstD1Season': 'LTeamFirstD1Season',\n",
    "                             'LastD1Season': 'LTeamLastD1Season'}, inplace=True)\n",
    "ncaa_results.drop('TeamID', axis=1, inplace=True)"
   ]
  },
  {
   "cell_type": "code",
   "execution_count": 12,
   "metadata": {},
   "outputs": [],
   "source": [
    "# add columns \n",
    "season_results['WTeamScoreDiff'] = season_results['WScore'] - season_results['LScore']\n",
    "season_results['LTeamScoreDiff'] = season_results['LScore'] - season_results['WScore']"
   ]
  },
  {
   "cell_type": "code",
   "execution_count": 13,
   "metadata": {},
   "outputs": [],
   "source": [
    "# regular season games won\n",
    "grouped = season_results.groupby(['Season', 'WTeamID']).count().reset_index()\n",
    "grouped = grouped[['Season', 'WTeamID', 'WScore']]\n",
    "grouped.columns = ['Season', 'TeamID', 'GamesWon']\n",
    "\n",
    "# concat into ncaa_results on WTeam\n",
    "ncaa_results = ncaa_results.merge(grouped, how='left', left_on=['Season', 'WTeamID'], right_on=['Season', 'TeamID'])\n",
    "ncaa_results.drop('TeamID', axis=1, inplace=True)\n",
    "ncaa_results.rename(columns={'GamesWon':'WTeamGamesWon'}, inplace=True)\n",
    "\n",
    "# concat into ncaa_results on LTeam\n",
    "ncaa_results = ncaa_results.merge(grouped, how='left', left_on=['Season', 'LTeamID'], right_on=['Season', 'TeamID'])\n",
    "ncaa_results.drop('TeamID', axis=1, inplace=True)\n",
    "ncaa_results.rename(columns={'GamesWon':'LTeamGamesWon'}, inplace=True)"
   ]
  },
  {
   "cell_type": "code",
   "execution_count": 14,
   "metadata": {},
   "outputs": [],
   "source": [
    "# regular season games lost\n",
    "grouped = season_results.groupby(['Season', 'LTeamID']).count().reset_index()\n",
    "grouped = grouped[['Season', 'LTeamID', 'LScore']]\n",
    "grouped.columns = ['Season', 'TeamID', 'GamesLost']\n",
    "\n",
    "# concat into ncaa_results on WTeam\n",
    "ncaa_results = ncaa_results.merge(grouped, how='left', left_on=['Season', 'WTeamID'], right_on=['Season', 'TeamID'])\n",
    "ncaa_results.drop('TeamID', axis=1, inplace=True)\n",
    "ncaa_results.rename(columns={'GamesLost':'WTeamGamesLost'}, inplace=True)\n",
    "\n",
    "# concat into ncaa_results on LTeam\n",
    "ncaa_results = ncaa_results.merge(grouped, how='left', left_on=['Season', 'LTeamID'], right_on=['Season', 'TeamID'])\n",
    "ncaa_results.drop('TeamID', axis=1, inplace=True)\n",
    "ncaa_results.rename(columns={'GamesLost':'LTeamGamesLost'}, inplace=True)"
   ]
  },
  {
   "cell_type": "code",
   "execution_count": 15,
   "metadata": {},
   "outputs": [],
   "source": [
    "# average regular season point differential\n",
    "grouped_win = season_results.groupby(['Season', 'WTeamID']).mean(numeric_only=True).reset_index()\n",
    "grouped_lose = season_results.groupby(['Season', 'LTeamID']).mean(numeric_only=True).reset_index()\n",
    "\n",
    "# Win score diff\n",
    "grouped_win = grouped_win[['Season', 'WTeamID', 'WTeamScoreDiff']]\n",
    "grouped_win.columns = ['Season', 'TeamID', 'MeanWinScoreDiff']\n",
    "\n",
    "# Lose score diff\n",
    "grouped_lose = grouped_lose[['Season', 'LTeamID', 'LTeamScoreDiff']]\n",
    "grouped_lose.columns = ['Season', 'TeamID', 'MeanLoseScoreDiff']"
   ]
  },
  {
   "cell_type": "code",
   "execution_count": 16,
   "metadata": {},
   "outputs": [],
   "source": [
    "# concat winning team meanwinscorediff\n",
    "ncaa_results = ncaa_results.merge(grouped_win, how='left', left_on=['Season', 'WTeamID'], right_on=['Season', 'TeamID'])\n",
    "ncaa_results.drop('TeamID', axis=1, inplace=True)\n",
    "ncaa_results.rename(columns={'MeanWinScoreDiff':'WTeamMeanWinDiff'}, inplace=True)\n",
    "\n",
    "# concat losing team meanwinscorediff\n",
    "ncaa_results = ncaa_results.merge(grouped_win, how='left', left_on=['Season', 'LTeamID'], right_on=['Season', 'TeamID'])\n",
    "ncaa_results.drop('TeamID', axis=1, inplace=True)\n",
    "ncaa_results.rename(columns={'MeanWinScoreDiff':'LTeamMeanWinDiff'}, inplace=True)"
   ]
  },
  {
   "cell_type": "code",
   "execution_count": 17,
   "metadata": {},
   "outputs": [],
   "source": [
    "# concat winning team mean lose score diff\n",
    "ncaa_results = ncaa_results.merge(grouped_lose, how='left', left_on=['Season', 'WTeamID'], right_on=['Season', 'TeamID'])\n",
    "ncaa_results.drop('TeamID', axis=1, inplace=True)\n",
    "ncaa_results.rename(columns={'MeanLoseScoreDiff':'WTeamMeanLoseDiff'}, inplace=True)\n",
    "\n",
    "# concat losing team mean lose score diff\n",
    "ncaa_results = ncaa_results.merge(grouped_lose, how='left', left_on=['Season', 'LTeamID'], right_on=['Season', 'TeamID'])\n",
    "ncaa_results.drop('TeamID', axis=1, inplace=True)\n",
    "ncaa_results.rename(columns={'MeanLoseScoreDiff':'LTeamMeanLoseDiff'}, inplace=True)"
   ]
  },
  {
   "cell_type": "code",
   "execution_count": 18,
   "metadata": {},
   "outputs": [
    {
     "data": {
      "text/html": [
       "<div>\n",
       "<style scoped>\n",
       "    .dataframe tbody tr th:only-of-type {\n",
       "        vertical-align: middle;\n",
       "    }\n",
       "\n",
       "    .dataframe tbody tr th {\n",
       "        vertical-align: top;\n",
       "    }\n",
       "\n",
       "    .dataframe thead th {\n",
       "        text-align: right;\n",
       "    }\n",
       "</style>\n",
       "<table border=\"1\" class=\"dataframe\">\n",
       "  <thead>\n",
       "    <tr style=\"text-align: right;\">\n",
       "      <th></th>\n",
       "      <th>Season</th>\n",
       "      <th>DayNum</th>\n",
       "      <th>WTeamID</th>\n",
       "      <th>WScore</th>\n",
       "      <th>LTeamID</th>\n",
       "      <th>LScore</th>\n",
       "      <th>WLoc</th>\n",
       "      <th>NumOT</th>\n",
       "      <th>WTeamSeed</th>\n",
       "      <th>LTeamSeed</th>\n",
       "      <th>...</th>\n",
       "      <th>LTeamFirstD1Season</th>\n",
       "      <th>LTeamLastD1Season</th>\n",
       "      <th>WTeamGamesWon</th>\n",
       "      <th>LTeamGamesWon</th>\n",
       "      <th>WTeamGamesLost</th>\n",
       "      <th>LTeamGamesLost</th>\n",
       "      <th>WTeamMeanWinDiff</th>\n",
       "      <th>LTeamMeanWinDiff</th>\n",
       "      <th>WTeamMeanLoseDiff</th>\n",
       "      <th>LTeamMeanLoseDiff</th>\n",
       "    </tr>\n",
       "  </thead>\n",
       "  <tbody>\n",
       "    <tr>\n",
       "      <th>0</th>\n",
       "      <td>1985</td>\n",
       "      <td>136</td>\n",
       "      <td>1116</td>\n",
       "      <td>63</td>\n",
       "      <td>1234</td>\n",
       "      <td>54</td>\n",
       "      <td>N</td>\n",
       "      <td>0</td>\n",
       "      <td>X09</td>\n",
       "      <td>X08</td>\n",
       "      <td>...</td>\n",
       "      <td>1985.0</td>\n",
       "      <td>2023.0</td>\n",
       "      <td>21</td>\n",
       "      <td>20</td>\n",
       "      <td>12.0</td>\n",
       "      <td>10.0</td>\n",
       "      <td>10.333333</td>\n",
       "      <td>18.450000</td>\n",
       "      <td>-8.083333</td>\n",
       "      <td>-5.500000</td>\n",
       "    </tr>\n",
       "    <tr>\n",
       "      <th>1</th>\n",
       "      <td>1985</td>\n",
       "      <td>136</td>\n",
       "      <td>1120</td>\n",
       "      <td>59</td>\n",
       "      <td>1345</td>\n",
       "      <td>58</td>\n",
       "      <td>N</td>\n",
       "      <td>0</td>\n",
       "      <td>Z11</td>\n",
       "      <td>Z06</td>\n",
       "      <td>...</td>\n",
       "      <td>1985.0</td>\n",
       "      <td>2023.0</td>\n",
       "      <td>18</td>\n",
       "      <td>17</td>\n",
       "      <td>11.0</td>\n",
       "      <td>8.0</td>\n",
       "      <td>11.833333</td>\n",
       "      <td>12.529412</td>\n",
       "      <td>-9.636364</td>\n",
       "      <td>-14.750000</td>\n",
       "    </tr>\n",
       "    <tr>\n",
       "      <th>2</th>\n",
       "      <td>1985</td>\n",
       "      <td>136</td>\n",
       "      <td>1207</td>\n",
       "      <td>68</td>\n",
       "      <td>1250</td>\n",
       "      <td>43</td>\n",
       "      <td>N</td>\n",
       "      <td>0</td>\n",
       "      <td>W01</td>\n",
       "      <td>W16</td>\n",
       "      <td>...</td>\n",
       "      <td>1985.0</td>\n",
       "      <td>2023.0</td>\n",
       "      <td>25</td>\n",
       "      <td>11</td>\n",
       "      <td>2.0</td>\n",
       "      <td>18.0</td>\n",
       "      <td>17.040000</td>\n",
       "      <td>6.000000</td>\n",
       "      <td>-1.500000</td>\n",
       "      <td>-10.833333</td>\n",
       "    </tr>\n",
       "    <tr>\n",
       "      <th>3</th>\n",
       "      <td>1985</td>\n",
       "      <td>136</td>\n",
       "      <td>1229</td>\n",
       "      <td>58</td>\n",
       "      <td>1425</td>\n",
       "      <td>55</td>\n",
       "      <td>N</td>\n",
       "      <td>0</td>\n",
       "      <td>Y09</td>\n",
       "      <td>Y08</td>\n",
       "      <td>...</td>\n",
       "      <td>1985.0</td>\n",
       "      <td>2023.0</td>\n",
       "      <td>20</td>\n",
       "      <td>19</td>\n",
       "      <td>7.0</td>\n",
       "      <td>9.0</td>\n",
       "      <td>11.350000</td>\n",
       "      <td>9.421053</td>\n",
       "      <td>-9.428571</td>\n",
       "      <td>-8.111111</td>\n",
       "    </tr>\n",
       "    <tr>\n",
       "      <th>4</th>\n",
       "      <td>1985</td>\n",
       "      <td>136</td>\n",
       "      <td>1242</td>\n",
       "      <td>49</td>\n",
       "      <td>1325</td>\n",
       "      <td>38</td>\n",
       "      <td>N</td>\n",
       "      <td>0</td>\n",
       "      <td>Z03</td>\n",
       "      <td>Z14</td>\n",
       "      <td>...</td>\n",
       "      <td>1985.0</td>\n",
       "      <td>2023.0</td>\n",
       "      <td>23</td>\n",
       "      <td>20</td>\n",
       "      <td>7.0</td>\n",
       "      <td>7.0</td>\n",
       "      <td>10.043478</td>\n",
       "      <td>8.800000</td>\n",
       "      <td>-8.857143</td>\n",
       "      <td>-7.571429</td>\n",
       "    </tr>\n",
       "  </tbody>\n",
       "</table>\n",
       "<p>5 rows × 27 columns</p>\n",
       "</div>"
      ],
      "text/plain": [
       "   Season  DayNum  WTeamID  WScore  LTeamID  LScore WLoc  NumOT WTeamSeed  \\\n",
       "0    1985     136     1116      63     1234      54    N      0       X09   \n",
       "1    1985     136     1120      59     1345      58    N      0       Z11   \n",
       "2    1985     136     1207      68     1250      43    N      0       W01   \n",
       "3    1985     136     1229      58     1425      55    N      0       Y09   \n",
       "4    1985     136     1242      49     1325      38    N      0       Z03   \n",
       "\n",
       "  LTeamSeed  ... LTeamFirstD1Season LTeamLastD1Season WTeamGamesWon  \\\n",
       "0       X08  ...             1985.0            2023.0            21   \n",
       "1       Z06  ...             1985.0            2023.0            18   \n",
       "2       W16  ...             1985.0            2023.0            25   \n",
       "3       Y08  ...             1985.0            2023.0            20   \n",
       "4       Z14  ...             1985.0            2023.0            23   \n",
       "\n",
       "  LTeamGamesWon  WTeamGamesLost  LTeamGamesLost WTeamMeanWinDiff  \\\n",
       "0            20            12.0            10.0        10.333333   \n",
       "1            17            11.0             8.0        11.833333   \n",
       "2            11             2.0            18.0        17.040000   \n",
       "3            19             7.0             9.0        11.350000   \n",
       "4            20             7.0             7.0        10.043478   \n",
       "\n",
       "   LTeamMeanWinDiff  WTeamMeanLoseDiff  LTeamMeanLoseDiff  \n",
       "0         18.450000          -8.083333          -5.500000  \n",
       "1         12.529412          -9.636364         -14.750000  \n",
       "2          6.000000          -1.500000         -10.833333  \n",
       "3          9.421053          -9.428571          -8.111111  \n",
       "4          8.800000          -8.857143          -7.571429  \n",
       "\n",
       "[5 rows x 27 columns]"
      ]
     },
     "execution_count": 18,
     "metadata": {},
     "output_type": "execute_result"
    }
   ],
   "source": [
    "ncaa_results.head()"
   ]
  },
  {
   "cell_type": "code",
   "execution_count": 19,
   "metadata": {},
   "outputs": [
    {
     "data": {
      "text/html": [
       "<div>\n",
       "<style scoped>\n",
       "    .dataframe tbody tr th:only-of-type {\n",
       "        vertical-align: middle;\n",
       "    }\n",
       "\n",
       "    .dataframe tbody tr th {\n",
       "        vertical-align: top;\n",
       "    }\n",
       "\n",
       "    .dataframe thead th {\n",
       "        text-align: right;\n",
       "    }\n",
       "</style>\n",
       "<table border=\"1\" class=\"dataframe\">\n",
       "  <thead>\n",
       "    <tr style=\"text-align: right;\">\n",
       "      <th></th>\n",
       "      <th>Season</th>\n",
       "      <th>DayNum</th>\n",
       "      <th>WTeamID</th>\n",
       "      <th>WScore</th>\n",
       "      <th>LTeamID</th>\n",
       "      <th>LScore</th>\n",
       "      <th>WLoc</th>\n",
       "      <th>NumOT</th>\n",
       "      <th>WTeamSeed</th>\n",
       "      <th>LTeamSeed</th>\n",
       "      <th>...</th>\n",
       "      <th>LTeamFirstD1Season</th>\n",
       "      <th>LTeamLastD1Season</th>\n",
       "      <th>WTeamGamesWon</th>\n",
       "      <th>LTeamGamesWon</th>\n",
       "      <th>WTeamGamesLost</th>\n",
       "      <th>LTeamGamesLost</th>\n",
       "      <th>WTeamMeanWinDiff</th>\n",
       "      <th>LTeamMeanWinDiff</th>\n",
       "      <th>WTeamMeanLoseDiff</th>\n",
       "      <th>LTeamMeanLoseDiff</th>\n",
       "    </tr>\n",
       "  </thead>\n",
       "  <tbody>\n",
       "    <tr>\n",
       "      <th>0</th>\n",
       "      <td>1985</td>\n",
       "      <td>136</td>\n",
       "      <td>1116</td>\n",
       "      <td>63</td>\n",
       "      <td>1234</td>\n",
       "      <td>54</td>\n",
       "      <td>N</td>\n",
       "      <td>0</td>\n",
       "      <td>X09</td>\n",
       "      <td>X08</td>\n",
       "      <td>...</td>\n",
       "      <td>1985.0</td>\n",
       "      <td>2023.0</td>\n",
       "      <td>21</td>\n",
       "      <td>20</td>\n",
       "      <td>12.0</td>\n",
       "      <td>10.0</td>\n",
       "      <td>10.333333</td>\n",
       "      <td>18.450000</td>\n",
       "      <td>-8.083333</td>\n",
       "      <td>-5.500000</td>\n",
       "    </tr>\n",
       "    <tr>\n",
       "      <th>1</th>\n",
       "      <td>1985</td>\n",
       "      <td>136</td>\n",
       "      <td>1120</td>\n",
       "      <td>59</td>\n",
       "      <td>1345</td>\n",
       "      <td>58</td>\n",
       "      <td>N</td>\n",
       "      <td>0</td>\n",
       "      <td>Z11</td>\n",
       "      <td>Z06</td>\n",
       "      <td>...</td>\n",
       "      <td>1985.0</td>\n",
       "      <td>2023.0</td>\n",
       "      <td>18</td>\n",
       "      <td>17</td>\n",
       "      <td>11.0</td>\n",
       "      <td>8.0</td>\n",
       "      <td>11.833333</td>\n",
       "      <td>12.529412</td>\n",
       "      <td>-9.636364</td>\n",
       "      <td>-14.750000</td>\n",
       "    </tr>\n",
       "    <tr>\n",
       "      <th>2</th>\n",
       "      <td>1985</td>\n",
       "      <td>136</td>\n",
       "      <td>1207</td>\n",
       "      <td>68</td>\n",
       "      <td>1250</td>\n",
       "      <td>43</td>\n",
       "      <td>N</td>\n",
       "      <td>0</td>\n",
       "      <td>W01</td>\n",
       "      <td>W16</td>\n",
       "      <td>...</td>\n",
       "      <td>1985.0</td>\n",
       "      <td>2023.0</td>\n",
       "      <td>25</td>\n",
       "      <td>11</td>\n",
       "      <td>2.0</td>\n",
       "      <td>18.0</td>\n",
       "      <td>17.040000</td>\n",
       "      <td>6.000000</td>\n",
       "      <td>-1.500000</td>\n",
       "      <td>-10.833333</td>\n",
       "    </tr>\n",
       "    <tr>\n",
       "      <th>3</th>\n",
       "      <td>1985</td>\n",
       "      <td>136</td>\n",
       "      <td>1229</td>\n",
       "      <td>58</td>\n",
       "      <td>1425</td>\n",
       "      <td>55</td>\n",
       "      <td>N</td>\n",
       "      <td>0</td>\n",
       "      <td>Y09</td>\n",
       "      <td>Y08</td>\n",
       "      <td>...</td>\n",
       "      <td>1985.0</td>\n",
       "      <td>2023.0</td>\n",
       "      <td>20</td>\n",
       "      <td>19</td>\n",
       "      <td>7.0</td>\n",
       "      <td>9.0</td>\n",
       "      <td>11.350000</td>\n",
       "      <td>9.421053</td>\n",
       "      <td>-9.428571</td>\n",
       "      <td>-8.111111</td>\n",
       "    </tr>\n",
       "    <tr>\n",
       "      <th>4</th>\n",
       "      <td>1985</td>\n",
       "      <td>136</td>\n",
       "      <td>1242</td>\n",
       "      <td>49</td>\n",
       "      <td>1325</td>\n",
       "      <td>38</td>\n",
       "      <td>N</td>\n",
       "      <td>0</td>\n",
       "      <td>Z03</td>\n",
       "      <td>Z14</td>\n",
       "      <td>...</td>\n",
       "      <td>1985.0</td>\n",
       "      <td>2023.0</td>\n",
       "      <td>23</td>\n",
       "      <td>20</td>\n",
       "      <td>7.0</td>\n",
       "      <td>7.0</td>\n",
       "      <td>10.043478</td>\n",
       "      <td>8.800000</td>\n",
       "      <td>-8.857143</td>\n",
       "      <td>-7.571429</td>\n",
       "    </tr>\n",
       "  </tbody>\n",
       "</table>\n",
       "<p>5 rows × 27 columns</p>\n",
       "</div>"
      ],
      "text/plain": [
       "   Season  DayNum  WTeamID  WScore  LTeamID  LScore WLoc  NumOT WTeamSeed  \\\n",
       "0    1985     136     1116      63     1234      54    N      0       X09   \n",
       "1    1985     136     1120      59     1345      58    N      0       Z11   \n",
       "2    1985     136     1207      68     1250      43    N      0       W01   \n",
       "3    1985     136     1229      58     1425      55    N      0       Y09   \n",
       "4    1985     136     1242      49     1325      38    N      0       Z03   \n",
       "\n",
       "  LTeamSeed  ... LTeamFirstD1Season LTeamLastD1Season WTeamGamesWon  \\\n",
       "0       X08  ...             1985.0            2023.0            21   \n",
       "1       Z06  ...             1985.0            2023.0            18   \n",
       "2       W16  ...             1985.0            2023.0            25   \n",
       "3       Y08  ...             1985.0            2023.0            20   \n",
       "4       Z14  ...             1985.0            2023.0            23   \n",
       "\n",
       "  LTeamGamesWon  WTeamGamesLost  LTeamGamesLost WTeamMeanWinDiff  \\\n",
       "0            20            12.0            10.0        10.333333   \n",
       "1            17            11.0             8.0        11.833333   \n",
       "2            11             2.0            18.0        17.040000   \n",
       "3            19             7.0             9.0        11.350000   \n",
       "4            20             7.0             7.0        10.043478   \n",
       "\n",
       "   LTeamMeanWinDiff  WTeamMeanLoseDiff  LTeamMeanLoseDiff  \n",
       "0         18.450000          -8.083333          -5.500000  \n",
       "1         12.529412          -9.636364         -14.750000  \n",
       "2          6.000000          -1.500000         -10.833333  \n",
       "3          9.421053          -9.428571          -8.111111  \n",
       "4          8.800000          -8.857143          -7.571429  \n",
       "\n",
       "[5 rows x 27 columns]"
      ]
     },
     "execution_count": 19,
     "metadata": {},
     "output_type": "execute_result"
    }
   ],
   "source": [
    "ncaa_results.head()"
   ]
  },
  {
   "cell_type": "code",
   "execution_count": 20,
   "metadata": {},
   "outputs": [
    {
     "data": {
      "text/plain": [
       "['Season',\n",
       " 'DayNum',\n",
       " 'WTeamID',\n",
       " 'WScore',\n",
       " 'LTeamID',\n",
       " 'LScore',\n",
       " 'WLoc',\n",
       " 'NumOT',\n",
       " 'WTeamSeed',\n",
       " 'LTeamSeed',\n",
       " 'SeasonStart',\n",
       " 'WTeamRegion',\n",
       " 'LTeamRegion',\n",
       " 'WTeamName',\n",
       " 'WTeamFirstD1Season',\n",
       " 'WTeamLastD1Season',\n",
       " 'LTeamName',\n",
       " 'LTeamFirstD1Season',\n",
       " 'LTeamLastD1Season',\n",
       " 'WTeamGamesWon',\n",
       " 'LTeamGamesWon',\n",
       " 'WTeamGamesLost',\n",
       " 'LTeamGamesLost',\n",
       " 'WTeamMeanWinDiff',\n",
       " 'LTeamMeanWinDiff',\n",
       " 'WTeamMeanLoseDiff',\n",
       " 'LTeamMeanLoseDiff']"
      ]
     },
     "execution_count": 20,
     "metadata": {},
     "output_type": "execute_result"
    }
   ],
   "source": [
    "list(ncaa_results.columns)"
   ]
  },
  {
   "cell_type": "code",
   "execution_count": 21,
   "metadata": {},
   "outputs": [],
   "source": [
    "# drop unnecessary columns\n",
    "ncaa_results = ncaa_results.drop(['WLoc', 'NumOT', 'SeasonStart', 'WTeamRegion', 'LTeamRegion',\n",
    "                                  'WTeamFirstD1Season', 'WTeamLastD1Season',\n",
    "                                  'LTeamFirstD1Season', 'LTeamLastD1Season'], axis=1)"
   ]
  },
  {
   "cell_type": "code",
   "execution_count": 22,
   "metadata": {},
   "outputs": [],
   "source": [
    "# create copy and drop additional columns\n",
    "preprocessed = ncaa_results.copy() \n",
    "preprocessed = preprocessed.drop(['WScore', 'LScore', 'WTeamName', 'LTeamName', 'DayNum'], axis=1)"
   ]
  },
  {
   "cell_type": "code",
   "execution_count": 23,
   "metadata": {},
   "outputs": [],
   "source": [
    "# pull out seed numbers\n",
    "import re\n",
    "preprocessed['WTeamSeed'] = preprocessed['WTeamSeed'].apply(lambda x: re.sub('[^0-9]', '', x))\n",
    "preprocessed['LTeamSeed'] = preprocessed['LTeamSeed'].apply(lambda x: re.sub('[^0-9]', '', x))"
   ]
  },
  {
   "cell_type": "code",
   "execution_count": 24,
   "metadata": {},
   "outputs": [
    {
     "data": {
      "text/html": [
       "<div>\n",
       "<style scoped>\n",
       "    .dataframe tbody tr th:only-of-type {\n",
       "        vertical-align: middle;\n",
       "    }\n",
       "\n",
       "    .dataframe tbody tr th {\n",
       "        vertical-align: top;\n",
       "    }\n",
       "\n",
       "    .dataframe thead th {\n",
       "        text-align: right;\n",
       "    }\n",
       "</style>\n",
       "<table border=\"1\" class=\"dataframe\">\n",
       "  <thead>\n",
       "    <tr style=\"text-align: right;\">\n",
       "      <th></th>\n",
       "      <th>ID</th>\n",
       "      <th>Pred</th>\n",
       "    </tr>\n",
       "  </thead>\n",
       "  <tbody>\n",
       "    <tr>\n",
       "      <th>0</th>\n",
       "      <td>2023_1101_1102</td>\n",
       "      <td>0.5</td>\n",
       "    </tr>\n",
       "    <tr>\n",
       "      <th>1</th>\n",
       "      <td>2023_1101_1103</td>\n",
       "      <td>0.5</td>\n",
       "    </tr>\n",
       "    <tr>\n",
       "      <th>2</th>\n",
       "      <td>2023_1101_1104</td>\n",
       "      <td>0.5</td>\n",
       "    </tr>\n",
       "    <tr>\n",
       "      <th>3</th>\n",
       "      <td>2023_1101_1105</td>\n",
       "      <td>0.5</td>\n",
       "    </tr>\n",
       "    <tr>\n",
       "      <th>4</th>\n",
       "      <td>2023_1101_1106</td>\n",
       "      <td>0.5</td>\n",
       "    </tr>\n",
       "  </tbody>\n",
       "</table>\n",
       "</div>"
      ],
      "text/plain": [
       "               ID  Pred\n",
       "0  2023_1101_1102   0.5\n",
       "1  2023_1101_1103   0.5\n",
       "2  2023_1101_1104   0.5\n",
       "3  2023_1101_1105   0.5\n",
       "4  2023_1101_1106   0.5"
      ]
     },
     "execution_count": 24,
     "metadata": {},
     "output_type": "execute_result"
    }
   ],
   "source": [
    "# preview sample submission\n",
    "samp_submission.head()"
   ]
  },
  {
   "cell_type": "code",
   "execution_count": 25,
   "metadata": {},
   "outputs": [],
   "source": [
    "# team listed first will always be the winning team\n",
    "preprocessed['Pred'] = 1"
   ]
  },
  {
   "cell_type": "code",
   "execution_count": 26,
   "metadata": {},
   "outputs": [],
   "source": [
    "# rename columns\n",
    "preprocessed.columns = ['season', 'team_a', 'team_b', \n",
    "                        'seed_a', 'seed_b', \n",
    "                        'reg_season_wins_a', 'reg_season_wins_b',\n",
    "                        'reg_season_losses_a', 'reg_season_losses_b',\n",
    "                        'mean_win_diff_a', 'mean_win_diff_b',\n",
    "                        'mean_lose_diff_a', 'mean_lose_diff_b',\n",
    "                        'Pred']"
   ]
  },
  {
   "attachments": {},
   "cell_type": "markdown",
   "metadata": {},
   "source": [
    "## Prepare for Modeling"
   ]
  },
  {
   "cell_type": "code",
   "execution_count": 27,
   "metadata": {},
   "outputs": [],
   "source": [
    "import numpy as np\n",
    "from sklearn.impute import SimpleImputer"
   ]
  },
  {
   "cell_type": "code",
   "execution_count": 28,
   "metadata": {},
   "outputs": [
    {
     "data": {
      "text/plain": [
       "01    1559\n",
       "02    1082\n",
       "03     853\n",
       "04     703\n",
       "05     508\n",
       "06     426\n",
       "07     388\n",
       "11     296\n",
       "08     281\n",
       "09     249\n",
       "10     237\n",
       "12     184\n",
       "13      81\n",
       "16      72\n",
       "14      37\n",
       "15      25\n",
       "Name: seed_a, dtype: int64"
      ]
     },
     "execution_count": 28,
     "metadata": {},
     "output_type": "execute_result"
    }
   ],
   "source": [
    "# check seed columns for weird values\n",
    "preprocessed['seed_a'].value_counts()"
   ]
  },
  {
   "cell_type": "code",
   "execution_count": 29,
   "metadata": {},
   "outputs": [],
   "source": [
    "# convert seed columns to numeric\n",
    "preprocessed['seed_a'] = preprocessed['seed_a'].astype('int')\n",
    "preprocessed['seed_b'] = preprocessed['seed_b'].astype('int')"
   ]
  },
  {
   "cell_type": "code",
   "execution_count": 30,
   "metadata": {},
   "outputs": [
    {
     "name": "stdout",
     "output_type": "stream",
     "text": [
      "<class 'pandas.core.frame.DataFrame'>\n",
      "Int64Index: 6981 entries, 0 to 6980\n",
      "Data columns (total 14 columns):\n",
      " #   Column               Non-Null Count  Dtype  \n",
      "---  ------               --------------  -----  \n",
      " 0   season               6981 non-null   int64  \n",
      " 1   team_a               6981 non-null   int64  \n",
      " 2   team_b               6981 non-null   int64  \n",
      " 3   seed_a               6981 non-null   int64  \n",
      " 4   seed_b               6981 non-null   int64  \n",
      " 5   reg_season_wins_a    6981 non-null   int64  \n",
      " 6   reg_season_wins_b    6981 non-null   int64  \n",
      " 7   reg_season_losses_a  6843 non-null   float64\n",
      " 8   reg_season_losses_b  6962 non-null   float64\n",
      " 9   mean_win_diff_a      6981 non-null   float64\n",
      " 10  mean_win_diff_b      6981 non-null   float64\n",
      " 11  mean_lose_diff_a     6843 non-null   float64\n",
      " 12  mean_lose_diff_b     6962 non-null   float64\n",
      " 13  Pred                 6981 non-null   int64  \n",
      "dtypes: float64(6), int64(8)\n",
      "memory usage: 818.1 KB\n"
     ]
    }
   ],
   "source": [
    "# check column types\n",
    "preprocessed.info()"
   ]
  },
  {
   "cell_type": "code",
   "execution_count": 31,
   "metadata": {},
   "outputs": [],
   "source": [
    "# for now fill missing values with the column mean\n",
    "preprocessed['reg_season_losses_a'].fillna(value=preprocessed['reg_season_losses_a'].mean(), inplace=True)\n",
    "preprocessed['reg_season_losses_b'].fillna(value=preprocessed['reg_season_losses_b'].mean(), inplace=True)\n",
    "preprocessed['mean_lose_diff_a'].fillna(value=preprocessed['mean_lose_diff_a'].mean(), inplace=True)\n",
    "preprocessed['mean_lose_diff_b'].fillna(value=preprocessed['mean_lose_diff_b'].mean(), inplace=True)"
   ]
  },
  {
   "attachments": {},
   "cell_type": "markdown",
   "metadata": {},
   "source": [
    "Our dataset shows significant class imbalance, so we will sample half of the dataframe and present losers first for that half."
   ]
  },
  {
   "cell_type": "code",
   "execution_count": 32,
   "metadata": {},
   "outputs": [],
   "source": [
    "# sample datasets to handle class imbalance\n",
    "df_pre_a = preprocessed.sample(frac=0.5)\n",
    "df_pre_b = preprocessed.drop(df_pre_a.index)"
   ]
  },
  {
   "cell_type": "code",
   "execution_count": 33,
   "metadata": {},
   "outputs": [],
   "source": [
    "# relabel one of the dataframes\n",
    "df_pre_b.columns = ['season', 'team_b', 'team_a',\n",
    "                    'seed_b', 'seed_a',\n",
    "                    'reg_season_wins_b', 'reg_season_wins_a',\n",
    "                    'reg_season_losses_b', 'reg_season_losses_a',\n",
    "                    'mean_win_diff_b', 'mean_win_diff_a',\n",
    "                    'mean_lose_diff_b','mean_lose_diff_a',\n",
    "                    'Pred']"
   ]
  },
  {
   "cell_type": "code",
   "execution_count": 34,
   "metadata": {},
   "outputs": [],
   "source": [
    "# losers will now be presented first\n",
    "df_pre_b['Pred'] = 0 "
   ]
  },
  {
   "cell_type": "code",
   "execution_count": 35,
   "metadata": {},
   "outputs": [],
   "source": [
    "# concat the two back together\n",
    "df_pre = pd.concat([df_pre_a, df_pre_b], axis=0).reset_index(drop=True)"
   ]
  },
  {
   "attachments": {},
   "cell_type": "markdown",
   "metadata": {},
   "source": [
    "## Modeling"
   ]
  },
  {
   "attachments": {},
   "cell_type": "markdown",
   "metadata": {},
   "source": [
    "#### Training and Testing Sets"
   ]
  },
  {
   "cell_type": "code",
   "execution_count": 36,
   "metadata": {},
   "outputs": [],
   "source": [
    "SEED = 23"
   ]
  },
  {
   "cell_type": "code",
   "execution_count": 37,
   "metadata": {},
   "outputs": [
    {
     "data": {
      "text/plain": [
       "0    0.500072\n",
       "1    0.499928\n",
       "Name: Pred, dtype: float64"
      ]
     },
     "execution_count": 37,
     "metadata": {},
     "output_type": "execute_result"
    }
   ],
   "source": [
    "# before creating training and test sets check class imbalance\n",
    "df_pre['Pred'].value_counts(normalize=True)"
   ]
  },
  {
   "cell_type": "code",
   "execution_count": 38,
   "metadata": {},
   "outputs": [],
   "source": [
    "# save a clean copy for modeling\n",
    "df_clean = df_pre.copy()"
   ]
  },
  {
   "cell_type": "code",
   "execution_count": 39,
   "metadata": {},
   "outputs": [],
   "source": [
    "# drop team columns\n",
    "df_clean.drop(['team_a', 'team_b'], axis=1, inplace=True)"
   ]
  },
  {
   "cell_type": "code",
   "execution_count": 40,
   "metadata": {},
   "outputs": [],
   "source": [
    "# split into training and test sets\n",
    "from sklearn.model_selection import train_test_split\n",
    "from sklearn.preprocessing import StandardScaler\n",
    "\n",
    "# identify variables \n",
    "y = df_clean['Pred']\n",
    "X = df_clean.drop('Pred', axis=1)\n",
    "\n",
    "# split into train and test sets\n",
    "X_train, X_test, y_train, y_test = train_test_split(X,y,random_state=SEED)"
   ]
  },
  {
   "attachments": {},
   "cell_type": "markdown",
   "metadata": {},
   "source": [
    "#### Scale Features"
   ]
  },
  {
   "cell_type": "code",
   "execution_count": 41,
   "metadata": {},
   "outputs": [],
   "source": [
    "# use standard scaler\n",
    "scaler = StandardScaler()\n",
    "X_train_scaled = scaler.fit_transform(X_train)\n",
    "X_train_scaled = pd.DataFrame(X_train_scaled, columns=X_train.columns)\n",
    "X_test_scaled = scaler.transform(X_test)\n",
    "X_test_scaled = pd.DataFrame(X_test_scaled, columns=X_test.columns)"
   ]
  },
  {
   "attachments": {},
   "cell_type": "markdown",
   "metadata": {},
   "source": [
    "#### Save Final Processed Datasets"
   ]
  },
  {
   "cell_type": "code",
   "execution_count": 42,
   "metadata": {},
   "outputs": [],
   "source": [
    "X_train_final = X_train_scaled.copy()\n",
    "X_test_final = X_test_scaled.copy()\n",
    "y_train_final = y_train.copy()\n",
    "y_test_final = y_test.copy()"
   ]
  },
  {
   "attachments": {},
   "cell_type": "markdown",
   "metadata": {},
   "source": [
    "#### Define Function to Print Results"
   ]
  },
  {
   "cell_type": "code",
   "execution_count": 43,
   "metadata": {},
   "outputs": [],
   "source": [
    "from sklearn.model_selection import cross_val_score, GridSearchCV\n",
    "from sklearn.metrics import accuracy_score, f1_score, precision_score, recall_score, roc_curve, auc\n",
    "from sklearn import tree"
   ]
  },
  {
   "cell_type": "code",
   "execution_count": 44,
   "metadata": {},
   "outputs": [],
   "source": [
    "def print_model_scores(X_train, X_test, y_train, y_test, model, model_name):\n",
    "    \"\"\"\n",
    "    Function to return accuracy, recall, precision, f1, roc_auc, and neg_log_loss from given \n",
    "    X_train, X_test, y_train, y_test, model, and string for the model name\n",
    "    \"\"\"\n",
    "    \n",
    "    # create predictions using our model\n",
    "    y_train_preds = model.predict(X_train)\n",
    "    y_test_preds = model.predict(X_test)\n",
    "    \n",
    "    # accuracy\n",
    "    train_acc = accuracy_score(y_train, y_train_preds)\n",
    "    test_acc = accuracy_score(y_test, y_test_preds)\n",
    "    \n",
    "    # precision\n",
    "    train_prec = precision_score(y_train, y_train_preds)\n",
    "    test_prec = precision_score(y_test, y_test_preds)\n",
    "    \n",
    "    # recall \n",
    "    train_recall = recall_score(y_train, y_train_preds)\n",
    "    test_recall = recall_score(y_test, y_test_preds)\n",
    "    \n",
    "    # f1 score\n",
    "    train_f1 = f1_score(y_train, y_train_preds)\n",
    "    test_f1 = f1_score(y_test, y_test_preds)\n",
    "    \n",
    "    # AUC\n",
    "    train_fpr, train_tpr, train_thresh = roc_curve(y_train, y_train_preds)\n",
    "    train_roc_auc = auc(train_fpr, train_tpr)\n",
    "    test_fpr, test_tpr, test_thresh = roc_curve(y_test, y_test_preds)\n",
    "    test_roc_auc = auc(test_fpr, test_tpr)\n",
    "    \n",
    "    # print results\n",
    "    print('Accuracy:')\n",
    "    print(f'Training Set: {train_acc}')\n",
    "    print(f'Testing Set: {test_acc}')\n",
    "    print('---------------------------')\n",
    "    print('Precision:')\n",
    "    print(f'Training Set: {train_prec}')\n",
    "    print(f'Testing Set: {test_prec}')\n",
    "    print('---------------------------')\n",
    "    print('Recall:')\n",
    "    print(f'Training Set: {train_recall}')\n",
    "    print(f'Testing Set: {test_recall}')\n",
    "    print('---------------------------')\n",
    "    print('F1 Score:')\n",
    "    print(f'Training Set: {train_f1}')\n",
    "    print(f'Testing Set: {test_f1}')\n",
    "    print('---------------------------')\n",
    "    print(f'ROC AUC:')\n",
    "    print(f'Training Set: {train_roc_auc}')\n",
    "    print(f'Test Set: {test_roc_auc}')\n",
    "    \n",
    "    # store results in dataframes\n",
    "    test_results = pd.DataFrame([[f'Test-{model_name}', test_acc, test_prec, test_recall, test_f1, test_roc_auc]],\n",
    "                                columns=['Model', 'Accuracy', 'Precision', 'Recall', 'F1 Score', 'AUC'])\n",
    "    \n",
    "    train_results = pd.DataFrame([[f'Training-{model_name}', train_acc, train_prec, train_recall, train_f1, train_roc_auc]],\n",
    "                                columns=['Model', 'Accuracy', 'Precision', 'Recall', 'F1 Score', 'AUC'])\n",
    "    \n",
    "    # concat results\n",
    "    results = pd.concat([test_results, train_results], axis=0)\n",
    "    \n",
    "    return results"
   ]
  },
  {
   "attachments": {},
   "cell_type": "markdown",
   "metadata": {},
   "source": [
    "### XGBoost"
   ]
  },
  {
   "cell_type": "code",
   "execution_count": 45,
   "metadata": {},
   "outputs": [],
   "source": [
    "from xgboost import XGBClassifier"
   ]
  },
  {
   "cell_type": "code",
   "execution_count": 46,
   "metadata": {},
   "outputs": [
    {
     "name": "stdout",
     "output_type": "stream",
     "text": [
      "Accuracy:\n",
      "Training Set: 0.9829990448901623\n",
      "Testing Set: 0.800114547537228\n",
      "---------------------------\n",
      "Precision:\n",
      "Training Set: 0.9820815859702631\n",
      "Testing Set: 0.8009205983889528\n",
      "---------------------------\n",
      "Recall:\n",
      "Training Set: 0.983957219251337\n",
      "Testing Set: 0.7981651376146789\n",
      "---------------------------\n",
      "F1 Score:\n",
      "Training Set: 0.9830185079183362\n",
      "Testing Set: 0.7995404939689833\n",
      "---------------------------\n",
      "ROC AUC:\n",
      "Training Set: 0.9829988618228408\n",
      "Test Set: 0.8001123170910923\n"
     ]
    }
   ],
   "source": [
    "# create baseline classifier\n",
    "base_xgb = XGBClassifier(random_state=SEED)\n",
    "\n",
    "# fit to training set\n",
    "base_xgb.fit(X_train_final, y_train_final)\n",
    "\n",
    "# print and store results\n",
    "base_xgb_results = print_model_scores(X_train_final, X_test_final,\n",
    "                                      y_train_final, y_test_final,\n",
    "                                      base_xgb, 'base_xgb')"
   ]
  },
  {
   "attachments": {},
   "cell_type": "markdown",
   "metadata": {},
   "source": [
    "Without any tuning our model is achieving ~80% accuracy. Given a our class split, a simple model that guessed one class would do substantially worse, with accuracy falling close to 50%. "
   ]
  },
  {
   "attachments": {},
   "cell_type": "markdown",
   "metadata": {},
   "source": [
    "#### Tune Hyperparams"
   ]
  },
  {
   "cell_type": "code",
   "execution_count": 47,
   "metadata": {},
   "outputs": [
    {
     "name": "stdout",
     "output_type": "stream",
     "text": [
      "Fitting 3 folds for each of 12 candidates, totalling 36 fits\n"
     ]
    },
    {
     "data": {
      "text/html": [
       "<style>#sk-container-id-1 {color: black;background-color: white;}#sk-container-id-1 pre{padding: 0;}#sk-container-id-1 div.sk-toggleable {background-color: white;}#sk-container-id-1 label.sk-toggleable__label {cursor: pointer;display: block;width: 100%;margin-bottom: 0;padding: 0.3em;box-sizing: border-box;text-align: center;}#sk-container-id-1 label.sk-toggleable__label-arrow:before {content: \"▸\";float: left;margin-right: 0.25em;color: #696969;}#sk-container-id-1 label.sk-toggleable__label-arrow:hover:before {color: black;}#sk-container-id-1 div.sk-estimator:hover label.sk-toggleable__label-arrow:before {color: black;}#sk-container-id-1 div.sk-toggleable__content {max-height: 0;max-width: 0;overflow: hidden;text-align: left;background-color: #f0f8ff;}#sk-container-id-1 div.sk-toggleable__content pre {margin: 0.2em;color: black;border-radius: 0.25em;background-color: #f0f8ff;}#sk-container-id-1 input.sk-toggleable__control:checked~div.sk-toggleable__content {max-height: 200px;max-width: 100%;overflow: auto;}#sk-container-id-1 input.sk-toggleable__control:checked~label.sk-toggleable__label-arrow:before {content: \"▾\";}#sk-container-id-1 div.sk-estimator input.sk-toggleable__control:checked~label.sk-toggleable__label {background-color: #d4ebff;}#sk-container-id-1 div.sk-label input.sk-toggleable__control:checked~label.sk-toggleable__label {background-color: #d4ebff;}#sk-container-id-1 input.sk-hidden--visually {border: 0;clip: rect(1px 1px 1px 1px);clip: rect(1px, 1px, 1px, 1px);height: 1px;margin: -1px;overflow: hidden;padding: 0;position: absolute;width: 1px;}#sk-container-id-1 div.sk-estimator {font-family: monospace;background-color: #f0f8ff;border: 1px dotted black;border-radius: 0.25em;box-sizing: border-box;margin-bottom: 0.5em;}#sk-container-id-1 div.sk-estimator:hover {background-color: #d4ebff;}#sk-container-id-1 div.sk-parallel-item::after {content: \"\";width: 100%;border-bottom: 1px solid gray;flex-grow: 1;}#sk-container-id-1 div.sk-label:hover label.sk-toggleable__label {background-color: #d4ebff;}#sk-container-id-1 div.sk-serial::before {content: \"\";position: absolute;border-left: 1px solid gray;box-sizing: border-box;top: 0;bottom: 0;left: 50%;z-index: 0;}#sk-container-id-1 div.sk-serial {display: flex;flex-direction: column;align-items: center;background-color: white;padding-right: 0.2em;padding-left: 0.2em;position: relative;}#sk-container-id-1 div.sk-item {position: relative;z-index: 1;}#sk-container-id-1 div.sk-parallel {display: flex;align-items: stretch;justify-content: center;background-color: white;position: relative;}#sk-container-id-1 div.sk-item::before, #sk-container-id-1 div.sk-parallel-item::before {content: \"\";position: absolute;border-left: 1px solid gray;box-sizing: border-box;top: 0;bottom: 0;left: 50%;z-index: -1;}#sk-container-id-1 div.sk-parallel-item {display: flex;flex-direction: column;z-index: 1;position: relative;background-color: white;}#sk-container-id-1 div.sk-parallel-item:first-child::after {align-self: flex-end;width: 50%;}#sk-container-id-1 div.sk-parallel-item:last-child::after {align-self: flex-start;width: 50%;}#sk-container-id-1 div.sk-parallel-item:only-child::after {width: 0;}#sk-container-id-1 div.sk-dashed-wrapped {border: 1px dashed gray;margin: 0 0.4em 0.5em 0.4em;box-sizing: border-box;padding-bottom: 0.4em;background-color: white;}#sk-container-id-1 div.sk-label label {font-family: monospace;font-weight: bold;display: inline-block;line-height: 1.2em;}#sk-container-id-1 div.sk-label-container {text-align: center;}#sk-container-id-1 div.sk-container {/* jupyter's `normalize.less` sets `[hidden] { display: none; }` but bootstrap.min.css set `[hidden] { display: none !important; }` so we also need the `!important` here to be able to override the default hidden behavior on the sphinx rendered scikit-learn.org. See: https://github.com/scikit-learn/scikit-learn/issues/21755 */display: inline-block !important;position: relative;}#sk-container-id-1 div.sk-text-repr-fallback {display: none;}</style><div id=\"sk-container-id-1\" class=\"sk-top-container\"><div class=\"sk-text-repr-fallback\"><pre>GridSearchCV(cv=3,\n",
       "             estimator=XGBClassifier(base_score=None, booster=None,\n",
       "                                     callbacks=None, colsample_bylevel=None,\n",
       "                                     colsample_bynode=None,\n",
       "                                     colsample_bytree=None,\n",
       "                                     early_stopping_rounds=None,\n",
       "                                     enable_categorical=False, eval_metric=None,\n",
       "                                     feature_types=None, gamma=None,\n",
       "                                     gpu_id=None, grow_policy=None,\n",
       "                                     importance_type=None,\n",
       "                                     interaction_constraints=None,\n",
       "                                     learning_rate=None,...\n",
       "                                     max_cat_threshold=None,\n",
       "                                     max_cat_to_onehot=None,\n",
       "                                     max_delta_step=None, max_depth=None,\n",
       "                                     max_leaves=None, min_child_weight=None,\n",
       "                                     missing=nan, monotone_constraints=None,\n",
       "                                     n_estimators=100, n_jobs=None,\n",
       "                                     num_parallel_tree=None, predictor=None,\n",
       "                                     random_state=23, ...),\n",
       "             param_grid={&#x27;eta&#x27;: [0.1, 0.05], &#x27;gamma&#x27;: [5, 10],\n",
       "                         &#x27;max_depth&#x27;: [10, 11, 12]},\n",
       "             return_train_score=True, scoring=&#x27;accuracy&#x27;, verbose=1)</pre><b>In a Jupyter environment, please rerun this cell to show the HTML representation or trust the notebook. <br />On GitHub, the HTML representation is unable to render, please try loading this page with nbviewer.org.</b></div><div class=\"sk-container\" hidden><div class=\"sk-item sk-dashed-wrapped\"><div class=\"sk-label-container\"><div class=\"sk-label sk-toggleable\"><input class=\"sk-toggleable__control sk-hidden--visually\" id=\"sk-estimator-id-1\" type=\"checkbox\" ><label for=\"sk-estimator-id-1\" class=\"sk-toggleable__label sk-toggleable__label-arrow\">GridSearchCV</label><div class=\"sk-toggleable__content\"><pre>GridSearchCV(cv=3,\n",
       "             estimator=XGBClassifier(base_score=None, booster=None,\n",
       "                                     callbacks=None, colsample_bylevel=None,\n",
       "                                     colsample_bynode=None,\n",
       "                                     colsample_bytree=None,\n",
       "                                     early_stopping_rounds=None,\n",
       "                                     enable_categorical=False, eval_metric=None,\n",
       "                                     feature_types=None, gamma=None,\n",
       "                                     gpu_id=None, grow_policy=None,\n",
       "                                     importance_type=None,\n",
       "                                     interaction_constraints=None,\n",
       "                                     learning_rate=None,...\n",
       "                                     max_cat_threshold=None,\n",
       "                                     max_cat_to_onehot=None,\n",
       "                                     max_delta_step=None, max_depth=None,\n",
       "                                     max_leaves=None, min_child_weight=None,\n",
       "                                     missing=nan, monotone_constraints=None,\n",
       "                                     n_estimators=100, n_jobs=None,\n",
       "                                     num_parallel_tree=None, predictor=None,\n",
       "                                     random_state=23, ...),\n",
       "             param_grid={&#x27;eta&#x27;: [0.1, 0.05], &#x27;gamma&#x27;: [5, 10],\n",
       "                         &#x27;max_depth&#x27;: [10, 11, 12]},\n",
       "             return_train_score=True, scoring=&#x27;accuracy&#x27;, verbose=1)</pre></div></div></div><div class=\"sk-parallel\"><div class=\"sk-parallel-item\"><div class=\"sk-item\"><div class=\"sk-label-container\"><div class=\"sk-label sk-toggleable\"><input class=\"sk-toggleable__control sk-hidden--visually\" id=\"sk-estimator-id-2\" type=\"checkbox\" ><label for=\"sk-estimator-id-2\" class=\"sk-toggleable__label sk-toggleable__label-arrow\">estimator: XGBClassifier</label><div class=\"sk-toggleable__content\"><pre>XGBClassifier(base_score=None, booster=None, callbacks=None,\n",
       "              colsample_bylevel=None, colsample_bynode=None,\n",
       "              colsample_bytree=None, early_stopping_rounds=None,\n",
       "              enable_categorical=False, eval_metric=None, feature_types=None,\n",
       "              gamma=None, gpu_id=None, grow_policy=None, importance_type=None,\n",
       "              interaction_constraints=None, learning_rate=None, max_bin=None,\n",
       "              max_cat_threshold=None, max_cat_to_onehot=None,\n",
       "              max_delta_step=None, max_depth=None, max_leaves=None,\n",
       "              min_child_weight=None, missing=nan, monotone_constraints=None,\n",
       "              n_estimators=100, n_jobs=None, num_parallel_tree=None,\n",
       "              predictor=None, random_state=23, ...)</pre></div></div></div><div class=\"sk-serial\"><div class=\"sk-item\"><div class=\"sk-estimator sk-toggleable\"><input class=\"sk-toggleable__control sk-hidden--visually\" id=\"sk-estimator-id-3\" type=\"checkbox\" ><label for=\"sk-estimator-id-3\" class=\"sk-toggleable__label sk-toggleable__label-arrow\">XGBClassifier</label><div class=\"sk-toggleable__content\"><pre>XGBClassifier(base_score=None, booster=None, callbacks=None,\n",
       "              colsample_bylevel=None, colsample_bynode=None,\n",
       "              colsample_bytree=None, early_stopping_rounds=None,\n",
       "              enable_categorical=False, eval_metric=None, feature_types=None,\n",
       "              gamma=None, gpu_id=None, grow_policy=None, importance_type=None,\n",
       "              interaction_constraints=None, learning_rate=None, max_bin=None,\n",
       "              max_cat_threshold=None, max_cat_to_onehot=None,\n",
       "              max_delta_step=None, max_depth=None, max_leaves=None,\n",
       "              min_child_weight=None, missing=nan, monotone_constraints=None,\n",
       "              n_estimators=100, n_jobs=None, num_parallel_tree=None,\n",
       "              predictor=None, random_state=23, ...)</pre></div></div></div></div></div></div></div></div></div></div>"
      ],
      "text/plain": [
       "GridSearchCV(cv=3,\n",
       "             estimator=XGBClassifier(base_score=None, booster=None,\n",
       "                                     callbacks=None, colsample_bylevel=None,\n",
       "                                     colsample_bynode=None,\n",
       "                                     colsample_bytree=None,\n",
       "                                     early_stopping_rounds=None,\n",
       "                                     enable_categorical=False, eval_metric=None,\n",
       "                                     feature_types=None, gamma=None,\n",
       "                                     gpu_id=None, grow_policy=None,\n",
       "                                     importance_type=None,\n",
       "                                     interaction_constraints=None,\n",
       "                                     learning_rate=None,...\n",
       "                                     max_cat_threshold=None,\n",
       "                                     max_cat_to_onehot=None,\n",
       "                                     max_delta_step=None, max_depth=None,\n",
       "                                     max_leaves=None, min_child_weight=None,\n",
       "                                     missing=nan, monotone_constraints=None,\n",
       "                                     n_estimators=100, n_jobs=None,\n",
       "                                     num_parallel_tree=None, predictor=None,\n",
       "                                     random_state=23, ...),\n",
       "             param_grid={'eta': [0.1, 0.05], 'gamma': [5, 10],\n",
       "                         'max_depth': [10, 11, 12]},\n",
       "             return_train_score=True, scoring='accuracy', verbose=1)"
      ]
     },
     "execution_count": 47,
     "metadata": {},
     "output_type": "execute_result"
    }
   ],
   "source": [
    "# set up gridsearch\n",
    "grid_search_params = {\n",
    "    'max_depth': [10, 11, 12],\n",
    "    'eta': [0.1, 0.05],\n",
    "    'gamma': [5, 10]\n",
    "}\n",
    "\n",
    "# instantiate xgboost\n",
    "xgb_clf = XGBClassifier(random_state=SEED)\n",
    "xgb_grid = GridSearchCV(estimator=xgb_clf,\n",
    "                        param_grid=grid_search_params,\n",
    "                        cv=3,\n",
    "                        scoring='accuracy',\n",
    "                        return_train_score=True,\n",
    "                        verbose=1)\n",
    "\n",
    "# fit to training data\n",
    "xgb_grid.fit(X_train_final, y_train_final)"
   ]
  },
  {
   "cell_type": "code",
   "execution_count": 48,
   "metadata": {},
   "outputs": [
    {
     "name": "stdout",
     "output_type": "stream",
     "text": [
      "Grid Search Train Accuracy: 0.8327523081821075\n",
      "Grid Search Test Accuracy: 0.7442534224769181\n"
     ]
    }
   ],
   "source": [
    "# print grid search results \n",
    "mean_train_score = np.mean(xgb_grid.cv_results_['mean_train_score'])\n",
    "mean_test_score = np.mean(xgb_grid.cv_results_['mean_test_score'])\n",
    "print(f'Grid Search Train Accuracy: {mean_train_score}')\n",
    "print(f'Grid Search Test Accuracy: {mean_test_score}')"
   ]
  },
  {
   "cell_type": "code",
   "execution_count": 49,
   "metadata": {},
   "outputs": [
    {
     "name": "stdout",
     "output_type": "stream",
     "text": [
      "Accuracy:\n",
      "Training Set: 0.9021967526265521\n",
      "Testing Set: 0.7703321878579611\n",
      "---------------------------\n",
      "Precision:\n",
      "Training Set: 0.9028309104820199\n",
      "Testing Set: 0.775438596491228\n",
      "---------------------------\n",
      "Recall:\n",
      "Training Set: 0.9014514896867838\n",
      "Testing Set: 0.7603211009174312\n",
      "---------------------------\n",
      "F1 Score:\n",
      "Training Set: 0.9021406727828747\n",
      "Testing Set: 0.7678054429646787\n",
      "---------------------------\n",
      "ROC AUC:\n",
      "Training Set: 0.9021968950153445\n",
      "Test Set: 0.7703207335250771\n"
     ]
    }
   ],
   "source": [
    "# train model with the best params\n",
    "xgb_tuned = xgb_grid.best_estimator_\n",
    "xgb_tuned.fit(X_train_final, y_train_final)\n",
    "xgb_tuned_results = print_model_scores(X_train_final, X_test_final,\n",
    "                                       y_train_final, y_test_final,\n",
    "                                       xgb_tuned, 'xgb_tuned')"
   ]
  },
  {
   "attachments": {},
   "cell_type": "markdown",
   "metadata": {},
   "source": [
    "Seeing an improvement to overfitting -- we will use this model to create our submissions."
   ]
  },
  {
   "attachments": {},
   "cell_type": "markdown",
   "metadata": {},
   "source": [
    "## Submission"
   ]
  },
  {
   "cell_type": "code",
   "execution_count": 50,
   "metadata": {},
   "outputs": [
    {
     "data": {
      "text/html": [
       "<div>\n",
       "<style scoped>\n",
       "    .dataframe tbody tr th:only-of-type {\n",
       "        vertical-align: middle;\n",
       "    }\n",
       "\n",
       "    .dataframe tbody tr th {\n",
       "        vertical-align: top;\n",
       "    }\n",
       "\n",
       "    .dataframe thead th {\n",
       "        text-align: right;\n",
       "    }\n",
       "</style>\n",
       "<table border=\"1\" class=\"dataframe\">\n",
       "  <thead>\n",
       "    <tr style=\"text-align: right;\">\n",
       "      <th></th>\n",
       "      <th>season</th>\n",
       "      <th>seed_a</th>\n",
       "      <th>seed_b</th>\n",
       "      <th>reg_season_wins_a</th>\n",
       "      <th>reg_season_wins_b</th>\n",
       "      <th>reg_season_losses_a</th>\n",
       "      <th>reg_season_losses_b</th>\n",
       "      <th>mean_win_diff_a</th>\n",
       "      <th>mean_win_diff_b</th>\n",
       "      <th>mean_lose_diff_a</th>\n",
       "      <th>mean_lose_diff_b</th>\n",
       "    </tr>\n",
       "  </thead>\n",
       "  <tbody>\n",
       "    <tr>\n",
       "      <th>0</th>\n",
       "      <td>1.511093</td>\n",
       "      <td>0.292898</td>\n",
       "      <td>-1.228893</td>\n",
       "      <td>-1.366665</td>\n",
       "      <td>-0.862942</td>\n",
       "      <td>0.542795</td>\n",
       "      <td>-1.043690</td>\n",
       "      <td>-0.289011</td>\n",
       "      <td>-0.288880</td>\n",
       "      <td>-0.277141</td>\n",
       "      <td>-0.654484</td>\n",
       "    </tr>\n",
       "    <tr>\n",
       "      <th>1</th>\n",
       "      <td>-0.496129</td>\n",
       "      <td>-1.006895</td>\n",
       "      <td>-0.797362</td>\n",
       "      <td>-0.112195</td>\n",
       "      <td>-0.103400</td>\n",
       "      <td>-0.093986</td>\n",
       "      <td>-0.728421</td>\n",
       "      <td>1.025242</td>\n",
       "      <td>-0.415776</td>\n",
       "      <td>0.449893</td>\n",
       "      <td>0.430968</td>\n",
       "    </tr>\n",
       "    <tr>\n",
       "      <th>2</th>\n",
       "      <td>0.284458</td>\n",
       "      <td>-0.790263</td>\n",
       "      <td>-0.150067</td>\n",
       "      <td>0.138699</td>\n",
       "      <td>0.149780</td>\n",
       "      <td>0.224404</td>\n",
       "      <td>0.217387</td>\n",
       "      <td>-0.895590</td>\n",
       "      <td>0.128062</td>\n",
       "      <td>-0.265138</td>\n",
       "      <td>0.309569</td>\n",
       "    </tr>\n",
       "    <tr>\n",
       "      <th>3</th>\n",
       "      <td>1.176556</td>\n",
       "      <td>-1.223528</td>\n",
       "      <td>-1.228893</td>\n",
       "      <td>1.393169</td>\n",
       "      <td>2.175224</td>\n",
       "      <td>-1.367547</td>\n",
       "      <td>0.238399</td>\n",
       "      <td>1.025242</td>\n",
       "      <td>4.075026</td>\n",
       "      <td>-1.429421</td>\n",
       "      <td>-0.132971</td>\n",
       "    </tr>\n",
       "    <tr>\n",
       "      <th>4</th>\n",
       "      <td>-0.719153</td>\n",
       "      <td>0.726163</td>\n",
       "      <td>0.065698</td>\n",
       "      <td>0.138699</td>\n",
       "      <td>-0.356581</td>\n",
       "      <td>-0.093986</td>\n",
       "      <td>1.163194</td>\n",
       "      <td>-0.322710</td>\n",
       "      <td>-1.267908</td>\n",
       "      <td>0.573351</td>\n",
       "      <td>-0.083193</td>\n",
       "    </tr>\n",
       "  </tbody>\n",
       "</table>\n",
       "</div>"
      ],
      "text/plain": [
       "     season    seed_a    seed_b  reg_season_wins_a  reg_season_wins_b  \\\n",
       "0  1.511093  0.292898 -1.228893          -1.366665          -0.862942   \n",
       "1 -0.496129 -1.006895 -0.797362          -0.112195          -0.103400   \n",
       "2  0.284458 -0.790263 -0.150067           0.138699           0.149780   \n",
       "3  1.176556 -1.223528 -1.228893           1.393169           2.175224   \n",
       "4 -0.719153  0.726163  0.065698           0.138699          -0.356581   \n",
       "\n",
       "   reg_season_losses_a  reg_season_losses_b  mean_win_diff_a  mean_win_diff_b  \\\n",
       "0             0.542795            -1.043690        -0.289011        -0.288880   \n",
       "1            -0.093986            -0.728421         1.025242        -0.415776   \n",
       "2             0.224404             0.217387        -0.895590         0.128062   \n",
       "3            -1.367547             0.238399         1.025242         4.075026   \n",
       "4            -0.093986             1.163194        -0.322710        -1.267908   \n",
       "\n",
       "   mean_lose_diff_a  mean_lose_diff_b  \n",
       "0         -0.277141         -0.654484  \n",
       "1          0.449893          0.430968  \n",
       "2         -0.265138          0.309569  \n",
       "3         -1.429421         -0.132971  \n",
       "4          0.573351         -0.083193  "
      ]
     },
     "execution_count": 50,
     "metadata": {},
     "output_type": "execute_result"
    }
   ],
   "source": [
    "X_train_final.head()"
   ]
  },
  {
   "cell_type": "code",
   "execution_count": 51,
   "metadata": {},
   "outputs": [
    {
     "data": {
      "text/html": [
       "<div>\n",
       "<style scoped>\n",
       "    .dataframe tbody tr th:only-of-type {\n",
       "        vertical-align: middle;\n",
       "    }\n",
       "\n",
       "    .dataframe tbody tr th {\n",
       "        vertical-align: top;\n",
       "    }\n",
       "\n",
       "    .dataframe thead th {\n",
       "        text-align: right;\n",
       "    }\n",
       "</style>\n",
       "<table border=\"1\" class=\"dataframe\">\n",
       "  <thead>\n",
       "    <tr style=\"text-align: right;\">\n",
       "      <th></th>\n",
       "      <th>ID</th>\n",
       "    </tr>\n",
       "  </thead>\n",
       "  <tbody>\n",
       "    <tr>\n",
       "      <th>0</th>\n",
       "      <td>2023_1101_1102</td>\n",
       "    </tr>\n",
       "    <tr>\n",
       "      <th>1</th>\n",
       "      <td>2023_1101_1103</td>\n",
       "    </tr>\n",
       "    <tr>\n",
       "      <th>2</th>\n",
       "      <td>2023_1101_1104</td>\n",
       "    </tr>\n",
       "    <tr>\n",
       "      <th>3</th>\n",
       "      <td>2023_1101_1105</td>\n",
       "    </tr>\n",
       "    <tr>\n",
       "      <th>4</th>\n",
       "      <td>2023_1101_1106</td>\n",
       "    </tr>\n",
       "  </tbody>\n",
       "</table>\n",
       "</div>"
      ],
      "text/plain": [
       "               ID\n",
       "0  2023_1101_1102\n",
       "1  2023_1101_1103\n",
       "2  2023_1101_1104\n",
       "3  2023_1101_1105\n",
       "4  2023_1101_1106"
      ]
     },
     "execution_count": 51,
     "metadata": {},
     "output_type": "execute_result"
    }
   ],
   "source": [
    "# for each ID, create a prediction\n",
    "first_submission = samp_submission.copy()\n",
    "first_submission.drop('Pred', axis=1, inplace=True)\n",
    "first_submission.head()"
   ]
  },
  {
   "cell_type": "code",
   "execution_count": 52,
   "metadata": {},
   "outputs": [
    {
     "data": {
      "text/html": [
       "<div>\n",
       "<style scoped>\n",
       "    .dataframe tbody tr th:only-of-type {\n",
       "        vertical-align: middle;\n",
       "    }\n",
       "\n",
       "    .dataframe tbody tr th {\n",
       "        vertical-align: top;\n",
       "    }\n",
       "\n",
       "    .dataframe thead th {\n",
       "        text-align: right;\n",
       "    }\n",
       "</style>\n",
       "<table border=\"1\" class=\"dataframe\">\n",
       "  <thead>\n",
       "    <tr style=\"text-align: right;\">\n",
       "      <th></th>\n",
       "      <th>season</th>\n",
       "      <th>seed_a</th>\n",
       "      <th>seed_b</th>\n",
       "      <th>reg_season_wins_a</th>\n",
       "      <th>reg_season_wins_b</th>\n",
       "      <th>reg_season_losses_a</th>\n",
       "      <th>reg_season_losses_b</th>\n",
       "      <th>mean_win_diff_a</th>\n",
       "      <th>mean_win_diff_b</th>\n",
       "      <th>mean_lose_diff_a</th>\n",
       "      <th>mean_lose_diff_b</th>\n",
       "    </tr>\n",
       "  </thead>\n",
       "  <tbody>\n",
       "    <tr>\n",
       "      <th>0</th>\n",
       "      <td>1.511093</td>\n",
       "      <td>0.292898</td>\n",
       "      <td>-1.228893</td>\n",
       "      <td>-1.366665</td>\n",
       "      <td>-0.862942</td>\n",
       "      <td>0.542795</td>\n",
       "      <td>-1.043690</td>\n",
       "      <td>-0.289011</td>\n",
       "      <td>-0.288880</td>\n",
       "      <td>-0.277141</td>\n",
       "      <td>-0.654484</td>\n",
       "    </tr>\n",
       "    <tr>\n",
       "      <th>1</th>\n",
       "      <td>-0.496129</td>\n",
       "      <td>-1.006895</td>\n",
       "      <td>-0.797362</td>\n",
       "      <td>-0.112195</td>\n",
       "      <td>-0.103400</td>\n",
       "      <td>-0.093986</td>\n",
       "      <td>-0.728421</td>\n",
       "      <td>1.025242</td>\n",
       "      <td>-0.415776</td>\n",
       "      <td>0.449893</td>\n",
       "      <td>0.430968</td>\n",
       "    </tr>\n",
       "    <tr>\n",
       "      <th>2</th>\n",
       "      <td>0.284458</td>\n",
       "      <td>-0.790263</td>\n",
       "      <td>-0.150067</td>\n",
       "      <td>0.138699</td>\n",
       "      <td>0.149780</td>\n",
       "      <td>0.224404</td>\n",
       "      <td>0.217387</td>\n",
       "      <td>-0.895590</td>\n",
       "      <td>0.128062</td>\n",
       "      <td>-0.265138</td>\n",
       "      <td>0.309569</td>\n",
       "    </tr>\n",
       "    <tr>\n",
       "      <th>3</th>\n",
       "      <td>1.176556</td>\n",
       "      <td>-1.223528</td>\n",
       "      <td>-1.228893</td>\n",
       "      <td>1.393169</td>\n",
       "      <td>2.175224</td>\n",
       "      <td>-1.367547</td>\n",
       "      <td>0.238399</td>\n",
       "      <td>1.025242</td>\n",
       "      <td>4.075026</td>\n",
       "      <td>-1.429421</td>\n",
       "      <td>-0.132971</td>\n",
       "    </tr>\n",
       "    <tr>\n",
       "      <th>4</th>\n",
       "      <td>-0.719153</td>\n",
       "      <td>0.726163</td>\n",
       "      <td>0.065698</td>\n",
       "      <td>0.138699</td>\n",
       "      <td>-0.356581</td>\n",
       "      <td>-0.093986</td>\n",
       "      <td>1.163194</td>\n",
       "      <td>-0.322710</td>\n",
       "      <td>-1.267908</td>\n",
       "      <td>0.573351</td>\n",
       "      <td>-0.083193</td>\n",
       "    </tr>\n",
       "  </tbody>\n",
       "</table>\n",
       "</div>"
      ],
      "text/plain": [
       "     season    seed_a    seed_b  reg_season_wins_a  reg_season_wins_b  \\\n",
       "0  1.511093  0.292898 -1.228893          -1.366665          -0.862942   \n",
       "1 -0.496129 -1.006895 -0.797362          -0.112195          -0.103400   \n",
       "2  0.284458 -0.790263 -0.150067           0.138699           0.149780   \n",
       "3  1.176556 -1.223528 -1.228893           1.393169           2.175224   \n",
       "4 -0.719153  0.726163  0.065698           0.138699          -0.356581   \n",
       "\n",
       "   reg_season_losses_a  reg_season_losses_b  mean_win_diff_a  mean_win_diff_b  \\\n",
       "0             0.542795            -1.043690        -0.289011        -0.288880   \n",
       "1            -0.093986            -0.728421         1.025242        -0.415776   \n",
       "2             0.224404             0.217387        -0.895590         0.128062   \n",
       "3            -1.367547             0.238399         1.025242         4.075026   \n",
       "4            -0.093986             1.163194        -0.322710        -1.267908   \n",
       "\n",
       "   mean_lose_diff_a  mean_lose_diff_b  \n",
       "0         -0.277141         -0.654484  \n",
       "1          0.449893          0.430968  \n",
       "2         -0.265138          0.309569  \n",
       "3         -1.429421         -0.132971  \n",
       "4          0.573351         -0.083193  "
      ]
     },
     "execution_count": 52,
     "metadata": {},
     "output_type": "execute_result"
    }
   ],
   "source": [
    "X_train_final.head()"
   ]
  },
  {
   "cell_type": "code",
   "execution_count": 53,
   "metadata": {},
   "outputs": [],
   "source": [
    "# add relevant columns\n",
    "first_submission['season'] = first_submission['ID'].apply(lambda x: x.split('_')[0]).astype('int64')\n",
    "first_submission['team_a'] = first_submission['ID'].apply(lambda x: x.split('_')[1]).astype('int64')\n",
    "first_submission['team_b'] = first_submission['ID'].apply(lambda x: x.split('_')[2]).astype('int64')"
   ]
  },
  {
   "cell_type": "code",
   "execution_count": 54,
   "metadata": {},
   "outputs": [],
   "source": [
    "# add seed_a information \n",
    "seeds['Seed'] = seeds['Seed'].apply(lambda x: re.sub('[^0-9]', '', x)).astype('int64')"
   ]
  },
  {
   "cell_type": "code",
   "execution_count": 88,
   "metadata": {},
   "outputs": [],
   "source": [
    "# add seed_a to first submission\n",
    "first_sub = first_submission.merge(seeds, how='left', left_on=['season', 'team_a'], right_on=['Season', 'TeamID'])\n",
    "first_sub.rename(columns={'Seed':'seed_a'}, inplace=True)\n",
    "first_sub.drop(['Season', 'TeamID'], axis=1, inplace=True)"
   ]
  },
  {
   "cell_type": "code",
   "execution_count": 89,
   "metadata": {},
   "outputs": [],
   "source": [
    "# add seed_b to first_submission\n",
    "first_sub = first_sub.merge(seeds, how='left', left_on=['season', 'team_b'], right_on=['Season', 'TeamID'])\n",
    "first_sub.rename(columns={'Seed':'seed_b'}, inplace=True)\n",
    "first_sub.drop(['Season', 'TeamID'], axis=1, inplace=True)"
   ]
  },
  {
   "cell_type": "code",
   "execution_count": 90,
   "metadata": {},
   "outputs": [],
   "source": [
    "# add reg season wins\n",
    "wins_group = season_results.groupby(['Season', 'WTeamID']).count().reset_index()\n",
    "lose_group = season_results.groupby(['Season', 'LTeamID']).count().reset_index()"
   ]
  },
  {
   "cell_type": "code",
   "execution_count": 91,
   "metadata": {},
   "outputs": [],
   "source": [
    "wins_group = wins_group[['Season', 'WTeamID', 'WScore']]\n",
    "lose_group = lose_group[['Season', 'LTeamID', 'LScore']]"
   ]
  },
  {
   "cell_type": "code",
   "execution_count": 92,
   "metadata": {},
   "outputs": [],
   "source": [
    "first_sub = first_sub.merge(wins_group, how='left', left_on=['season', 'team_a'], right_on=['Season', 'WTeamID'])\n",
    "first_sub.rename(columns={'WScore':'reg_season_wins_a'}, inplace=True)\n",
    "first_sub.drop(['Season', 'WTeamID'], axis=1, inplace=True)\n",
    "\n",
    "first_sub = first_sub.merge(wins_group, how='left', left_on=['season', 'team_b'], right_on=['Season', 'WTeamID'])\n",
    "first_sub.rename(columns={'WScore':'reg_season_wins_b'}, inplace=True)\n",
    "first_sub.drop(['Season', 'WTeamID'], axis=1, inplace=True)"
   ]
  },
  {
   "cell_type": "code",
   "execution_count": 93,
   "metadata": {},
   "outputs": [],
   "source": [
    "first_sub = first_sub.merge(lose_group, how='left', left_on=['season', 'team_a'], right_on=['Season', 'LTeamID'])\n",
    "first_sub.rename(columns={'LScore':'reg_season_losses_a'}, inplace=True)\n",
    "first_sub.drop(['Season', 'LTeamID'], axis=1, inplace=True)\n",
    "\n",
    "first_sub = first_sub.merge(lose_group, how='left', left_on=['season', 'team_b'], right_on=['Season', 'LTeamID'])\n",
    "first_sub.rename(columns={'LScore':'reg_season_losses_b'}, inplace=True)\n",
    "first_sub.drop(['Season', 'LTeamID'], axis=1, inplace=True)"
   ]
  },
  {
   "cell_type": "code",
   "execution_count": 94,
   "metadata": {},
   "outputs": [],
   "source": [
    "# add win and lose diffs \n",
    "wins_group = season_results.groupby(['Season', 'WTeamID']).mean(numeric_only=True).reset_index()\n",
    "lose_group = season_results.groupby(['Season', 'LTeamID']).mean(numeric_only=True).reset_index()"
   ]
  },
  {
   "cell_type": "code",
   "execution_count": 95,
   "metadata": {},
   "outputs": [],
   "source": [
    "wins_group = wins_group[['Season', 'WTeamID', 'WTeamScoreDiff']]\n",
    "lose_group = lose_group[['Season', 'LTeamID', 'LTeamScoreDiff']]"
   ]
  },
  {
   "cell_type": "code",
   "execution_count": 96,
   "metadata": {},
   "outputs": [],
   "source": [
    "first_sub = first_sub.merge(wins_group, how='left', left_on=['season', 'team_a'], right_on=['Season', 'WTeamID'])\n",
    "first_sub.rename(columns={'WTeamScoreDiff':'mean_win_diff_a'}, inplace=True)\n",
    "first_sub.drop(['Season', 'WTeamID'], axis=1, inplace=True)\n",
    "\n",
    "first_sub = first_sub.merge(wins_group, how='left', left_on=['season', 'team_b'], right_on=['Season', 'WTeamID'])\n",
    "first_sub.rename(columns={'WTeamScoreDiff':'mean_win_diff_b'}, inplace=True)\n",
    "first_sub.drop(['Season', 'WTeamID'], axis=1, inplace=True)"
   ]
  },
  {
   "cell_type": "code",
   "execution_count": 97,
   "metadata": {},
   "outputs": [],
   "source": [
    "first_sub = first_sub.merge(lose_group, how='left', left_on=['season', 'team_a'], right_on=['Season', 'LTeamID'])\n",
    "first_sub.rename(columns={'LTeamScoreDiff':'mean_lose_diff_a'}, inplace=True)\n",
    "first_sub.drop(['Season', 'LTeamID'], axis=1, inplace=True)\n",
    "\n",
    "first_sub = first_sub.merge(lose_group, how='left', left_on=['season', 'team_b'], right_on=['Season', 'LTeamID'])\n",
    "first_sub.rename(columns={'LTeamScoreDiff':'mean_lose_diff_b'}, inplace=True)\n",
    "first_sub.drop(['Season', 'LTeamID'], axis=1, inplace=True)"
   ]
  },
  {
   "cell_type": "code",
   "execution_count": 98,
   "metadata": {},
   "outputs": [
    {
     "data": {
      "text/html": [
       "<div>\n",
       "<style scoped>\n",
       "    .dataframe tbody tr th:only-of-type {\n",
       "        vertical-align: middle;\n",
       "    }\n",
       "\n",
       "    .dataframe tbody tr th {\n",
       "        vertical-align: top;\n",
       "    }\n",
       "\n",
       "    .dataframe thead th {\n",
       "        text-align: right;\n",
       "    }\n",
       "</style>\n",
       "<table border=\"1\" class=\"dataframe\">\n",
       "  <thead>\n",
       "    <tr style=\"text-align: right;\">\n",
       "      <th></th>\n",
       "      <th>ID</th>\n",
       "      <th>season</th>\n",
       "      <th>team_a</th>\n",
       "      <th>team_b</th>\n",
       "      <th>seed_a</th>\n",
       "      <th>seed_b</th>\n",
       "      <th>reg_season_wins_a</th>\n",
       "      <th>reg_season_wins_b</th>\n",
       "      <th>reg_season_losses_a</th>\n",
       "      <th>reg_season_losses_b</th>\n",
       "      <th>mean_win_diff_a</th>\n",
       "      <th>mean_win_diff_b</th>\n",
       "      <th>mean_lose_diff_a</th>\n",
       "      <th>mean_lose_diff_b</th>\n",
       "    </tr>\n",
       "  </thead>\n",
       "  <tbody>\n",
       "    <tr>\n",
       "      <th>0</th>\n",
       "      <td>2023_1101_1102</td>\n",
       "      <td>2023</td>\n",
       "      <td>1101</td>\n",
       "      <td>1102</td>\n",
       "      <td>NaN</td>\n",
       "      <td>NaN</td>\n",
       "      <td>9.0</td>\n",
       "      <td>14.0</td>\n",
       "      <td>17.0</td>\n",
       "      <td>18.0</td>\n",
       "      <td>11.333333</td>\n",
       "      <td>12.642857</td>\n",
       "      <td>-11.647059</td>\n",
       "      <td>-10.055556</td>\n",
       "    </tr>\n",
       "    <tr>\n",
       "      <th>1</th>\n",
       "      <td>2023_1101_1103</td>\n",
       "      <td>2023</td>\n",
       "      <td>1101</td>\n",
       "      <td>1103</td>\n",
       "      <td>NaN</td>\n",
       "      <td>NaN</td>\n",
       "      <td>9.0</td>\n",
       "      <td>20.0</td>\n",
       "      <td>17.0</td>\n",
       "      <td>11.0</td>\n",
       "      <td>11.333333</td>\n",
       "      <td>15.350000</td>\n",
       "      <td>-11.647059</td>\n",
       "      <td>-11.454545</td>\n",
       "    </tr>\n",
       "    <tr>\n",
       "      <th>2</th>\n",
       "      <td>2023_1101_1104</td>\n",
       "      <td>2023</td>\n",
       "      <td>1101</td>\n",
       "      <td>1104</td>\n",
       "      <td>NaN</td>\n",
       "      <td>1.0</td>\n",
       "      <td>9.0</td>\n",
       "      <td>29.0</td>\n",
       "      <td>17.0</td>\n",
       "      <td>5.0</td>\n",
       "      <td>11.333333</td>\n",
       "      <td>18.241379</td>\n",
       "      <td>-11.647059</td>\n",
       "      <td>-12.800000</td>\n",
       "    </tr>\n",
       "    <tr>\n",
       "      <th>3</th>\n",
       "      <td>2023_1101_1105</td>\n",
       "      <td>2023</td>\n",
       "      <td>1101</td>\n",
       "      <td>1105</td>\n",
       "      <td>NaN</td>\n",
       "      <td>NaN</td>\n",
       "      <td>9.0</td>\n",
       "      <td>12.0</td>\n",
       "      <td>17.0</td>\n",
       "      <td>18.0</td>\n",
       "      <td>11.333333</td>\n",
       "      <td>9.416667</td>\n",
       "      <td>-11.647059</td>\n",
       "      <td>-11.388889</td>\n",
       "    </tr>\n",
       "    <tr>\n",
       "      <th>4</th>\n",
       "      <td>2023_1101_1106</td>\n",
       "      <td>2023</td>\n",
       "      <td>1101</td>\n",
       "      <td>1106</td>\n",
       "      <td>NaN</td>\n",
       "      <td>NaN</td>\n",
       "      <td>9.0</td>\n",
       "      <td>7.0</td>\n",
       "      <td>17.0</td>\n",
       "      <td>23.0</td>\n",
       "      <td>11.333333</td>\n",
       "      <td>7.285714</td>\n",
       "      <td>-11.647059</td>\n",
       "      <td>-15.304348</td>\n",
       "    </tr>\n",
       "  </tbody>\n",
       "</table>\n",
       "</div>"
      ],
      "text/plain": [
       "               ID  season  team_a  team_b  seed_a  seed_b  reg_season_wins_a  \\\n",
       "0  2023_1101_1102    2023    1101    1102     NaN     NaN                9.0   \n",
       "1  2023_1101_1103    2023    1101    1103     NaN     NaN                9.0   \n",
       "2  2023_1101_1104    2023    1101    1104     NaN     1.0                9.0   \n",
       "3  2023_1101_1105    2023    1101    1105     NaN     NaN                9.0   \n",
       "4  2023_1101_1106    2023    1101    1106     NaN     NaN                9.0   \n",
       "\n",
       "   reg_season_wins_b  reg_season_losses_a  reg_season_losses_b  \\\n",
       "0               14.0                 17.0                 18.0   \n",
       "1               20.0                 17.0                 11.0   \n",
       "2               29.0                 17.0                  5.0   \n",
       "3               12.0                 17.0                 18.0   \n",
       "4                7.0                 17.0                 23.0   \n",
       "\n",
       "   mean_win_diff_a  mean_win_diff_b  mean_lose_diff_a  mean_lose_diff_b  \n",
       "0        11.333333        12.642857        -11.647059        -10.055556  \n",
       "1        11.333333        15.350000        -11.647059        -11.454545  \n",
       "2        11.333333        18.241379        -11.647059        -12.800000  \n",
       "3        11.333333         9.416667        -11.647059        -11.388889  \n",
       "4        11.333333         7.285714        -11.647059        -15.304348  "
      ]
     },
     "execution_count": 98,
     "metadata": {},
     "output_type": "execute_result"
    }
   ],
   "source": [
    "first_sub.head()"
   ]
  },
  {
   "cell_type": "code",
   "execution_count": 100,
   "metadata": {},
   "outputs": [],
   "source": [
    "# fill missing seed values with 1000\n",
    "first_sub['seed_a'].fillna(value=1000, inplace=True)\n",
    "first_sub['seed_b'].fillna(value=1000, inplace=True)"
   ]
  },
  {
   "cell_type": "code",
   "execution_count": 101,
   "metadata": {},
   "outputs": [
    {
     "data": {
      "text/plain": [
       "ID                     0\n",
       "season                 0\n",
       "team_a                 0\n",
       "team_b                 0\n",
       "seed_a                 0\n",
       "seed_b                 0\n",
       "reg_season_wins_a      0\n",
       "reg_season_wins_b      0\n",
       "reg_season_losses_a    0\n",
       "reg_season_losses_b    0\n",
       "mean_win_diff_a        0\n",
       "mean_win_diff_b        0\n",
       "mean_lose_diff_a       0\n",
       "mean_lose_diff_b       0\n",
       "dtype: int64"
      ]
     },
     "execution_count": 101,
     "metadata": {},
     "output_type": "execute_result"
    }
   ],
   "source": [
    "# fill everything else with 0s\n",
    "first_sub.fillna(value=0, inplace=True)\n",
    "first_sub.isna().sum()"
   ]
  },
  {
   "cell_type": "code",
   "execution_count": 102,
   "metadata": {},
   "outputs": [
    {
     "name": "stdout",
     "output_type": "stream",
     "text": [
      "<class 'pandas.core.frame.DataFrame'>\n",
      "Int64Index: 130683 entries, 0 to 130682\n",
      "Data columns (total 14 columns):\n",
      " #   Column               Non-Null Count   Dtype  \n",
      "---  ------               --------------   -----  \n",
      " 0   ID                   130683 non-null  object \n",
      " 1   season               130683 non-null  int64  \n",
      " 2   team_a               130683 non-null  int64  \n",
      " 3   team_b               130683 non-null  int64  \n",
      " 4   seed_a               130683 non-null  float64\n",
      " 5   seed_b               130683 non-null  float64\n",
      " 6   reg_season_wins_a    130683 non-null  float64\n",
      " 7   reg_season_wins_b    130683 non-null  float64\n",
      " 8   reg_season_losses_a  130683 non-null  float64\n",
      " 9   reg_season_losses_b  130683 non-null  float64\n",
      " 10  mean_win_diff_a      130683 non-null  float64\n",
      " 11  mean_win_diff_b      130683 non-null  float64\n",
      " 12  mean_lose_diff_a     130683 non-null  float64\n",
      " 13  mean_lose_diff_b     130683 non-null  float64\n",
      "dtypes: float64(10), int64(3), object(1)\n",
      "memory usage: 15.0+ MB\n"
     ]
    }
   ],
   "source": [
    "first_sub.info()"
   ]
  },
  {
   "cell_type": "code",
   "execution_count": null,
   "metadata": {},
   "outputs": [],
   "source": []
  }
 ],
 "metadata": {
  "kernelspec": {
   "display_name": "kaggle",
   "language": "python",
   "name": "python3"
  },
  "language_info": {
   "codemirror_mode": {
    "name": "ipython",
    "version": 3
   },
   "file_extension": ".py",
   "mimetype": "text/x-python",
   "name": "python",
   "nbconvert_exporter": "python",
   "pygments_lexer": "ipython3",
   "version": "3.10.9"
  },
  "orig_nbformat": 4
 },
 "nbformat": 4,
 "nbformat_minor": 2
}
