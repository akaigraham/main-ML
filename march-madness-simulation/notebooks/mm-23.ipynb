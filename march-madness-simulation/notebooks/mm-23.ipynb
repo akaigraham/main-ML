{
 "cells": [
  {
   "attachments": {},
   "cell_type": "markdown",
   "metadata": {},
   "source": [
    "# Kaggle March Madness Competition"
   ]
  },
  {
   "cell_type": "code",
   "execution_count": 1,
   "metadata": {},
   "outputs": [],
   "source": [
    "from pathlib import Path\n",
    "import os\n",
    "import pandas as pd"
   ]
  },
  {
   "cell_type": "code",
   "execution_count": 2,
   "metadata": {},
   "outputs": [],
   "source": [
    "# set path to data directories\n",
    "raw_data = Path('../march-machine-learning-mania-2023/')\n",
    "data_path = Path('../data/')"
   ]
  },
  {
   "attachments": {},
   "cell_type": "markdown",
   "metadata": {},
   "source": [
    "## Load Relevant Raw Data"
   ]
  },
  {
   "cell_type": "code",
   "execution_count": 3,
   "metadata": {},
   "outputs": [],
   "source": [
    "# teams\n",
    "m_teams = pd.read_csv(raw_data/'MTeams.csv')\n",
    "w_teams = pd.read_csv(raw_data/'WTeams.csv')\n",
    "\n",
    "# seasons\n",
    "m_seasons = pd.read_csv(raw_data/'MSeasons.csv')\n",
    "w_seasons = pd.read_csv(raw_data/'WSeasons.csv')\n",
    "\n",
    "# NCAA tournament seeds\n",
    "m_seeds = pd.read_csv(raw_data/'MNCAATourneySeeds.csv')\n",
    "w_seeds = pd.read_csv(raw_data/'WNCAATourneySeeds.csv')\n",
    "\n",
    "# compact regular season results\n",
    "m_season_compact = pd.read_csv(raw_data/'MRegularSeasonCompactResults.csv')\n",
    "w_season_compact = pd.read_csv(raw_data/'WRegularSeasonCompactResults.csv')\n",
    "\n",
    "# compact tournament results\n",
    "m_ncaa_compact = pd.read_csv(raw_data/'MNCAATourneyCompactResults.csv')\n",
    "w_ncaa_compact = pd.read_csv(raw_data/'WNCAATourneyCompactResults.csv')\n",
    "\n",
    "# sample submission file\n",
    "samp_submission = pd.read_csv(raw_data/'SampleSubmission2023.csv')"
   ]
  },
  {
   "attachments": {},
   "cell_type": "markdown",
   "metadata": {},
   "source": [
    "## Preprocess Data"
   ]
  },
  {
   "cell_type": "code",
   "execution_count": 4,
   "metadata": {},
   "outputs": [],
   "source": [
    "# concat mens and womens datasets\n",
    "teams = pd.concat([m_teams, w_teams], axis=0)\n",
    "seasons = pd.concat([m_seasons, w_seasons], axis=0)\n",
    "seeds = pd.concat([m_seeds, w_seeds], axis=0)\n",
    "season_results = pd.concat([m_season_compact, w_season_compact], axis=0)\n",
    "ncaa_results = pd.concat([m_ncaa_compact, w_ncaa_compact])"
   ]
  },
  {
   "cell_type": "code",
   "execution_count": 5,
   "metadata": {},
   "outputs": [],
   "source": [
    "# add winning team seeds to ncaa_results\n",
    "ncaa_results = ncaa_results.merge(seeds, how='left', left_on=['WTeamID', 'Season'], right_on=['TeamID', 'Season'])\n",
    "ncaa_results.rename(columns={'Seed': 'WTeamSeed'}, inplace=True)\n",
    "ncaa_results.drop('TeamID', axis=1, inplace=True)\n",
    "\n",
    "# add losing team seeds\n",
    "ncaa_results = ncaa_results.merge(seeds, how='left', left_on=['LTeamID', 'Season'], right_on=['TeamID', 'Season'])\n",
    "ncaa_results.rename(columns={'Seed':'LTeamSeed'}, inplace=True)\n",
    "ncaa_results.drop('TeamID', axis=1, inplace=True)"
   ]
  },
  {
   "cell_type": "code",
   "execution_count": 6,
   "metadata": {},
   "outputs": [],
   "source": [
    "# rename season columns\n",
    "seasons.columns = ['Season', 'SeasonStart', 'RegionW', 'RegionX', 'RegionY', 'RegionZ']\n",
    "\n",
    "# add to ncaa_results\n",
    "ncaa_results = ncaa_results.merge(seasons, how='left', on='Season')"
   ]
  },
  {
   "cell_type": "code",
   "execution_count": 7,
   "metadata": {},
   "outputs": [],
   "source": [
    "# identify team regions based on seed\n",
    "ncaa_results['WTeamRegion'] = ncaa_results['WTeamSeed'].apply(lambda x: x[0])\n",
    "ncaa_results['LTeamRegion'] = ncaa_results['LTeamSeed'].apply(lambda x: x[0])"
   ]
  },
  {
   "cell_type": "code",
   "execution_count": 8,
   "metadata": {},
   "outputs": [],
   "source": [
    "# create mapping dict for regions\n",
    "ncaa_results['mapping_dict'] = ncaa_results.apply(lambda x: {'W': x['RegionW'], \n",
    "                                                             'X': x['RegionX'],\n",
    "                                                             'Y': x['RegionY'],\n",
    "                                                             'Z': x['RegionZ']}, axis=1)"
   ]
  },
  {
   "cell_type": "code",
   "execution_count": 9,
   "metadata": {},
   "outputs": [],
   "source": [
    "# replace region codes with the proper region name\n",
    "ncaa_results['WTeamRegion'] = ncaa_results.apply(lambda x: x['mapping_dict'][x['WTeamRegion']], axis=1)\n",
    "ncaa_results['LTeamRegion'] = ncaa_results.apply(lambda x: x['mapping_dict'][x['LTeamRegion']], axis=1)"
   ]
  },
  {
   "cell_type": "code",
   "execution_count": 10,
   "metadata": {},
   "outputs": [],
   "source": [
    "# drop unnecessary columns\n",
    "ncaa_results.drop(['RegionW', 'RegionX', 'RegionY', 'RegionZ', 'mapping_dict'], axis=1, inplace=True)"
   ]
  },
  {
   "cell_type": "code",
   "execution_count": 11,
   "metadata": {},
   "outputs": [],
   "source": [
    "# winning team details \n",
    "ncaa_results = ncaa_results.merge(teams, how='left', left_on='WTeamID', right_on='TeamID')\n",
    "ncaa_results.rename(columns={'TeamName': 'WTeamName',\n",
    "                             'FirstD1Season': 'WTeamFirstD1Season',\n",
    "                             'LastD1Season': 'WTeamLastD1Season'}, inplace=True)\n",
    "ncaa_results.drop('TeamID', axis=1, inplace=True)\n",
    "\n",
    "# losing team details \n",
    "ncaa_results = ncaa_results.merge(teams, how='left', left_on='LTeamID', right_on='TeamID')\n",
    "ncaa_results.rename(columns={'TeamName':'LTeamName',\n",
    "                             'FirstD1Season': 'LTeamFirstD1Season',\n",
    "                             'LastD1Season': 'LTeamLastD1Season'}, inplace=True)\n",
    "ncaa_results.drop('TeamID', axis=1, inplace=True)"
   ]
  },
  {
   "cell_type": "code",
   "execution_count": 12,
   "metadata": {},
   "outputs": [],
   "source": [
    "# add columns \n",
    "season_results['WTeamScoreDiff'] = season_results['WScore'] - season_results['LScore']\n",
    "season_results['LTeamScoreDiff'] = season_results['LScore'] - season_results['WScore']"
   ]
  },
  {
   "cell_type": "code",
   "execution_count": 13,
   "metadata": {},
   "outputs": [],
   "source": [
    "# regular season games won\n",
    "grouped = season_results.groupby(['Season', 'WTeamID']).count().reset_index()\n",
    "grouped = grouped[['Season', 'WTeamID', 'WScore']]\n",
    "grouped.columns = ['Season', 'TeamID', 'GamesWon']\n",
    "\n",
    "# concat into ncaa_results on WTeam\n",
    "ncaa_results = ncaa_results.merge(grouped, how='left', left_on=['Season', 'WTeamID'], right_on=['Season', 'TeamID'])\n",
    "ncaa_results.drop('TeamID', axis=1, inplace=True)\n",
    "ncaa_results.rename(columns={'GamesWon':'WTeamGamesWon'}, inplace=True)\n",
    "\n",
    "# concat into ncaa_results on LTeam\n",
    "ncaa_results = ncaa_results.merge(grouped, how='left', left_on=['Season', 'LTeamID'], right_on=['Season', 'TeamID'])\n",
    "ncaa_results.drop('TeamID', axis=1, inplace=True)\n",
    "ncaa_results.rename(columns={'GamesWon':'LTeamGamesWon'}, inplace=True)"
   ]
  },
  {
   "cell_type": "code",
   "execution_count": 14,
   "metadata": {},
   "outputs": [],
   "source": [
    "# regular season games lost\n",
    "grouped = season_results.groupby(['Season', 'LTeamID']).count().reset_index()\n",
    "grouped = grouped[['Season', 'LTeamID', 'LScore']]\n",
    "grouped.columns = ['Season', 'TeamID', 'GamesLost']\n",
    "\n",
    "# concat into ncaa_results on WTeam\n",
    "ncaa_results = ncaa_results.merge(grouped, how='left', left_on=['Season', 'WTeamID'], right_on=['Season', 'TeamID'])\n",
    "ncaa_results.drop('TeamID', axis=1, inplace=True)\n",
    "ncaa_results.rename(columns={'GamesLost':'WTeamGamesLost'}, inplace=True)\n",
    "\n",
    "# concat into ncaa_results on LTeam\n",
    "ncaa_results = ncaa_results.merge(grouped, how='left', left_on=['Season', 'LTeamID'], right_on=['Season', 'TeamID'])\n",
    "ncaa_results.drop('TeamID', axis=1, inplace=True)\n",
    "ncaa_results.rename(columns={'GamesLost':'LTeamGamesLost'}, inplace=True)"
   ]
  },
  {
   "cell_type": "code",
   "execution_count": 15,
   "metadata": {},
   "outputs": [],
   "source": [
    "# average regular season point differential\n",
    "grouped_win = season_results.groupby(['Season', 'WTeamID']).mean(numeric_only=True).reset_index()\n",
    "grouped_lose = season_results.groupby(['Season', 'LTeamID']).mean(numeric_only=True).reset_index()\n",
    "\n",
    "# Win score diff\n",
    "grouped_win = grouped_win[['Season', 'WTeamID', 'WTeamScoreDiff']]\n",
    "grouped_win.columns = ['Season', 'TeamID', 'MeanWinScoreDiff']\n",
    "\n",
    "# Lose score diff\n",
    "grouped_lose = grouped_lose[['Season', 'LTeamID', 'LTeamScoreDiff']]\n",
    "grouped_lose.columns = ['Season', 'TeamID', 'MeanLoseScoreDiff']"
   ]
  },
  {
   "cell_type": "code",
   "execution_count": 16,
   "metadata": {},
   "outputs": [],
   "source": [
    "# concat winning team meanwinscorediff\n",
    "ncaa_results = ncaa_results.merge(grouped_win, how='left', left_on=['Season', 'WTeamID'], right_on=['Season', 'TeamID'])\n",
    "ncaa_results.drop('TeamID', axis=1, inplace=True)\n",
    "ncaa_results.rename(columns={'MeanWinScoreDiff':'WTeamMeanWinDiff'}, inplace=True)\n",
    "\n",
    "# concat losing team meanwinscorediff\n",
    "ncaa_results = ncaa_results.merge(grouped_win, how='left', left_on=['Season', 'LTeamID'], right_on=['Season', 'TeamID'])\n",
    "ncaa_results.drop('TeamID', axis=1, inplace=True)\n",
    "ncaa_results.rename(columns={'MeanWinScoreDiff':'LTeamMeanWinDiff'}, inplace=True)"
   ]
  },
  {
   "cell_type": "code",
   "execution_count": 17,
   "metadata": {},
   "outputs": [],
   "source": [
    "# concat winning team mean lose score diff\n",
    "ncaa_results = ncaa_results.merge(grouped_lose, how='left', left_on=['Season', 'WTeamID'], right_on=['Season', 'TeamID'])\n",
    "ncaa_results.drop('TeamID', axis=1, inplace=True)\n",
    "ncaa_results.rename(columns={'MeanLoseScoreDiff':'WTeamMeanLoseDiff'}, inplace=True)\n",
    "\n",
    "# concat losing team mean lose score diff\n",
    "ncaa_results = ncaa_results.merge(grouped_lose, how='left', left_on=['Season', 'LTeamID'], right_on=['Season', 'TeamID'])\n",
    "ncaa_results.drop('TeamID', axis=1, inplace=True)\n",
    "ncaa_results.rename(columns={'MeanLoseScoreDiff':'LTeamMeanLoseDiff'}, inplace=True)"
   ]
  },
  {
   "cell_type": "code",
   "execution_count": 18,
   "metadata": {},
   "outputs": [
    {
     "data": {
      "text/html": [
       "<div>\n",
       "<style scoped>\n",
       "    .dataframe tbody tr th:only-of-type {\n",
       "        vertical-align: middle;\n",
       "    }\n",
       "\n",
       "    .dataframe tbody tr th {\n",
       "        vertical-align: top;\n",
       "    }\n",
       "\n",
       "    .dataframe thead th {\n",
       "        text-align: right;\n",
       "    }\n",
       "</style>\n",
       "<table border=\"1\" class=\"dataframe\">\n",
       "  <thead>\n",
       "    <tr style=\"text-align: right;\">\n",
       "      <th></th>\n",
       "      <th>Season</th>\n",
       "      <th>DayNum</th>\n",
       "      <th>WTeamID</th>\n",
       "      <th>WScore</th>\n",
       "      <th>LTeamID</th>\n",
       "      <th>LScore</th>\n",
       "      <th>WLoc</th>\n",
       "      <th>NumOT</th>\n",
       "      <th>WTeamSeed</th>\n",
       "      <th>LTeamSeed</th>\n",
       "      <th>...</th>\n",
       "      <th>LTeamFirstD1Season</th>\n",
       "      <th>LTeamLastD1Season</th>\n",
       "      <th>WTeamGamesWon</th>\n",
       "      <th>LTeamGamesWon</th>\n",
       "      <th>WTeamGamesLost</th>\n",
       "      <th>LTeamGamesLost</th>\n",
       "      <th>WTeamMeanWinDiff</th>\n",
       "      <th>LTeamMeanWinDiff</th>\n",
       "      <th>WTeamMeanLoseDiff</th>\n",
       "      <th>LTeamMeanLoseDiff</th>\n",
       "    </tr>\n",
       "  </thead>\n",
       "  <tbody>\n",
       "    <tr>\n",
       "      <th>0</th>\n",
       "      <td>1985</td>\n",
       "      <td>136</td>\n",
       "      <td>1116</td>\n",
       "      <td>63</td>\n",
       "      <td>1234</td>\n",
       "      <td>54</td>\n",
       "      <td>N</td>\n",
       "      <td>0</td>\n",
       "      <td>X09</td>\n",
       "      <td>X08</td>\n",
       "      <td>...</td>\n",
       "      <td>1985.0</td>\n",
       "      <td>2023.0</td>\n",
       "      <td>21</td>\n",
       "      <td>20</td>\n",
       "      <td>12.0</td>\n",
       "      <td>10.0</td>\n",
       "      <td>10.333333</td>\n",
       "      <td>18.450000</td>\n",
       "      <td>-8.083333</td>\n",
       "      <td>-5.500000</td>\n",
       "    </tr>\n",
       "    <tr>\n",
       "      <th>1</th>\n",
       "      <td>1985</td>\n",
       "      <td>136</td>\n",
       "      <td>1120</td>\n",
       "      <td>59</td>\n",
       "      <td>1345</td>\n",
       "      <td>58</td>\n",
       "      <td>N</td>\n",
       "      <td>0</td>\n",
       "      <td>Z11</td>\n",
       "      <td>Z06</td>\n",
       "      <td>...</td>\n",
       "      <td>1985.0</td>\n",
       "      <td>2023.0</td>\n",
       "      <td>18</td>\n",
       "      <td>17</td>\n",
       "      <td>11.0</td>\n",
       "      <td>8.0</td>\n",
       "      <td>11.833333</td>\n",
       "      <td>12.529412</td>\n",
       "      <td>-9.636364</td>\n",
       "      <td>-14.750000</td>\n",
       "    </tr>\n",
       "    <tr>\n",
       "      <th>2</th>\n",
       "      <td>1985</td>\n",
       "      <td>136</td>\n",
       "      <td>1207</td>\n",
       "      <td>68</td>\n",
       "      <td>1250</td>\n",
       "      <td>43</td>\n",
       "      <td>N</td>\n",
       "      <td>0</td>\n",
       "      <td>W01</td>\n",
       "      <td>W16</td>\n",
       "      <td>...</td>\n",
       "      <td>1985.0</td>\n",
       "      <td>2023.0</td>\n",
       "      <td>25</td>\n",
       "      <td>11</td>\n",
       "      <td>2.0</td>\n",
       "      <td>18.0</td>\n",
       "      <td>17.040000</td>\n",
       "      <td>6.000000</td>\n",
       "      <td>-1.500000</td>\n",
       "      <td>-10.833333</td>\n",
       "    </tr>\n",
       "    <tr>\n",
       "      <th>3</th>\n",
       "      <td>1985</td>\n",
       "      <td>136</td>\n",
       "      <td>1229</td>\n",
       "      <td>58</td>\n",
       "      <td>1425</td>\n",
       "      <td>55</td>\n",
       "      <td>N</td>\n",
       "      <td>0</td>\n",
       "      <td>Y09</td>\n",
       "      <td>Y08</td>\n",
       "      <td>...</td>\n",
       "      <td>1985.0</td>\n",
       "      <td>2023.0</td>\n",
       "      <td>20</td>\n",
       "      <td>19</td>\n",
       "      <td>7.0</td>\n",
       "      <td>9.0</td>\n",
       "      <td>11.350000</td>\n",
       "      <td>9.421053</td>\n",
       "      <td>-9.428571</td>\n",
       "      <td>-8.111111</td>\n",
       "    </tr>\n",
       "    <tr>\n",
       "      <th>4</th>\n",
       "      <td>1985</td>\n",
       "      <td>136</td>\n",
       "      <td>1242</td>\n",
       "      <td>49</td>\n",
       "      <td>1325</td>\n",
       "      <td>38</td>\n",
       "      <td>N</td>\n",
       "      <td>0</td>\n",
       "      <td>Z03</td>\n",
       "      <td>Z14</td>\n",
       "      <td>...</td>\n",
       "      <td>1985.0</td>\n",
       "      <td>2023.0</td>\n",
       "      <td>23</td>\n",
       "      <td>20</td>\n",
       "      <td>7.0</td>\n",
       "      <td>7.0</td>\n",
       "      <td>10.043478</td>\n",
       "      <td>8.800000</td>\n",
       "      <td>-8.857143</td>\n",
       "      <td>-7.571429</td>\n",
       "    </tr>\n",
       "  </tbody>\n",
       "</table>\n",
       "<p>5 rows × 27 columns</p>\n",
       "</div>"
      ],
      "text/plain": [
       "   Season  DayNum  WTeamID  WScore  LTeamID  LScore WLoc  NumOT WTeamSeed  \\\n",
       "0    1985     136     1116      63     1234      54    N      0       X09   \n",
       "1    1985     136     1120      59     1345      58    N      0       Z11   \n",
       "2    1985     136     1207      68     1250      43    N      0       W01   \n",
       "3    1985     136     1229      58     1425      55    N      0       Y09   \n",
       "4    1985     136     1242      49     1325      38    N      0       Z03   \n",
       "\n",
       "  LTeamSeed  ... LTeamFirstD1Season LTeamLastD1Season WTeamGamesWon  \\\n",
       "0       X08  ...             1985.0            2023.0            21   \n",
       "1       Z06  ...             1985.0            2023.0            18   \n",
       "2       W16  ...             1985.0            2023.0            25   \n",
       "3       Y08  ...             1985.0            2023.0            20   \n",
       "4       Z14  ...             1985.0            2023.0            23   \n",
       "\n",
       "  LTeamGamesWon  WTeamGamesLost  LTeamGamesLost WTeamMeanWinDiff  \\\n",
       "0            20            12.0            10.0        10.333333   \n",
       "1            17            11.0             8.0        11.833333   \n",
       "2            11             2.0            18.0        17.040000   \n",
       "3            19             7.0             9.0        11.350000   \n",
       "4            20             7.0             7.0        10.043478   \n",
       "\n",
       "   LTeamMeanWinDiff  WTeamMeanLoseDiff  LTeamMeanLoseDiff  \n",
       "0         18.450000          -8.083333          -5.500000  \n",
       "1         12.529412          -9.636364         -14.750000  \n",
       "2          6.000000          -1.500000         -10.833333  \n",
       "3          9.421053          -9.428571          -8.111111  \n",
       "4          8.800000          -8.857143          -7.571429  \n",
       "\n",
       "[5 rows x 27 columns]"
      ]
     },
     "execution_count": 18,
     "metadata": {},
     "output_type": "execute_result"
    }
   ],
   "source": [
    "ncaa_results.head()"
   ]
  },
  {
   "cell_type": "code",
   "execution_count": 19,
   "metadata": {},
   "outputs": [
    {
     "data": {
      "text/html": [
       "<div>\n",
       "<style scoped>\n",
       "    .dataframe tbody tr th:only-of-type {\n",
       "        vertical-align: middle;\n",
       "    }\n",
       "\n",
       "    .dataframe tbody tr th {\n",
       "        vertical-align: top;\n",
       "    }\n",
       "\n",
       "    .dataframe thead th {\n",
       "        text-align: right;\n",
       "    }\n",
       "</style>\n",
       "<table border=\"1\" class=\"dataframe\">\n",
       "  <thead>\n",
       "    <tr style=\"text-align: right;\">\n",
       "      <th></th>\n",
       "      <th>Season</th>\n",
       "      <th>DayNum</th>\n",
       "      <th>WTeamID</th>\n",
       "      <th>WScore</th>\n",
       "      <th>LTeamID</th>\n",
       "      <th>LScore</th>\n",
       "      <th>WLoc</th>\n",
       "      <th>NumOT</th>\n",
       "      <th>WTeamSeed</th>\n",
       "      <th>LTeamSeed</th>\n",
       "      <th>...</th>\n",
       "      <th>LTeamFirstD1Season</th>\n",
       "      <th>LTeamLastD1Season</th>\n",
       "      <th>WTeamGamesWon</th>\n",
       "      <th>LTeamGamesWon</th>\n",
       "      <th>WTeamGamesLost</th>\n",
       "      <th>LTeamGamesLost</th>\n",
       "      <th>WTeamMeanWinDiff</th>\n",
       "      <th>LTeamMeanWinDiff</th>\n",
       "      <th>WTeamMeanLoseDiff</th>\n",
       "      <th>LTeamMeanLoseDiff</th>\n",
       "    </tr>\n",
       "  </thead>\n",
       "  <tbody>\n",
       "    <tr>\n",
       "      <th>0</th>\n",
       "      <td>1985</td>\n",
       "      <td>136</td>\n",
       "      <td>1116</td>\n",
       "      <td>63</td>\n",
       "      <td>1234</td>\n",
       "      <td>54</td>\n",
       "      <td>N</td>\n",
       "      <td>0</td>\n",
       "      <td>X09</td>\n",
       "      <td>X08</td>\n",
       "      <td>...</td>\n",
       "      <td>1985.0</td>\n",
       "      <td>2023.0</td>\n",
       "      <td>21</td>\n",
       "      <td>20</td>\n",
       "      <td>12.0</td>\n",
       "      <td>10.0</td>\n",
       "      <td>10.333333</td>\n",
       "      <td>18.450000</td>\n",
       "      <td>-8.083333</td>\n",
       "      <td>-5.500000</td>\n",
       "    </tr>\n",
       "    <tr>\n",
       "      <th>1</th>\n",
       "      <td>1985</td>\n",
       "      <td>136</td>\n",
       "      <td>1120</td>\n",
       "      <td>59</td>\n",
       "      <td>1345</td>\n",
       "      <td>58</td>\n",
       "      <td>N</td>\n",
       "      <td>0</td>\n",
       "      <td>Z11</td>\n",
       "      <td>Z06</td>\n",
       "      <td>...</td>\n",
       "      <td>1985.0</td>\n",
       "      <td>2023.0</td>\n",
       "      <td>18</td>\n",
       "      <td>17</td>\n",
       "      <td>11.0</td>\n",
       "      <td>8.0</td>\n",
       "      <td>11.833333</td>\n",
       "      <td>12.529412</td>\n",
       "      <td>-9.636364</td>\n",
       "      <td>-14.750000</td>\n",
       "    </tr>\n",
       "    <tr>\n",
       "      <th>2</th>\n",
       "      <td>1985</td>\n",
       "      <td>136</td>\n",
       "      <td>1207</td>\n",
       "      <td>68</td>\n",
       "      <td>1250</td>\n",
       "      <td>43</td>\n",
       "      <td>N</td>\n",
       "      <td>0</td>\n",
       "      <td>W01</td>\n",
       "      <td>W16</td>\n",
       "      <td>...</td>\n",
       "      <td>1985.0</td>\n",
       "      <td>2023.0</td>\n",
       "      <td>25</td>\n",
       "      <td>11</td>\n",
       "      <td>2.0</td>\n",
       "      <td>18.0</td>\n",
       "      <td>17.040000</td>\n",
       "      <td>6.000000</td>\n",
       "      <td>-1.500000</td>\n",
       "      <td>-10.833333</td>\n",
       "    </tr>\n",
       "    <tr>\n",
       "      <th>3</th>\n",
       "      <td>1985</td>\n",
       "      <td>136</td>\n",
       "      <td>1229</td>\n",
       "      <td>58</td>\n",
       "      <td>1425</td>\n",
       "      <td>55</td>\n",
       "      <td>N</td>\n",
       "      <td>0</td>\n",
       "      <td>Y09</td>\n",
       "      <td>Y08</td>\n",
       "      <td>...</td>\n",
       "      <td>1985.0</td>\n",
       "      <td>2023.0</td>\n",
       "      <td>20</td>\n",
       "      <td>19</td>\n",
       "      <td>7.0</td>\n",
       "      <td>9.0</td>\n",
       "      <td>11.350000</td>\n",
       "      <td>9.421053</td>\n",
       "      <td>-9.428571</td>\n",
       "      <td>-8.111111</td>\n",
       "    </tr>\n",
       "    <tr>\n",
       "      <th>4</th>\n",
       "      <td>1985</td>\n",
       "      <td>136</td>\n",
       "      <td>1242</td>\n",
       "      <td>49</td>\n",
       "      <td>1325</td>\n",
       "      <td>38</td>\n",
       "      <td>N</td>\n",
       "      <td>0</td>\n",
       "      <td>Z03</td>\n",
       "      <td>Z14</td>\n",
       "      <td>...</td>\n",
       "      <td>1985.0</td>\n",
       "      <td>2023.0</td>\n",
       "      <td>23</td>\n",
       "      <td>20</td>\n",
       "      <td>7.0</td>\n",
       "      <td>7.0</td>\n",
       "      <td>10.043478</td>\n",
       "      <td>8.800000</td>\n",
       "      <td>-8.857143</td>\n",
       "      <td>-7.571429</td>\n",
       "    </tr>\n",
       "  </tbody>\n",
       "</table>\n",
       "<p>5 rows × 27 columns</p>\n",
       "</div>"
      ],
      "text/plain": [
       "   Season  DayNum  WTeamID  WScore  LTeamID  LScore WLoc  NumOT WTeamSeed  \\\n",
       "0    1985     136     1116      63     1234      54    N      0       X09   \n",
       "1    1985     136     1120      59     1345      58    N      0       Z11   \n",
       "2    1985     136     1207      68     1250      43    N      0       W01   \n",
       "3    1985     136     1229      58     1425      55    N      0       Y09   \n",
       "4    1985     136     1242      49     1325      38    N      0       Z03   \n",
       "\n",
       "  LTeamSeed  ... LTeamFirstD1Season LTeamLastD1Season WTeamGamesWon  \\\n",
       "0       X08  ...             1985.0            2023.0            21   \n",
       "1       Z06  ...             1985.0            2023.0            18   \n",
       "2       W16  ...             1985.0            2023.0            25   \n",
       "3       Y08  ...             1985.0            2023.0            20   \n",
       "4       Z14  ...             1985.0            2023.0            23   \n",
       "\n",
       "  LTeamGamesWon  WTeamGamesLost  LTeamGamesLost WTeamMeanWinDiff  \\\n",
       "0            20            12.0            10.0        10.333333   \n",
       "1            17            11.0             8.0        11.833333   \n",
       "2            11             2.0            18.0        17.040000   \n",
       "3            19             7.0             9.0        11.350000   \n",
       "4            20             7.0             7.0        10.043478   \n",
       "\n",
       "   LTeamMeanWinDiff  WTeamMeanLoseDiff  LTeamMeanLoseDiff  \n",
       "0         18.450000          -8.083333          -5.500000  \n",
       "1         12.529412          -9.636364         -14.750000  \n",
       "2          6.000000          -1.500000         -10.833333  \n",
       "3          9.421053          -9.428571          -8.111111  \n",
       "4          8.800000          -8.857143          -7.571429  \n",
       "\n",
       "[5 rows x 27 columns]"
      ]
     },
     "execution_count": 19,
     "metadata": {},
     "output_type": "execute_result"
    }
   ],
   "source": [
    "ncaa_results.head()"
   ]
  },
  {
   "cell_type": "code",
   "execution_count": 20,
   "metadata": {},
   "outputs": [
    {
     "data": {
      "text/plain": [
       "['Season',\n",
       " 'DayNum',\n",
       " 'WTeamID',\n",
       " 'WScore',\n",
       " 'LTeamID',\n",
       " 'LScore',\n",
       " 'WLoc',\n",
       " 'NumOT',\n",
       " 'WTeamSeed',\n",
       " 'LTeamSeed',\n",
       " 'SeasonStart',\n",
       " 'WTeamRegion',\n",
       " 'LTeamRegion',\n",
       " 'WTeamName',\n",
       " 'WTeamFirstD1Season',\n",
       " 'WTeamLastD1Season',\n",
       " 'LTeamName',\n",
       " 'LTeamFirstD1Season',\n",
       " 'LTeamLastD1Season',\n",
       " 'WTeamGamesWon',\n",
       " 'LTeamGamesWon',\n",
       " 'WTeamGamesLost',\n",
       " 'LTeamGamesLost',\n",
       " 'WTeamMeanWinDiff',\n",
       " 'LTeamMeanWinDiff',\n",
       " 'WTeamMeanLoseDiff',\n",
       " 'LTeamMeanLoseDiff']"
      ]
     },
     "execution_count": 20,
     "metadata": {},
     "output_type": "execute_result"
    }
   ],
   "source": [
    "list(ncaa_results.columns)"
   ]
  },
  {
   "cell_type": "code",
   "execution_count": 21,
   "metadata": {},
   "outputs": [],
   "source": [
    "# drop unnecessary columns\n",
    "ncaa_results = ncaa_results.drop(['WLoc', 'NumOT', 'SeasonStart', 'WTeamRegion', 'LTeamRegion',\n",
    "                                  'WTeamFirstD1Season', 'WTeamLastD1Season',\n",
    "                                  'LTeamFirstD1Season', 'LTeamLastD1Season'], axis=1)"
   ]
  },
  {
   "cell_type": "code",
   "execution_count": 22,
   "metadata": {},
   "outputs": [],
   "source": [
    "# create copy and drop additional columns\n",
    "preprocessed = ncaa_results.copy() \n",
    "preprocessed = preprocessed.drop(['WScore', 'LScore', 'WTeamName', 'LTeamName', 'DayNum'], axis=1)"
   ]
  },
  {
   "cell_type": "code",
   "execution_count": 23,
   "metadata": {},
   "outputs": [],
   "source": [
    "# pull out seed numbers\n",
    "import re\n",
    "preprocessed['WTeamSeed'] = preprocessed['WTeamSeed'].apply(lambda x: re.sub('[^0-9]', '', x))\n",
    "preprocessed['LTeamSeed'] = preprocessed['LTeamSeed'].apply(lambda x: re.sub('[^0-9]', '', x))"
   ]
  },
  {
   "cell_type": "code",
   "execution_count": 24,
   "metadata": {},
   "outputs": [
    {
     "data": {
      "text/html": [
       "<div>\n",
       "<style scoped>\n",
       "    .dataframe tbody tr th:only-of-type {\n",
       "        vertical-align: middle;\n",
       "    }\n",
       "\n",
       "    .dataframe tbody tr th {\n",
       "        vertical-align: top;\n",
       "    }\n",
       "\n",
       "    .dataframe thead th {\n",
       "        text-align: right;\n",
       "    }\n",
       "</style>\n",
       "<table border=\"1\" class=\"dataframe\">\n",
       "  <thead>\n",
       "    <tr style=\"text-align: right;\">\n",
       "      <th></th>\n",
       "      <th>ID</th>\n",
       "      <th>Pred</th>\n",
       "    </tr>\n",
       "  </thead>\n",
       "  <tbody>\n",
       "    <tr>\n",
       "      <th>0</th>\n",
       "      <td>2023_1101_1102</td>\n",
       "      <td>0.5</td>\n",
       "    </tr>\n",
       "    <tr>\n",
       "      <th>1</th>\n",
       "      <td>2023_1101_1103</td>\n",
       "      <td>0.5</td>\n",
       "    </tr>\n",
       "    <tr>\n",
       "      <th>2</th>\n",
       "      <td>2023_1101_1104</td>\n",
       "      <td>0.5</td>\n",
       "    </tr>\n",
       "    <tr>\n",
       "      <th>3</th>\n",
       "      <td>2023_1101_1105</td>\n",
       "      <td>0.5</td>\n",
       "    </tr>\n",
       "    <tr>\n",
       "      <th>4</th>\n",
       "      <td>2023_1101_1106</td>\n",
       "      <td>0.5</td>\n",
       "    </tr>\n",
       "  </tbody>\n",
       "</table>\n",
       "</div>"
      ],
      "text/plain": [
       "               ID  Pred\n",
       "0  2023_1101_1102   0.5\n",
       "1  2023_1101_1103   0.5\n",
       "2  2023_1101_1104   0.5\n",
       "3  2023_1101_1105   0.5\n",
       "4  2023_1101_1106   0.5"
      ]
     },
     "execution_count": 24,
     "metadata": {},
     "output_type": "execute_result"
    }
   ],
   "source": [
    "# preview sample submission\n",
    "samp_submission.head()"
   ]
  },
  {
   "cell_type": "code",
   "execution_count": 25,
   "metadata": {},
   "outputs": [],
   "source": [
    "# team listed first will always be the winning team\n",
    "preprocessed['Pred'] = 1"
   ]
  },
  {
   "cell_type": "code",
   "execution_count": 26,
   "metadata": {},
   "outputs": [],
   "source": [
    "# rename columns\n",
    "preprocessed.columns = ['season', 'team_a', 'team_b', \n",
    "                        'seed_a', 'seed_b', \n",
    "                        'reg_season_wins_a', 'reg_season_wins_b',\n",
    "                        'reg_season_losses_a', 'reg_season_losses_b',\n",
    "                        'mean_win_diff_a', 'mean_win_diff_b',\n",
    "                        'mean_lose_diff_a', 'mean_lose_diff_b',\n",
    "                        'Pred']"
   ]
  },
  {
   "attachments": {},
   "cell_type": "markdown",
   "metadata": {},
   "source": [
    "## Prepare for Modeling"
   ]
  },
  {
   "cell_type": "code",
   "execution_count": 27,
   "metadata": {},
   "outputs": [],
   "source": [
    "import numpy as np\n",
    "from sklearn.impute import SimpleImputer"
   ]
  },
  {
   "cell_type": "code",
   "execution_count": 28,
   "metadata": {},
   "outputs": [
    {
     "data": {
      "text/plain": [
       "01    1559\n",
       "02    1082\n",
       "03     853\n",
       "04     703\n",
       "05     508\n",
       "06     426\n",
       "07     388\n",
       "11     296\n",
       "08     281\n",
       "09     249\n",
       "10     237\n",
       "12     184\n",
       "13      81\n",
       "16      72\n",
       "14      37\n",
       "15      25\n",
       "Name: seed_a, dtype: int64"
      ]
     },
     "execution_count": 28,
     "metadata": {},
     "output_type": "execute_result"
    }
   ],
   "source": [
    "# check seed columns for weird values\n",
    "preprocessed['seed_a'].value_counts()"
   ]
  },
  {
   "cell_type": "code",
   "execution_count": 29,
   "metadata": {},
   "outputs": [],
   "source": [
    "# convert seed columns to numeric\n",
    "preprocessed['seed_a'] = preprocessed['seed_a'].astype('int')\n",
    "preprocessed['seed_b'] = preprocessed['seed_b'].astype('int')"
   ]
  },
  {
   "cell_type": "code",
   "execution_count": 30,
   "metadata": {},
   "outputs": [
    {
     "name": "stdout",
     "output_type": "stream",
     "text": [
      "<class 'pandas.core.frame.DataFrame'>\n",
      "Int64Index: 6981 entries, 0 to 6980\n",
      "Data columns (total 14 columns):\n",
      " #   Column               Non-Null Count  Dtype  \n",
      "---  ------               --------------  -----  \n",
      " 0   season               6981 non-null   int64  \n",
      " 1   team_a               6981 non-null   int64  \n",
      " 2   team_b               6981 non-null   int64  \n",
      " 3   seed_a               6981 non-null   int64  \n",
      " 4   seed_b               6981 non-null   int64  \n",
      " 5   reg_season_wins_a    6981 non-null   int64  \n",
      " 6   reg_season_wins_b    6981 non-null   int64  \n",
      " 7   reg_season_losses_a  6843 non-null   float64\n",
      " 8   reg_season_losses_b  6962 non-null   float64\n",
      " 9   mean_win_diff_a      6981 non-null   float64\n",
      " 10  mean_win_diff_b      6981 non-null   float64\n",
      " 11  mean_lose_diff_a     6843 non-null   float64\n",
      " 12  mean_lose_diff_b     6962 non-null   float64\n",
      " 13  Pred                 6981 non-null   int64  \n",
      "dtypes: float64(6), int64(8)\n",
      "memory usage: 818.1 KB\n"
     ]
    }
   ],
   "source": [
    "# check column types\n",
    "preprocessed.info()"
   ]
  },
  {
   "cell_type": "code",
   "execution_count": 31,
   "metadata": {},
   "outputs": [],
   "source": [
    "# for now fill missing values with the column mean\n",
    "preprocessed['reg_season_losses_a'].fillna(value=preprocessed['reg_season_losses_a'].mean(), inplace=True)\n",
    "preprocessed['reg_season_losses_b'].fillna(value=preprocessed['reg_season_losses_b'].mean(), inplace=True)\n",
    "preprocessed['mean_lose_diff_a'].fillna(value=preprocessed['mean_lose_diff_a'].mean(), inplace=True)\n",
    "preprocessed['mean_lose_diff_b'].fillna(value=preprocessed['mean_lose_diff_b'].mean(), inplace=True)"
   ]
  },
  {
   "attachments": {},
   "cell_type": "markdown",
   "metadata": {},
   "source": [
    "Our dataset shows significant class imbalance, so we will sample half of the dataframe and present losers first for that half."
   ]
  },
  {
   "cell_type": "code",
   "execution_count": 32,
   "metadata": {},
   "outputs": [],
   "source": [
    "# sample datasets to handle class imbalance\n",
    "df_pre_a = preprocessed.sample(frac=0.5)\n",
    "df_pre_b = preprocessed.drop(df_pre_a.index)"
   ]
  },
  {
   "cell_type": "code",
   "execution_count": 33,
   "metadata": {},
   "outputs": [],
   "source": [
    "# relabel one of the dataframes\n",
    "df_pre_b.columns = ['season', 'team_b', 'team_a',\n",
    "                    'seed_b', 'seed_a',\n",
    "                    'reg_season_wins_b', 'reg_season_wins_a',\n",
    "                    'reg_season_losses_b', 'reg_season_losses_a',\n",
    "                    'mean_win_diff_b', 'mean_win_diff_a',\n",
    "                    'mean_lose_diff_b','mean_lose_diff_a',\n",
    "                    'Pred']"
   ]
  },
  {
   "cell_type": "code",
   "execution_count": 34,
   "metadata": {},
   "outputs": [],
   "source": [
    "# losers will now be presented first\n",
    "df_pre_b['Pred'] = 0 "
   ]
  },
  {
   "cell_type": "code",
   "execution_count": 35,
   "metadata": {},
   "outputs": [],
   "source": [
    "# concat the two back together\n",
    "df_pre = pd.concat([df_pre_a, df_pre_b], axis=0).reset_index(drop=True)"
   ]
  },
  {
   "attachments": {},
   "cell_type": "markdown",
   "metadata": {},
   "source": [
    "## Modeling"
   ]
  },
  {
   "attachments": {},
   "cell_type": "markdown",
   "metadata": {},
   "source": [
    "#### Training and Testing Sets"
   ]
  },
  {
   "cell_type": "code",
   "execution_count": 36,
   "metadata": {},
   "outputs": [],
   "source": [
    "SEED = 2323"
   ]
  },
  {
   "cell_type": "code",
   "execution_count": 37,
   "metadata": {},
   "outputs": [
    {
     "data": {
      "text/plain": [
       "0    0.500072\n",
       "1    0.499928\n",
       "Name: Pred, dtype: float64"
      ]
     },
     "execution_count": 37,
     "metadata": {},
     "output_type": "execute_result"
    }
   ],
   "source": [
    "# before creating training and test sets check class imbalance\n",
    "df_pre['Pred'].value_counts(normalize=True)"
   ]
  },
  {
   "cell_type": "code",
   "execution_count": 38,
   "metadata": {},
   "outputs": [],
   "source": [
    "# save a clean copy for modeling\n",
    "df_clean = df_pre.copy()"
   ]
  },
  {
   "cell_type": "code",
   "execution_count": 39,
   "metadata": {},
   "outputs": [],
   "source": [
    "# drop team columns\n",
    "df_clean.drop(['team_a', 'team_b'], axis=1, inplace=True)"
   ]
  },
  {
   "cell_type": "code",
   "execution_count": 40,
   "metadata": {},
   "outputs": [],
   "source": [
    "# split into training and test sets\n",
    "from sklearn.model_selection import train_test_split\n",
    "from sklearn.preprocessing import StandardScaler\n",
    "\n",
    "# identify variables \n",
    "y = df_clean['Pred']\n",
    "X = df_clean.drop('Pred', axis=1)\n",
    "\n",
    "# split into train and test sets\n",
    "X_train, X_test, y_train, y_test = train_test_split(X,y,random_state=SEED)"
   ]
  },
  {
   "attachments": {},
   "cell_type": "markdown",
   "metadata": {},
   "source": [
    "#### Scale Features"
   ]
  },
  {
   "cell_type": "code",
   "execution_count": 41,
   "metadata": {},
   "outputs": [],
   "source": [
    "# use standard scaler\n",
    "scaler = StandardScaler()\n",
    "X_train_scaled = scaler.fit_transform(X_train)\n",
    "X_train_scaled = pd.DataFrame(X_train_scaled, columns=X_train.columns)\n",
    "X_test_scaled = scaler.transform(X_test)\n",
    "X_test_scaled = pd.DataFrame(X_test_scaled, columns=X_test.columns)"
   ]
  },
  {
   "attachments": {},
   "cell_type": "markdown",
   "metadata": {},
   "source": [
    "#### Save Final Processed Datasets"
   ]
  },
  {
   "cell_type": "code",
   "execution_count": 42,
   "metadata": {},
   "outputs": [],
   "source": [
    "X_train_final = X_train_scaled.copy()\n",
    "X_test_final = X_test_scaled.copy()\n",
    "y_train_final = y_train.copy()\n",
    "y_test_final = y_test.copy()"
   ]
  },
  {
   "attachments": {},
   "cell_type": "markdown",
   "metadata": {},
   "source": [
    "#### Define Function to Print Results"
   ]
  },
  {
   "cell_type": "code",
   "execution_count": 43,
   "metadata": {},
   "outputs": [],
   "source": [
    "from sklearn.model_selection import cross_val_score, GridSearchCV\n",
    "from sklearn.metrics import accuracy_score, f1_score, precision_score, recall_score, roc_curve, auc\n",
    "from sklearn import tree"
   ]
  },
  {
   "cell_type": "code",
   "execution_count": 44,
   "metadata": {},
   "outputs": [],
   "source": [
    "def print_model_scores(X_train, X_test, y_train, y_test, model, model_name):\n",
    "    \"\"\"\n",
    "    Function to return accuracy, recall, precision, f1, roc_auc, and neg_log_loss from given \n",
    "    X_train, X_test, y_train, y_test, model, and string for the model name\n",
    "    \"\"\"\n",
    "    \n",
    "    # create predictions using our model\n",
    "    y_train_preds = model.predict(X_train)\n",
    "    y_test_preds = model.predict(X_test)\n",
    "    \n",
    "    # accuracy\n",
    "    train_acc = accuracy_score(y_train, y_train_preds)\n",
    "    test_acc = accuracy_score(y_test, y_test_preds)\n",
    "    \n",
    "    # precision\n",
    "    train_prec = precision_score(y_train, y_train_preds)\n",
    "    test_prec = precision_score(y_test, y_test_preds)\n",
    "    \n",
    "    # recall \n",
    "    train_recall = recall_score(y_train, y_train_preds)\n",
    "    test_recall = recall_score(y_test, y_test_preds)\n",
    "    \n",
    "    # f1 score\n",
    "    train_f1 = f1_score(y_train, y_train_preds)\n",
    "    test_f1 = f1_score(y_test, y_test_preds)\n",
    "    \n",
    "    # AUC\n",
    "    train_fpr, train_tpr, train_thresh = roc_curve(y_train, y_train_preds)\n",
    "    train_roc_auc = auc(train_fpr, train_tpr)\n",
    "    test_fpr, test_tpr, test_thresh = roc_curve(y_test, y_test_preds)\n",
    "    test_roc_auc = auc(test_fpr, test_tpr)\n",
    "    \n",
    "    # print results\n",
    "    print('Accuracy:')\n",
    "    print(f'Training Set: {train_acc}')\n",
    "    print(f'Testing Set: {test_acc}')\n",
    "    print('---------------------------')\n",
    "    print('Precision:')\n",
    "    print(f'Training Set: {train_prec}')\n",
    "    print(f'Testing Set: {test_prec}')\n",
    "    print('---------------------------')\n",
    "    print('Recall:')\n",
    "    print(f'Training Set: {train_recall}')\n",
    "    print(f'Testing Set: {test_recall}')\n",
    "    print('---------------------------')\n",
    "    print('F1 Score:')\n",
    "    print(f'Training Set: {train_f1}')\n",
    "    print(f'Testing Set: {test_f1}')\n",
    "    print('---------------------------')\n",
    "    print(f'ROC AUC:')\n",
    "    print(f'Training Set: {train_roc_auc}')\n",
    "    print(f'Test Set: {test_roc_auc}')\n",
    "    \n",
    "    # store results in dataframes\n",
    "    test_results = pd.DataFrame([[f'Test-{model_name}', test_acc, test_prec, test_recall, test_f1, test_roc_auc]],\n",
    "                                columns=['Model', 'Accuracy', 'Precision', 'Recall', 'F1 Score', 'AUC'])\n",
    "    \n",
    "    train_results = pd.DataFrame([[f'Training-{model_name}', train_acc, train_prec, train_recall, train_f1, train_roc_auc]],\n",
    "                                columns=['Model', 'Accuracy', 'Precision', 'Recall', 'F1 Score', 'AUC'])\n",
    "    \n",
    "    # concat results\n",
    "    results = pd.concat([test_results, train_results], axis=0)\n",
    "    \n",
    "    return results"
   ]
  },
  {
   "attachments": {},
   "cell_type": "markdown",
   "metadata": {},
   "source": [
    "### XGBoost"
   ]
  },
  {
   "cell_type": "code",
   "execution_count": 45,
   "metadata": {},
   "outputs": [],
   "source": [
    "from xgboost import XGBClassifier"
   ]
  },
  {
   "cell_type": "code",
   "execution_count": 46,
   "metadata": {},
   "outputs": [
    {
     "name": "stdout",
     "output_type": "stream",
     "text": [
      "Accuracy:\n",
      "Training Set: 0.9902578796561604\n",
      "Testing Set: 0.7903780068728522\n",
      "---------------------------\n",
      "Precision:\n",
      "Training Set: 0.9889943074003795\n",
      "Testing Set: 0.7767857142857143\n",
      "---------------------------\n",
      "Recall:\n",
      "Training Set: 0.9916286149162862\n",
      "Testing Set: 0.8074245939675174\n",
      "---------------------------\n",
      "F1 Score:\n",
      "Training Set: 0.9903097092912788\n",
      "Testing Set: 0.7918088737201365\n",
      "---------------------------\n",
      "ROC AUC:\n",
      "Training Set: 0.9902523588582198\n",
      "Test Set: 0.7905901250380575\n"
     ]
    }
   ],
   "source": [
    "# create baseline classifier\n",
    "base_xgb = XGBClassifier(random_state=SEED)\n",
    "\n",
    "# fit to training set\n",
    "base_xgb.fit(X_train_final, y_train_final)\n",
    "\n",
    "# print and store results\n",
    "base_xgb_results = print_model_scores(X_train_final, X_test_final,\n",
    "                                      y_train_final, y_test_final,\n",
    "                                      base_xgb, 'base_xgb')"
   ]
  },
  {
   "attachments": {},
   "cell_type": "markdown",
   "metadata": {},
   "source": [
    "Without any tuning our model is achieving ~80% accuracy. Given a our class split, a simple model that guessed one class would do substantially worse, with accuracy falling close to 50%. "
   ]
  },
  {
   "attachments": {},
   "cell_type": "markdown",
   "metadata": {},
   "source": [
    "#### Tune Hyperparams"
   ]
  },
  {
   "cell_type": "code",
   "execution_count": 47,
   "metadata": {},
   "outputs": [
    {
     "name": "stdout",
     "output_type": "stream",
     "text": [
      "Fitting 3 folds for each of 12 candidates, totalling 36 fits\n"
     ]
    },
    {
     "data": {
      "text/html": [
       "<style>#sk-container-id-1 {color: black;background-color: white;}#sk-container-id-1 pre{padding: 0;}#sk-container-id-1 div.sk-toggleable {background-color: white;}#sk-container-id-1 label.sk-toggleable__label {cursor: pointer;display: block;width: 100%;margin-bottom: 0;padding: 0.3em;box-sizing: border-box;text-align: center;}#sk-container-id-1 label.sk-toggleable__label-arrow:before {content: \"▸\";float: left;margin-right: 0.25em;color: #696969;}#sk-container-id-1 label.sk-toggleable__label-arrow:hover:before {color: black;}#sk-container-id-1 div.sk-estimator:hover label.sk-toggleable__label-arrow:before {color: black;}#sk-container-id-1 div.sk-toggleable__content {max-height: 0;max-width: 0;overflow: hidden;text-align: left;background-color: #f0f8ff;}#sk-container-id-1 div.sk-toggleable__content pre {margin: 0.2em;color: black;border-radius: 0.25em;background-color: #f0f8ff;}#sk-container-id-1 input.sk-toggleable__control:checked~div.sk-toggleable__content {max-height: 200px;max-width: 100%;overflow: auto;}#sk-container-id-1 input.sk-toggleable__control:checked~label.sk-toggleable__label-arrow:before {content: \"▾\";}#sk-container-id-1 div.sk-estimator input.sk-toggleable__control:checked~label.sk-toggleable__label {background-color: #d4ebff;}#sk-container-id-1 div.sk-label input.sk-toggleable__control:checked~label.sk-toggleable__label {background-color: #d4ebff;}#sk-container-id-1 input.sk-hidden--visually {border: 0;clip: rect(1px 1px 1px 1px);clip: rect(1px, 1px, 1px, 1px);height: 1px;margin: -1px;overflow: hidden;padding: 0;position: absolute;width: 1px;}#sk-container-id-1 div.sk-estimator {font-family: monospace;background-color: #f0f8ff;border: 1px dotted black;border-radius: 0.25em;box-sizing: border-box;margin-bottom: 0.5em;}#sk-container-id-1 div.sk-estimator:hover {background-color: #d4ebff;}#sk-container-id-1 div.sk-parallel-item::after {content: \"\";width: 100%;border-bottom: 1px solid gray;flex-grow: 1;}#sk-container-id-1 div.sk-label:hover label.sk-toggleable__label {background-color: #d4ebff;}#sk-container-id-1 div.sk-serial::before {content: \"\";position: absolute;border-left: 1px solid gray;box-sizing: border-box;top: 0;bottom: 0;left: 50%;z-index: 0;}#sk-container-id-1 div.sk-serial {display: flex;flex-direction: column;align-items: center;background-color: white;padding-right: 0.2em;padding-left: 0.2em;position: relative;}#sk-container-id-1 div.sk-item {position: relative;z-index: 1;}#sk-container-id-1 div.sk-parallel {display: flex;align-items: stretch;justify-content: center;background-color: white;position: relative;}#sk-container-id-1 div.sk-item::before, #sk-container-id-1 div.sk-parallel-item::before {content: \"\";position: absolute;border-left: 1px solid gray;box-sizing: border-box;top: 0;bottom: 0;left: 50%;z-index: -1;}#sk-container-id-1 div.sk-parallel-item {display: flex;flex-direction: column;z-index: 1;position: relative;background-color: white;}#sk-container-id-1 div.sk-parallel-item:first-child::after {align-self: flex-end;width: 50%;}#sk-container-id-1 div.sk-parallel-item:last-child::after {align-self: flex-start;width: 50%;}#sk-container-id-1 div.sk-parallel-item:only-child::after {width: 0;}#sk-container-id-1 div.sk-dashed-wrapped {border: 1px dashed gray;margin: 0 0.4em 0.5em 0.4em;box-sizing: border-box;padding-bottom: 0.4em;background-color: white;}#sk-container-id-1 div.sk-label label {font-family: monospace;font-weight: bold;display: inline-block;line-height: 1.2em;}#sk-container-id-1 div.sk-label-container {text-align: center;}#sk-container-id-1 div.sk-container {/* jupyter's `normalize.less` sets `[hidden] { display: none; }` but bootstrap.min.css set `[hidden] { display: none !important; }` so we also need the `!important` here to be able to override the default hidden behavior on the sphinx rendered scikit-learn.org. See: https://github.com/scikit-learn/scikit-learn/issues/21755 */display: inline-block !important;position: relative;}#sk-container-id-1 div.sk-text-repr-fallback {display: none;}</style><div id=\"sk-container-id-1\" class=\"sk-top-container\"><div class=\"sk-text-repr-fallback\"><pre>GridSearchCV(cv=3,\n",
       "             estimator=XGBClassifier(base_score=None, booster=None,\n",
       "                                     callbacks=None, colsample_bylevel=None,\n",
       "                                     colsample_bynode=None,\n",
       "                                     colsample_bytree=None,\n",
       "                                     early_stopping_rounds=None,\n",
       "                                     enable_categorical=False, eval_metric=None,\n",
       "                                     feature_types=None, gamma=None,\n",
       "                                     gpu_id=None, grow_policy=None,\n",
       "                                     importance_type=None,\n",
       "                                     interaction_constraints=None,\n",
       "                                     learning_rate=None,...\n",
       "                                     max_cat_threshold=None,\n",
       "                                     max_cat_to_onehot=None,\n",
       "                                     max_delta_step=None, max_depth=None,\n",
       "                                     max_leaves=None, min_child_weight=None,\n",
       "                                     missing=nan, monotone_constraints=None,\n",
       "                                     n_estimators=100, n_jobs=None,\n",
       "                                     num_parallel_tree=None, predictor=None,\n",
       "                                     random_state=None, ...),\n",
       "             param_grid={&#x27;eta&#x27;: [0.1, 0.05], &#x27;gamma&#x27;: [5, 10],\n",
       "                         &#x27;max_depth&#x27;: [10, 11, 12]},\n",
       "             return_train_score=True, scoring=&#x27;accuracy&#x27;, verbose=1)</pre><b>In a Jupyter environment, please rerun this cell to show the HTML representation or trust the notebook. <br />On GitHub, the HTML representation is unable to render, please try loading this page with nbviewer.org.</b></div><div class=\"sk-container\" hidden><div class=\"sk-item sk-dashed-wrapped\"><div class=\"sk-label-container\"><div class=\"sk-label sk-toggleable\"><input class=\"sk-toggleable__control sk-hidden--visually\" id=\"sk-estimator-id-1\" type=\"checkbox\" ><label for=\"sk-estimator-id-1\" class=\"sk-toggleable__label sk-toggleable__label-arrow\">GridSearchCV</label><div class=\"sk-toggleable__content\"><pre>GridSearchCV(cv=3,\n",
       "             estimator=XGBClassifier(base_score=None, booster=None,\n",
       "                                     callbacks=None, colsample_bylevel=None,\n",
       "                                     colsample_bynode=None,\n",
       "                                     colsample_bytree=None,\n",
       "                                     early_stopping_rounds=None,\n",
       "                                     enable_categorical=False, eval_metric=None,\n",
       "                                     feature_types=None, gamma=None,\n",
       "                                     gpu_id=None, grow_policy=None,\n",
       "                                     importance_type=None,\n",
       "                                     interaction_constraints=None,\n",
       "                                     learning_rate=None,...\n",
       "                                     max_cat_threshold=None,\n",
       "                                     max_cat_to_onehot=None,\n",
       "                                     max_delta_step=None, max_depth=None,\n",
       "                                     max_leaves=None, min_child_weight=None,\n",
       "                                     missing=nan, monotone_constraints=None,\n",
       "                                     n_estimators=100, n_jobs=None,\n",
       "                                     num_parallel_tree=None, predictor=None,\n",
       "                                     random_state=None, ...),\n",
       "             param_grid={&#x27;eta&#x27;: [0.1, 0.05], &#x27;gamma&#x27;: [5, 10],\n",
       "                         &#x27;max_depth&#x27;: [10, 11, 12]},\n",
       "             return_train_score=True, scoring=&#x27;accuracy&#x27;, verbose=1)</pre></div></div></div><div class=\"sk-parallel\"><div class=\"sk-parallel-item\"><div class=\"sk-item\"><div class=\"sk-label-container\"><div class=\"sk-label sk-toggleable\"><input class=\"sk-toggleable__control sk-hidden--visually\" id=\"sk-estimator-id-2\" type=\"checkbox\" ><label for=\"sk-estimator-id-2\" class=\"sk-toggleable__label sk-toggleable__label-arrow\">estimator: XGBClassifier</label><div class=\"sk-toggleable__content\"><pre>XGBClassifier(base_score=None, booster=None, callbacks=None,\n",
       "              colsample_bylevel=None, colsample_bynode=None,\n",
       "              colsample_bytree=None, early_stopping_rounds=None,\n",
       "              enable_categorical=False, eval_metric=None, feature_types=None,\n",
       "              gamma=None, gpu_id=None, grow_policy=None, importance_type=None,\n",
       "              interaction_constraints=None, learning_rate=None, max_bin=None,\n",
       "              max_cat_threshold=None, max_cat_to_onehot=None,\n",
       "              max_delta_step=None, max_depth=None, max_leaves=None,\n",
       "              min_child_weight=None, missing=nan, monotone_constraints=None,\n",
       "              n_estimators=100, n_jobs=None, num_parallel_tree=None,\n",
       "              predictor=None, random_state=None, ...)</pre></div></div></div><div class=\"sk-serial\"><div class=\"sk-item\"><div class=\"sk-estimator sk-toggleable\"><input class=\"sk-toggleable__control sk-hidden--visually\" id=\"sk-estimator-id-3\" type=\"checkbox\" ><label for=\"sk-estimator-id-3\" class=\"sk-toggleable__label sk-toggleable__label-arrow\">XGBClassifier</label><div class=\"sk-toggleable__content\"><pre>XGBClassifier(base_score=None, booster=None, callbacks=None,\n",
       "              colsample_bylevel=None, colsample_bynode=None,\n",
       "              colsample_bytree=None, early_stopping_rounds=None,\n",
       "              enable_categorical=False, eval_metric=None, feature_types=None,\n",
       "              gamma=None, gpu_id=None, grow_policy=None, importance_type=None,\n",
       "              interaction_constraints=None, learning_rate=None, max_bin=None,\n",
       "              max_cat_threshold=None, max_cat_to_onehot=None,\n",
       "              max_delta_step=None, max_depth=None, max_leaves=None,\n",
       "              min_child_weight=None, missing=nan, monotone_constraints=None,\n",
       "              n_estimators=100, n_jobs=None, num_parallel_tree=None,\n",
       "              predictor=None, random_state=None, ...)</pre></div></div></div></div></div></div></div></div></div></div>"
      ],
      "text/plain": [
       "GridSearchCV(cv=3,\n",
       "             estimator=XGBClassifier(base_score=None, booster=None,\n",
       "                                     callbacks=None, colsample_bylevel=None,\n",
       "                                     colsample_bynode=None,\n",
       "                                     colsample_bytree=None,\n",
       "                                     early_stopping_rounds=None,\n",
       "                                     enable_categorical=False, eval_metric=None,\n",
       "                                     feature_types=None, gamma=None,\n",
       "                                     gpu_id=None, grow_policy=None,\n",
       "                                     importance_type=None,\n",
       "                                     interaction_constraints=None,\n",
       "                                     learning_rate=None,...\n",
       "                                     max_cat_threshold=None,\n",
       "                                     max_cat_to_onehot=None,\n",
       "                                     max_delta_step=None, max_depth=None,\n",
       "                                     max_leaves=None, min_child_weight=None,\n",
       "                                     missing=nan, monotone_constraints=None,\n",
       "                                     n_estimators=100, n_jobs=None,\n",
       "                                     num_parallel_tree=None, predictor=None,\n",
       "                                     random_state=None, ...),\n",
       "             param_grid={'eta': [0.1, 0.05], 'gamma': [5, 10],\n",
       "                         'max_depth': [10, 11, 12]},\n",
       "             return_train_score=True, scoring='accuracy', verbose=1)"
      ]
     },
     "execution_count": 47,
     "metadata": {},
     "output_type": "execute_result"
    }
   ],
   "source": [
    "# set up gridsearch\n",
    "grid_search_params = {\n",
    "    'max_depth': [10, 11, 12],\n",
    "    'eta': [0.1, 0.05],\n",
    "    'gamma': [5, 10]\n",
    "}\n",
    "\n",
    "# instantiate xgboost\n",
    "xgb_clf = XGBClassifier()\n",
    "xgb_grid = GridSearchCV(estimator=xgb_clf,\n",
    "                        param_grid=grid_search_params,\n",
    "                        cv=3,\n",
    "                        scoring='accuracy',\n",
    "                        return_train_score=True,\n",
    "                        verbose=1)\n",
    "\n",
    "# fit to training data\n",
    "xgb_grid.fit(X_train_final, y_train_final)"
   ]
  },
  {
   "cell_type": "code",
   "execution_count": 48,
   "metadata": {},
   "outputs": [
    {
     "name": "stdout",
     "output_type": "stream",
     "text": [
      "Grid Search Train Accuracy: 0.8332378223495702\n",
      "Grid Search Test Accuracy: 0.7491244826488379\n"
     ]
    }
   ],
   "source": [
    "# print grid search results \n",
    "mean_train_score = np.mean(xgb_grid.cv_results_['mean_train_score'])\n",
    "mean_test_score = np.mean(xgb_grid.cv_results_['mean_test_score'])\n",
    "print(f'Grid Search Train Accuracy: {mean_train_score}')\n",
    "print(f'Grid Search Test Accuracy: {mean_test_score}')"
   ]
  },
  {
   "cell_type": "code",
   "execution_count": 49,
   "metadata": {},
   "outputs": [
    {
     "name": "stdout",
     "output_type": "stream",
     "text": [
      "Accuracy:\n",
      "Training Set: 0.8893982808022922\n",
      "Testing Set: 0.7743413516609393\n",
      "---------------------------\n",
      "Precision:\n",
      "Training Set: 0.8908813429988554\n",
      "Testing Set: 0.7594235033259423\n",
      "---------------------------\n",
      "Recall:\n",
      "Training Set: 0.8885083713850838\n",
      "Testing Set: 0.7946635730858469\n",
      "---------------------------\n",
      "F1 Score:\n",
      "Training Set: 0.8896932749095064\n",
      "Testing Set: 0.7766439909297052\n",
      "---------------------------\n",
      "ROC AUC:\n",
      "Training Set: 0.8894018650174365\n",
      "Test Set: 0.7745942299818375\n"
     ]
    }
   ],
   "source": [
    "# train model with the best params\n",
    "xgb_tuned = xgb_grid.best_estimator_\n",
    "xgb_tuned.fit(X_train_final, y_train_final)\n",
    "xgb_tuned_results = print_model_scores(X_train_final, X_test_final,\n",
    "                                       y_train_final, y_test_final,\n",
    "                                       xgb_tuned, 'xgb_tuned')"
   ]
  },
  {
   "attachments": {},
   "cell_type": "markdown",
   "metadata": {},
   "source": [
    "Seeing an improvement to overfitting -- we will use this model to create our submissions."
   ]
  },
  {
   "attachments": {},
   "cell_type": "markdown",
   "metadata": {},
   "source": [
    "### Ensemble "
   ]
  },
  {
   "cell_type": "code",
   "execution_count": 60,
   "metadata": {},
   "outputs": [
    {
     "data": {
      "text/html": [
       "<style>#sk-container-id-3 {color: black;background-color: white;}#sk-container-id-3 pre{padding: 0;}#sk-container-id-3 div.sk-toggleable {background-color: white;}#sk-container-id-3 label.sk-toggleable__label {cursor: pointer;display: block;width: 100%;margin-bottom: 0;padding: 0.3em;box-sizing: border-box;text-align: center;}#sk-container-id-3 label.sk-toggleable__label-arrow:before {content: \"▸\";float: left;margin-right: 0.25em;color: #696969;}#sk-container-id-3 label.sk-toggleable__label-arrow:hover:before {color: black;}#sk-container-id-3 div.sk-estimator:hover label.sk-toggleable__label-arrow:before {color: black;}#sk-container-id-3 div.sk-toggleable__content {max-height: 0;max-width: 0;overflow: hidden;text-align: left;background-color: #f0f8ff;}#sk-container-id-3 div.sk-toggleable__content pre {margin: 0.2em;color: black;border-radius: 0.25em;background-color: #f0f8ff;}#sk-container-id-3 input.sk-toggleable__control:checked~div.sk-toggleable__content {max-height: 200px;max-width: 100%;overflow: auto;}#sk-container-id-3 input.sk-toggleable__control:checked~label.sk-toggleable__label-arrow:before {content: \"▾\";}#sk-container-id-3 div.sk-estimator input.sk-toggleable__control:checked~label.sk-toggleable__label {background-color: #d4ebff;}#sk-container-id-3 div.sk-label input.sk-toggleable__control:checked~label.sk-toggleable__label {background-color: #d4ebff;}#sk-container-id-3 input.sk-hidden--visually {border: 0;clip: rect(1px 1px 1px 1px);clip: rect(1px, 1px, 1px, 1px);height: 1px;margin: -1px;overflow: hidden;padding: 0;position: absolute;width: 1px;}#sk-container-id-3 div.sk-estimator {font-family: monospace;background-color: #f0f8ff;border: 1px dotted black;border-radius: 0.25em;box-sizing: border-box;margin-bottom: 0.5em;}#sk-container-id-3 div.sk-estimator:hover {background-color: #d4ebff;}#sk-container-id-3 div.sk-parallel-item::after {content: \"\";width: 100%;border-bottom: 1px solid gray;flex-grow: 1;}#sk-container-id-3 div.sk-label:hover label.sk-toggleable__label {background-color: #d4ebff;}#sk-container-id-3 div.sk-serial::before {content: \"\";position: absolute;border-left: 1px solid gray;box-sizing: border-box;top: 0;bottom: 0;left: 50%;z-index: 0;}#sk-container-id-3 div.sk-serial {display: flex;flex-direction: column;align-items: center;background-color: white;padding-right: 0.2em;padding-left: 0.2em;position: relative;}#sk-container-id-3 div.sk-item {position: relative;z-index: 1;}#sk-container-id-3 div.sk-parallel {display: flex;align-items: stretch;justify-content: center;background-color: white;position: relative;}#sk-container-id-3 div.sk-item::before, #sk-container-id-3 div.sk-parallel-item::before {content: \"\";position: absolute;border-left: 1px solid gray;box-sizing: border-box;top: 0;bottom: 0;left: 50%;z-index: -1;}#sk-container-id-3 div.sk-parallel-item {display: flex;flex-direction: column;z-index: 1;position: relative;background-color: white;}#sk-container-id-3 div.sk-parallel-item:first-child::after {align-self: flex-end;width: 50%;}#sk-container-id-3 div.sk-parallel-item:last-child::after {align-self: flex-start;width: 50%;}#sk-container-id-3 div.sk-parallel-item:only-child::after {width: 0;}#sk-container-id-3 div.sk-dashed-wrapped {border: 1px dashed gray;margin: 0 0.4em 0.5em 0.4em;box-sizing: border-box;padding-bottom: 0.4em;background-color: white;}#sk-container-id-3 div.sk-label label {font-family: monospace;font-weight: bold;display: inline-block;line-height: 1.2em;}#sk-container-id-3 div.sk-label-container {text-align: center;}#sk-container-id-3 div.sk-container {/* jupyter's `normalize.less` sets `[hidden] { display: none; }` but bootstrap.min.css set `[hidden] { display: none !important; }` so we also need the `!important` here to be able to override the default hidden behavior on the sphinx rendered scikit-learn.org. See: https://github.com/scikit-learn/scikit-learn/issues/21755 */display: inline-block !important;position: relative;}#sk-container-id-3 div.sk-text-repr-fallback {display: none;}</style><div id=\"sk-container-id-3\" class=\"sk-top-container\"><div class=\"sk-text-repr-fallback\"><pre>XGBClassifier(base_score=None, booster=None, callbacks=None,\n",
       "              colsample_bylevel=None, colsample_bynode=None,\n",
       "              colsample_bytree=None, early_stopping_rounds=None,\n",
       "              enable_categorical=False, eta=0.05, eval_metric=None,\n",
       "              feature_types=None, gamma=5, gpu_id=None, grow_policy=None,\n",
       "              importance_type=None, interaction_constraints=None,\n",
       "              learning_rate=None, max_bin=None, max_cat_threshold=None,\n",
       "              max_cat_to_onehot=None, max_delta_step=None, max_depth=8,\n",
       "              max_leaves=None, min_child_weight=None, missing=nan,\n",
       "              monotone_constraints=None, n_estimators=100, n_jobs=None,\n",
       "              num_parallel_tree=None, predictor=None, ...)</pre><b>In a Jupyter environment, please rerun this cell to show the HTML representation or trust the notebook. <br />On GitHub, the HTML representation is unable to render, please try loading this page with nbviewer.org.</b></div><div class=\"sk-container\" hidden><div class=\"sk-item\"><div class=\"sk-estimator sk-toggleable\"><input class=\"sk-toggleable__control sk-hidden--visually\" id=\"sk-estimator-id-5\" type=\"checkbox\" checked><label for=\"sk-estimator-id-5\" class=\"sk-toggleable__label sk-toggleable__label-arrow\">XGBClassifier</label><div class=\"sk-toggleable__content\"><pre>XGBClassifier(base_score=None, booster=None, callbacks=None,\n",
       "              colsample_bylevel=None, colsample_bynode=None,\n",
       "              colsample_bytree=None, early_stopping_rounds=None,\n",
       "              enable_categorical=False, eta=0.05, eval_metric=None,\n",
       "              feature_types=None, gamma=5, gpu_id=None, grow_policy=None,\n",
       "              importance_type=None, interaction_constraints=None,\n",
       "              learning_rate=None, max_bin=None, max_cat_threshold=None,\n",
       "              max_cat_to_onehot=None, max_delta_step=None, max_depth=8,\n",
       "              max_leaves=None, min_child_weight=None, missing=nan,\n",
       "              monotone_constraints=None, n_estimators=100, n_jobs=None,\n",
       "              num_parallel_tree=None, predictor=None, ...)</pre></div></div></div></div></div>"
      ],
      "text/plain": [
       "XGBClassifier(base_score=None, booster=None, callbacks=None,\n",
       "              colsample_bylevel=None, colsample_bynode=None,\n",
       "              colsample_bytree=None, early_stopping_rounds=None,\n",
       "              enable_categorical=False, eta=0.05, eval_metric=None,\n",
       "              feature_types=None, gamma=5, gpu_id=None, grow_policy=None,\n",
       "              importance_type=None, interaction_constraints=None,\n",
       "              learning_rate=None, max_bin=None, max_cat_threshold=None,\n",
       "              max_cat_to_onehot=None, max_delta_step=None, max_depth=8,\n",
       "              max_leaves=None, min_child_weight=None, missing=nan,\n",
       "              monotone_constraints=None, n_estimators=100, n_jobs=None,\n",
       "              num_parallel_tree=None, predictor=None, ...)"
      ]
     },
     "execution_count": 60,
     "metadata": {},
     "output_type": "execute_result"
    }
   ],
   "source": [
    "xgb_a = XGBClassifier(max_depth=10, gamma=5, eta=0.05, random_state=SEED)\n",
    "xgb_b = XGBClassifier(max_depth=12, gamma=5, eta=0.05, random_state=SEED)\n",
    "xgb_c = XGBClassifier(max_depth=8, gamma=5, eta=0.05, random_state=SEED)\n",
    "\n",
    "xgb_a.fit(X_train_final, y_train_final)\n",
    "xgb_b.fit(X_train_final, y_train_final)\n",
    "xgb_c.fit(X_train_final, y_train_final)"
   ]
  },
  {
   "cell_type": "code",
   "execution_count": 61,
   "metadata": {},
   "outputs": [],
   "source": [
    "preds = xgb_tuned.predict_proba(X_test_final)\n",
    "preds_a = xgb_a.predict_proba(X_test_final)\n",
    "preds_b = xgb_b.predict_proba(X_test_final)\n",
    "preds_c = xgb_c.predict_proba(X_test_final)"
   ]
  },
  {
   "cell_type": "code",
   "execution_count": 62,
   "metadata": {},
   "outputs": [
    {
     "data": {
      "text/plain": [
       "array([[0.04320887, 0.95679116],\n",
       "       [0.7127065 , 0.2872935 ],\n",
       "       [0.03037937, 0.9696206 ],\n",
       "       ...,\n",
       "       [0.4147647 , 0.5852353 ],\n",
       "       [0.0272468 , 0.97275317],\n",
       "       [0.15455864, 0.84544134]], dtype=float32)"
      ]
     },
     "execution_count": 62,
     "metadata": {},
     "output_type": "execute_result"
    }
   ],
   "source": [
    "# ensemble preds\n",
    "ensemble_preds = np.mean(np.array([preds, preds_a, preds_b, preds_c]), axis=0)\n",
    "ensemble_preds"
   ]
  },
  {
   "attachments": {},
   "cell_type": "markdown",
   "metadata": {},
   "source": [
    "## Submission"
   ]
  },
  {
   "cell_type": "code",
   "execution_count": 63,
   "metadata": {},
   "outputs": [
    {
     "data": {
      "text/html": [
       "<div>\n",
       "<style scoped>\n",
       "    .dataframe tbody tr th:only-of-type {\n",
       "        vertical-align: middle;\n",
       "    }\n",
       "\n",
       "    .dataframe tbody tr th {\n",
       "        vertical-align: top;\n",
       "    }\n",
       "\n",
       "    .dataframe thead th {\n",
       "        text-align: right;\n",
       "    }\n",
       "</style>\n",
       "<table border=\"1\" class=\"dataframe\">\n",
       "  <thead>\n",
       "    <tr style=\"text-align: right;\">\n",
       "      <th></th>\n",
       "      <th>season</th>\n",
       "      <th>seed_a</th>\n",
       "      <th>seed_b</th>\n",
       "      <th>reg_season_wins_a</th>\n",
       "      <th>reg_season_wins_b</th>\n",
       "      <th>reg_season_losses_a</th>\n",
       "      <th>reg_season_losses_b</th>\n",
       "      <th>mean_win_diff_a</th>\n",
       "      <th>mean_win_diff_b</th>\n",
       "      <th>mean_lose_diff_a</th>\n",
       "      <th>mean_lose_diff_b</th>\n",
       "    </tr>\n",
       "  </thead>\n",
       "  <tbody>\n",
       "    <tr>\n",
       "      <th>0</th>\n",
       "      <td>0.716444</td>\n",
       "      <td>0.506259</td>\n",
       "      <td>-1.220720</td>\n",
       "      <td>-0.369328</td>\n",
       "      <td>2.654827</td>\n",
       "      <td>0.538312</td>\n",
       "      <td>-0.231077</td>\n",
       "      <td>-0.361530</td>\n",
       "      <td>3.815155</td>\n",
       "      <td>0.454249</td>\n",
       "      <td>0.148107</td>\n",
       "    </tr>\n",
       "    <tr>\n",
       "      <th>1</th>\n",
       "      <td>-1.169164</td>\n",
       "      <td>-1.236478</td>\n",
       "      <td>-1.220720</td>\n",
       "      <td>1.420648</td>\n",
       "      <td>0.641752</td>\n",
       "      <td>-1.065600</td>\n",
       "      <td>-1.354258</td>\n",
       "      <td>1.636407</td>\n",
       "      <td>-0.023564</td>\n",
       "      <td>1.139414</td>\n",
       "      <td>1.850120</td>\n",
       "    </tr>\n",
       "    <tr>\n",
       "      <th>2</th>\n",
       "      <td>1.160116</td>\n",
       "      <td>1.377628</td>\n",
       "      <td>-0.571612</td>\n",
       "      <td>0.397805</td>\n",
       "      <td>0.138483</td>\n",
       "      <td>-0.103253</td>\n",
       "      <td>0.542098</td>\n",
       "      <td>0.914801</td>\n",
       "      <td>0.266922</td>\n",
       "      <td>-1.005900</td>\n",
       "      <td>-0.859567</td>\n",
       "    </tr>\n",
       "    <tr>\n",
       "      <th>3</th>\n",
       "      <td>-1.058246</td>\n",
       "      <td>0.506259</td>\n",
       "      <td>2.024821</td>\n",
       "      <td>-1.647882</td>\n",
       "      <td>-0.868054</td>\n",
       "      <td>1.179877</td>\n",
       "      <td>-0.722139</td>\n",
       "      <td>-0.374452</td>\n",
       "      <td>0.364702</td>\n",
       "      <td>-1.940529</td>\n",
       "      <td>-0.956342</td>\n",
       "    </tr>\n",
       "    <tr>\n",
       "      <th>4</th>\n",
       "      <td>0.050935</td>\n",
       "      <td>0.506259</td>\n",
       "      <td>0.293866</td>\n",
       "      <td>0.142094</td>\n",
       "      <td>-0.868054</td>\n",
       "      <td>0.217530</td>\n",
       "      <td>1.174216</td>\n",
       "      <td>-0.775715</td>\n",
       "      <td>-0.141055</td>\n",
       "      <td>0.377672</td>\n",
       "      <td>0.389704</td>\n",
       "    </tr>\n",
       "  </tbody>\n",
       "</table>\n",
       "</div>"
      ],
      "text/plain": [
       "     season    seed_a    seed_b  reg_season_wins_a  reg_season_wins_b  \\\n",
       "0  0.716444  0.506259 -1.220720          -0.369328           2.654827   \n",
       "1 -1.169164 -1.236478 -1.220720           1.420648           0.641752   \n",
       "2  1.160116  1.377628 -0.571612           0.397805           0.138483   \n",
       "3 -1.058246  0.506259  2.024821          -1.647882          -0.868054   \n",
       "4  0.050935  0.506259  0.293866           0.142094          -0.868054   \n",
       "\n",
       "   reg_season_losses_a  reg_season_losses_b  mean_win_diff_a  mean_win_diff_b  \\\n",
       "0             0.538312            -0.231077        -0.361530         3.815155   \n",
       "1            -1.065600            -1.354258         1.636407        -0.023564   \n",
       "2            -0.103253             0.542098         0.914801         0.266922   \n",
       "3             1.179877            -0.722139        -0.374452         0.364702   \n",
       "4             0.217530             1.174216        -0.775715        -0.141055   \n",
       "\n",
       "   mean_lose_diff_a  mean_lose_diff_b  \n",
       "0          0.454249          0.148107  \n",
       "1          1.139414          1.850120  \n",
       "2         -1.005900         -0.859567  \n",
       "3         -1.940529         -0.956342  \n",
       "4          0.377672          0.389704  "
      ]
     },
     "execution_count": 63,
     "metadata": {},
     "output_type": "execute_result"
    }
   ],
   "source": [
    "X_train_final.head()"
   ]
  },
  {
   "cell_type": "code",
   "execution_count": 64,
   "metadata": {},
   "outputs": [
    {
     "data": {
      "text/html": [
       "<div>\n",
       "<style scoped>\n",
       "    .dataframe tbody tr th:only-of-type {\n",
       "        vertical-align: middle;\n",
       "    }\n",
       "\n",
       "    .dataframe tbody tr th {\n",
       "        vertical-align: top;\n",
       "    }\n",
       "\n",
       "    .dataframe thead th {\n",
       "        text-align: right;\n",
       "    }\n",
       "</style>\n",
       "<table border=\"1\" class=\"dataframe\">\n",
       "  <thead>\n",
       "    <tr style=\"text-align: right;\">\n",
       "      <th></th>\n",
       "      <th>ID</th>\n",
       "    </tr>\n",
       "  </thead>\n",
       "  <tbody>\n",
       "    <tr>\n",
       "      <th>0</th>\n",
       "      <td>2023_1101_1102</td>\n",
       "    </tr>\n",
       "    <tr>\n",
       "      <th>1</th>\n",
       "      <td>2023_1101_1103</td>\n",
       "    </tr>\n",
       "    <tr>\n",
       "      <th>2</th>\n",
       "      <td>2023_1101_1104</td>\n",
       "    </tr>\n",
       "    <tr>\n",
       "      <th>3</th>\n",
       "      <td>2023_1101_1105</td>\n",
       "    </tr>\n",
       "    <tr>\n",
       "      <th>4</th>\n",
       "      <td>2023_1101_1106</td>\n",
       "    </tr>\n",
       "  </tbody>\n",
       "</table>\n",
       "</div>"
      ],
      "text/plain": [
       "               ID\n",
       "0  2023_1101_1102\n",
       "1  2023_1101_1103\n",
       "2  2023_1101_1104\n",
       "3  2023_1101_1105\n",
       "4  2023_1101_1106"
      ]
     },
     "execution_count": 64,
     "metadata": {},
     "output_type": "execute_result"
    }
   ],
   "source": [
    "# for each ID, create a prediction\n",
    "first_submission = samp_submission.copy()\n",
    "first_submission.drop('Pred', axis=1, inplace=True)\n",
    "first_submission.head()"
   ]
  },
  {
   "cell_type": "code",
   "execution_count": 65,
   "metadata": {},
   "outputs": [
    {
     "data": {
      "text/html": [
       "<div>\n",
       "<style scoped>\n",
       "    .dataframe tbody tr th:only-of-type {\n",
       "        vertical-align: middle;\n",
       "    }\n",
       "\n",
       "    .dataframe tbody tr th {\n",
       "        vertical-align: top;\n",
       "    }\n",
       "\n",
       "    .dataframe thead th {\n",
       "        text-align: right;\n",
       "    }\n",
       "</style>\n",
       "<table border=\"1\" class=\"dataframe\">\n",
       "  <thead>\n",
       "    <tr style=\"text-align: right;\">\n",
       "      <th></th>\n",
       "      <th>season</th>\n",
       "      <th>seed_a</th>\n",
       "      <th>seed_b</th>\n",
       "      <th>reg_season_wins_a</th>\n",
       "      <th>reg_season_wins_b</th>\n",
       "      <th>reg_season_losses_a</th>\n",
       "      <th>reg_season_losses_b</th>\n",
       "      <th>mean_win_diff_a</th>\n",
       "      <th>mean_win_diff_b</th>\n",
       "      <th>mean_lose_diff_a</th>\n",
       "      <th>mean_lose_diff_b</th>\n",
       "    </tr>\n",
       "  </thead>\n",
       "  <tbody>\n",
       "    <tr>\n",
       "      <th>0</th>\n",
       "      <td>0.716444</td>\n",
       "      <td>0.506259</td>\n",
       "      <td>-1.220720</td>\n",
       "      <td>-0.369328</td>\n",
       "      <td>2.654827</td>\n",
       "      <td>0.538312</td>\n",
       "      <td>-0.231077</td>\n",
       "      <td>-0.361530</td>\n",
       "      <td>3.815155</td>\n",
       "      <td>0.454249</td>\n",
       "      <td>0.148107</td>\n",
       "    </tr>\n",
       "    <tr>\n",
       "      <th>1</th>\n",
       "      <td>-1.169164</td>\n",
       "      <td>-1.236478</td>\n",
       "      <td>-1.220720</td>\n",
       "      <td>1.420648</td>\n",
       "      <td>0.641752</td>\n",
       "      <td>-1.065600</td>\n",
       "      <td>-1.354258</td>\n",
       "      <td>1.636407</td>\n",
       "      <td>-0.023564</td>\n",
       "      <td>1.139414</td>\n",
       "      <td>1.850120</td>\n",
       "    </tr>\n",
       "    <tr>\n",
       "      <th>2</th>\n",
       "      <td>1.160116</td>\n",
       "      <td>1.377628</td>\n",
       "      <td>-0.571612</td>\n",
       "      <td>0.397805</td>\n",
       "      <td>0.138483</td>\n",
       "      <td>-0.103253</td>\n",
       "      <td>0.542098</td>\n",
       "      <td>0.914801</td>\n",
       "      <td>0.266922</td>\n",
       "      <td>-1.005900</td>\n",
       "      <td>-0.859567</td>\n",
       "    </tr>\n",
       "    <tr>\n",
       "      <th>3</th>\n",
       "      <td>-1.058246</td>\n",
       "      <td>0.506259</td>\n",
       "      <td>2.024821</td>\n",
       "      <td>-1.647882</td>\n",
       "      <td>-0.868054</td>\n",
       "      <td>1.179877</td>\n",
       "      <td>-0.722139</td>\n",
       "      <td>-0.374452</td>\n",
       "      <td>0.364702</td>\n",
       "      <td>-1.940529</td>\n",
       "      <td>-0.956342</td>\n",
       "    </tr>\n",
       "    <tr>\n",
       "      <th>4</th>\n",
       "      <td>0.050935</td>\n",
       "      <td>0.506259</td>\n",
       "      <td>0.293866</td>\n",
       "      <td>0.142094</td>\n",
       "      <td>-0.868054</td>\n",
       "      <td>0.217530</td>\n",
       "      <td>1.174216</td>\n",
       "      <td>-0.775715</td>\n",
       "      <td>-0.141055</td>\n",
       "      <td>0.377672</td>\n",
       "      <td>0.389704</td>\n",
       "    </tr>\n",
       "  </tbody>\n",
       "</table>\n",
       "</div>"
      ],
      "text/plain": [
       "     season    seed_a    seed_b  reg_season_wins_a  reg_season_wins_b  \\\n",
       "0  0.716444  0.506259 -1.220720          -0.369328           2.654827   \n",
       "1 -1.169164 -1.236478 -1.220720           1.420648           0.641752   \n",
       "2  1.160116  1.377628 -0.571612           0.397805           0.138483   \n",
       "3 -1.058246  0.506259  2.024821          -1.647882          -0.868054   \n",
       "4  0.050935  0.506259  0.293866           0.142094          -0.868054   \n",
       "\n",
       "   reg_season_losses_a  reg_season_losses_b  mean_win_diff_a  mean_win_diff_b  \\\n",
       "0             0.538312            -0.231077        -0.361530         3.815155   \n",
       "1            -1.065600            -1.354258         1.636407        -0.023564   \n",
       "2            -0.103253             0.542098         0.914801         0.266922   \n",
       "3             1.179877            -0.722139        -0.374452         0.364702   \n",
       "4             0.217530             1.174216        -0.775715        -0.141055   \n",
       "\n",
       "   mean_lose_diff_a  mean_lose_diff_b  \n",
       "0          0.454249          0.148107  \n",
       "1          1.139414          1.850120  \n",
       "2         -1.005900         -0.859567  \n",
       "3         -1.940529         -0.956342  \n",
       "4          0.377672          0.389704  "
      ]
     },
     "execution_count": 65,
     "metadata": {},
     "output_type": "execute_result"
    }
   ],
   "source": [
    "X_train_final.head()"
   ]
  },
  {
   "cell_type": "code",
   "execution_count": 66,
   "metadata": {},
   "outputs": [],
   "source": [
    "# add relevant columns\n",
    "first_submission['season'] = first_submission['ID'].apply(lambda x: x.split('_')[0]).astype('int64')\n",
    "first_submission['team_a'] = first_submission['ID'].apply(lambda x: x.split('_')[1]).astype('int64')\n",
    "first_submission['team_b'] = first_submission['ID'].apply(lambda x: x.split('_')[2]).astype('int64')"
   ]
  },
  {
   "cell_type": "code",
   "execution_count": 67,
   "metadata": {},
   "outputs": [],
   "source": [
    "# add seed_a information \n",
    "seeds['Seed'] = seeds['Seed'].apply(lambda x: re.sub('[^0-9]', '', x)).astype('int64')"
   ]
  },
  {
   "cell_type": "code",
   "execution_count": 68,
   "metadata": {},
   "outputs": [],
   "source": [
    "# add seed_a to first submission\n",
    "first_sub = first_submission.merge(seeds, how='left', left_on=['season', 'team_a'], right_on=['Season', 'TeamID'])\n",
    "first_sub.rename(columns={'Seed':'seed_a'}, inplace=True)\n",
    "first_sub.drop(['Season', 'TeamID'], axis=1, inplace=True)"
   ]
  },
  {
   "cell_type": "code",
   "execution_count": 69,
   "metadata": {},
   "outputs": [],
   "source": [
    "# add seed_b to first_submission\n",
    "first_sub = first_sub.merge(seeds, how='left', left_on=['season', 'team_b'], right_on=['Season', 'TeamID'])\n",
    "first_sub.rename(columns={'Seed':'seed_b'}, inplace=True)\n",
    "first_sub.drop(['Season', 'TeamID'], axis=1, inplace=True)"
   ]
  },
  {
   "cell_type": "code",
   "execution_count": 70,
   "metadata": {},
   "outputs": [],
   "source": [
    "# add reg season wins\n",
    "wins_group = season_results.groupby(['Season', 'WTeamID']).count().reset_index()\n",
    "lose_group = season_results.groupby(['Season', 'LTeamID']).count().reset_index()"
   ]
  },
  {
   "cell_type": "code",
   "execution_count": 71,
   "metadata": {},
   "outputs": [],
   "source": [
    "wins_group = wins_group[['Season', 'WTeamID', 'WScore']]\n",
    "lose_group = lose_group[['Season', 'LTeamID', 'LScore']]"
   ]
  },
  {
   "cell_type": "code",
   "execution_count": 72,
   "metadata": {},
   "outputs": [],
   "source": [
    "first_sub = first_sub.merge(wins_group, how='left', left_on=['season', 'team_a'], right_on=['Season', 'WTeamID'])\n",
    "first_sub.rename(columns={'WScore':'reg_season_wins_a'}, inplace=True)\n",
    "first_sub.drop(['Season', 'WTeamID'], axis=1, inplace=True)\n",
    "\n",
    "first_sub = first_sub.merge(wins_group, how='left', left_on=['season', 'team_b'], right_on=['Season', 'WTeamID'])\n",
    "first_sub.rename(columns={'WScore':'reg_season_wins_b'}, inplace=True)\n",
    "first_sub.drop(['Season', 'WTeamID'], axis=1, inplace=True)"
   ]
  },
  {
   "cell_type": "code",
   "execution_count": 73,
   "metadata": {},
   "outputs": [],
   "source": [
    "first_sub = first_sub.merge(lose_group, how='left', left_on=['season', 'team_a'], right_on=['Season', 'LTeamID'])\n",
    "first_sub.rename(columns={'LScore':'reg_season_losses_a'}, inplace=True)\n",
    "first_sub.drop(['Season', 'LTeamID'], axis=1, inplace=True)\n",
    "\n",
    "first_sub = first_sub.merge(lose_group, how='left', left_on=['season', 'team_b'], right_on=['Season', 'LTeamID'])\n",
    "first_sub.rename(columns={'LScore':'reg_season_losses_b'}, inplace=True)\n",
    "first_sub.drop(['Season', 'LTeamID'], axis=1, inplace=True)"
   ]
  },
  {
   "cell_type": "code",
   "execution_count": 74,
   "metadata": {},
   "outputs": [],
   "source": [
    "# add win and lose diffs \n",
    "wins_group = season_results.groupby(['Season', 'WTeamID']).mean(numeric_only=True).reset_index()\n",
    "lose_group = season_results.groupby(['Season', 'LTeamID']).mean(numeric_only=True).reset_index()"
   ]
  },
  {
   "cell_type": "code",
   "execution_count": 75,
   "metadata": {},
   "outputs": [],
   "source": [
    "wins_group = wins_group[['Season', 'WTeamID', 'WTeamScoreDiff']]\n",
    "lose_group = lose_group[['Season', 'LTeamID', 'LTeamScoreDiff']]"
   ]
  },
  {
   "cell_type": "code",
   "execution_count": 76,
   "metadata": {},
   "outputs": [],
   "source": [
    "first_sub = first_sub.merge(wins_group, how='left', left_on=['season', 'team_a'], right_on=['Season', 'WTeamID'])\n",
    "first_sub.rename(columns={'WTeamScoreDiff':'mean_win_diff_a'}, inplace=True)\n",
    "first_sub.drop(['Season', 'WTeamID'], axis=1, inplace=True)\n",
    "\n",
    "first_sub = first_sub.merge(wins_group, how='left', left_on=['season', 'team_b'], right_on=['Season', 'WTeamID'])\n",
    "first_sub.rename(columns={'WTeamScoreDiff':'mean_win_diff_b'}, inplace=True)\n",
    "first_sub.drop(['Season', 'WTeamID'], axis=1, inplace=True)"
   ]
  },
  {
   "cell_type": "code",
   "execution_count": 77,
   "metadata": {},
   "outputs": [],
   "source": [
    "first_sub = first_sub.merge(lose_group, how='left', left_on=['season', 'team_a'], right_on=['Season', 'LTeamID'])\n",
    "first_sub.rename(columns={'LTeamScoreDiff':'mean_lose_diff_a'}, inplace=True)\n",
    "first_sub.drop(['Season', 'LTeamID'], axis=1, inplace=True)\n",
    "\n",
    "first_sub = first_sub.merge(lose_group, how='left', left_on=['season', 'team_b'], right_on=['Season', 'LTeamID'])\n",
    "first_sub.rename(columns={'LTeamScoreDiff':'mean_lose_diff_b'}, inplace=True)\n",
    "first_sub.drop(['Season', 'LTeamID'], axis=1, inplace=True)"
   ]
  },
  {
   "cell_type": "code",
   "execution_count": 78,
   "metadata": {},
   "outputs": [
    {
     "data": {
      "text/html": [
       "<div>\n",
       "<style scoped>\n",
       "    .dataframe tbody tr th:only-of-type {\n",
       "        vertical-align: middle;\n",
       "    }\n",
       "\n",
       "    .dataframe tbody tr th {\n",
       "        vertical-align: top;\n",
       "    }\n",
       "\n",
       "    .dataframe thead th {\n",
       "        text-align: right;\n",
       "    }\n",
       "</style>\n",
       "<table border=\"1\" class=\"dataframe\">\n",
       "  <thead>\n",
       "    <tr style=\"text-align: right;\">\n",
       "      <th></th>\n",
       "      <th>ID</th>\n",
       "      <th>season</th>\n",
       "      <th>team_a</th>\n",
       "      <th>team_b</th>\n",
       "      <th>seed_a</th>\n",
       "      <th>seed_b</th>\n",
       "      <th>reg_season_wins_a</th>\n",
       "      <th>reg_season_wins_b</th>\n",
       "      <th>reg_season_losses_a</th>\n",
       "      <th>reg_season_losses_b</th>\n",
       "      <th>mean_win_diff_a</th>\n",
       "      <th>mean_win_diff_b</th>\n",
       "      <th>mean_lose_diff_a</th>\n",
       "      <th>mean_lose_diff_b</th>\n",
       "    </tr>\n",
       "  </thead>\n",
       "  <tbody>\n",
       "    <tr>\n",
       "      <th>0</th>\n",
       "      <td>2023_1101_1102</td>\n",
       "      <td>2023</td>\n",
       "      <td>1101</td>\n",
       "      <td>1102</td>\n",
       "      <td>NaN</td>\n",
       "      <td>NaN</td>\n",
       "      <td>9.0</td>\n",
       "      <td>14.0</td>\n",
       "      <td>17.0</td>\n",
       "      <td>18.0</td>\n",
       "      <td>11.333333</td>\n",
       "      <td>12.642857</td>\n",
       "      <td>-11.647059</td>\n",
       "      <td>-10.055556</td>\n",
       "    </tr>\n",
       "    <tr>\n",
       "      <th>1</th>\n",
       "      <td>2023_1101_1103</td>\n",
       "      <td>2023</td>\n",
       "      <td>1101</td>\n",
       "      <td>1103</td>\n",
       "      <td>NaN</td>\n",
       "      <td>NaN</td>\n",
       "      <td>9.0</td>\n",
       "      <td>20.0</td>\n",
       "      <td>17.0</td>\n",
       "      <td>11.0</td>\n",
       "      <td>11.333333</td>\n",
       "      <td>15.350000</td>\n",
       "      <td>-11.647059</td>\n",
       "      <td>-11.454545</td>\n",
       "    </tr>\n",
       "    <tr>\n",
       "      <th>2</th>\n",
       "      <td>2023_1101_1104</td>\n",
       "      <td>2023</td>\n",
       "      <td>1101</td>\n",
       "      <td>1104</td>\n",
       "      <td>NaN</td>\n",
       "      <td>1.0</td>\n",
       "      <td>9.0</td>\n",
       "      <td>29.0</td>\n",
       "      <td>17.0</td>\n",
       "      <td>5.0</td>\n",
       "      <td>11.333333</td>\n",
       "      <td>18.241379</td>\n",
       "      <td>-11.647059</td>\n",
       "      <td>-12.800000</td>\n",
       "    </tr>\n",
       "    <tr>\n",
       "      <th>3</th>\n",
       "      <td>2023_1101_1105</td>\n",
       "      <td>2023</td>\n",
       "      <td>1101</td>\n",
       "      <td>1105</td>\n",
       "      <td>NaN</td>\n",
       "      <td>NaN</td>\n",
       "      <td>9.0</td>\n",
       "      <td>12.0</td>\n",
       "      <td>17.0</td>\n",
       "      <td>18.0</td>\n",
       "      <td>11.333333</td>\n",
       "      <td>9.416667</td>\n",
       "      <td>-11.647059</td>\n",
       "      <td>-11.388889</td>\n",
       "    </tr>\n",
       "    <tr>\n",
       "      <th>4</th>\n",
       "      <td>2023_1101_1106</td>\n",
       "      <td>2023</td>\n",
       "      <td>1101</td>\n",
       "      <td>1106</td>\n",
       "      <td>NaN</td>\n",
       "      <td>NaN</td>\n",
       "      <td>9.0</td>\n",
       "      <td>7.0</td>\n",
       "      <td>17.0</td>\n",
       "      <td>23.0</td>\n",
       "      <td>11.333333</td>\n",
       "      <td>7.285714</td>\n",
       "      <td>-11.647059</td>\n",
       "      <td>-15.304348</td>\n",
       "    </tr>\n",
       "  </tbody>\n",
       "</table>\n",
       "</div>"
      ],
      "text/plain": [
       "               ID  season  team_a  team_b  seed_a  seed_b  reg_season_wins_a  \\\n",
       "0  2023_1101_1102    2023    1101    1102     NaN     NaN                9.0   \n",
       "1  2023_1101_1103    2023    1101    1103     NaN     NaN                9.0   \n",
       "2  2023_1101_1104    2023    1101    1104     NaN     1.0                9.0   \n",
       "3  2023_1101_1105    2023    1101    1105     NaN     NaN                9.0   \n",
       "4  2023_1101_1106    2023    1101    1106     NaN     NaN                9.0   \n",
       "\n",
       "   reg_season_wins_b  reg_season_losses_a  reg_season_losses_b  \\\n",
       "0               14.0                 17.0                 18.0   \n",
       "1               20.0                 17.0                 11.0   \n",
       "2               29.0                 17.0                  5.0   \n",
       "3               12.0                 17.0                 18.0   \n",
       "4                7.0                 17.0                 23.0   \n",
       "\n",
       "   mean_win_diff_a  mean_win_diff_b  mean_lose_diff_a  mean_lose_diff_b  \n",
       "0        11.333333        12.642857        -11.647059        -10.055556  \n",
       "1        11.333333        15.350000        -11.647059        -11.454545  \n",
       "2        11.333333        18.241379        -11.647059        -12.800000  \n",
       "3        11.333333         9.416667        -11.647059        -11.388889  \n",
       "4        11.333333         7.285714        -11.647059        -15.304348  "
      ]
     },
     "execution_count": 78,
     "metadata": {},
     "output_type": "execute_result"
    }
   ],
   "source": [
    "first_sub.head()"
   ]
  },
  {
   "cell_type": "code",
   "execution_count": 79,
   "metadata": {},
   "outputs": [],
   "source": [
    "# fill missing seed values with 1000\n",
    "first_sub['seed_a'].fillna(value=1000, inplace=True)\n",
    "first_sub['seed_b'].fillna(value=1000, inplace=True)"
   ]
  },
  {
   "cell_type": "code",
   "execution_count": 80,
   "metadata": {},
   "outputs": [
    {
     "data": {
      "text/plain": [
       "ID                     0\n",
       "season                 0\n",
       "team_a                 0\n",
       "team_b                 0\n",
       "seed_a                 0\n",
       "seed_b                 0\n",
       "reg_season_wins_a      0\n",
       "reg_season_wins_b      0\n",
       "reg_season_losses_a    0\n",
       "reg_season_losses_b    0\n",
       "mean_win_diff_a        0\n",
       "mean_win_diff_b        0\n",
       "mean_lose_diff_a       0\n",
       "mean_lose_diff_b       0\n",
       "dtype: int64"
      ]
     },
     "execution_count": 80,
     "metadata": {},
     "output_type": "execute_result"
    }
   ],
   "source": [
    "# fill everything else with 0s\n",
    "first_sub.fillna(value=0, inplace=True)\n",
    "first_sub.isna().sum()"
   ]
  },
  {
   "cell_type": "code",
   "execution_count": 81,
   "metadata": {},
   "outputs": [
    {
     "name": "stdout",
     "output_type": "stream",
     "text": [
      "<class 'pandas.core.frame.DataFrame'>\n",
      "Int64Index: 130683 entries, 0 to 130682\n",
      "Data columns (total 14 columns):\n",
      " #   Column               Non-Null Count   Dtype  \n",
      "---  ------               --------------   -----  \n",
      " 0   ID                   130683 non-null  object \n",
      " 1   season               130683 non-null  int64  \n",
      " 2   team_a               130683 non-null  int64  \n",
      " 3   team_b               130683 non-null  int64  \n",
      " 4   seed_a               130683 non-null  float64\n",
      " 5   seed_b               130683 non-null  float64\n",
      " 6   reg_season_wins_a    130683 non-null  float64\n",
      " 7   reg_season_wins_b    130683 non-null  float64\n",
      " 8   reg_season_losses_a  130683 non-null  float64\n",
      " 9   reg_season_losses_b  130683 non-null  float64\n",
      " 10  mean_win_diff_a      130683 non-null  float64\n",
      " 11  mean_win_diff_b      130683 non-null  float64\n",
      " 12  mean_lose_diff_a     130683 non-null  float64\n",
      " 13  mean_lose_diff_b     130683 non-null  float64\n",
      "dtypes: float64(10), int64(3), object(1)\n",
      "memory usage: 15.0+ MB\n"
     ]
    }
   ],
   "source": [
    "first_sub.info()"
   ]
  },
  {
   "cell_type": "code",
   "execution_count": 82,
   "metadata": {},
   "outputs": [],
   "source": [
    "# pull out relevant columns and scale\n",
    "X_submission = first_sub.drop(['ID', 'team_a', 'team_b'], axis=1)\n",
    "scaler = StandardScaler()\n",
    "\n",
    "X_sub_scaled = scaler.fit_transform(X_submission)\n",
    "X_sub_scaled = pd.DataFrame(X_sub_scaled, columns=X_submission.columns)"
   ]
  },
  {
   "cell_type": "code",
   "execution_count": 83,
   "metadata": {},
   "outputs": [
    {
     "data": {
      "text/html": [
       "<div>\n",
       "<style scoped>\n",
       "    .dataframe tbody tr th:only-of-type {\n",
       "        vertical-align: middle;\n",
       "    }\n",
       "\n",
       "    .dataframe tbody tr th {\n",
       "        vertical-align: top;\n",
       "    }\n",
       "\n",
       "    .dataframe thead th {\n",
       "        text-align: right;\n",
       "    }\n",
       "</style>\n",
       "<table border=\"1\" class=\"dataframe\">\n",
       "  <thead>\n",
       "    <tr style=\"text-align: right;\">\n",
       "      <th></th>\n",
       "      <th>season</th>\n",
       "      <th>seed_a</th>\n",
       "      <th>seed_b</th>\n",
       "      <th>reg_season_wins_a</th>\n",
       "      <th>reg_season_wins_b</th>\n",
       "      <th>reg_season_losses_a</th>\n",
       "      <th>reg_season_losses_b</th>\n",
       "      <th>mean_win_diff_a</th>\n",
       "      <th>mean_win_diff_b</th>\n",
       "      <th>mean_lose_diff_a</th>\n",
       "      <th>mean_lose_diff_b</th>\n",
       "    </tr>\n",
       "  </thead>\n",
       "  <tbody>\n",
       "    <tr>\n",
       "      <th>0</th>\n",
       "      <td>0.0</td>\n",
       "      <td>0.482644</td>\n",
       "      <td>0.479194</td>\n",
       "      <td>-0.943261</td>\n",
       "      <td>-0.206847</td>\n",
       "      <td>0.313101</td>\n",
       "      <td>0.540784</td>\n",
       "      <td>-0.211913</td>\n",
       "      <td>0.143378</td>\n",
       "      <td>0.219635</td>\n",
       "      <td>0.612320</td>\n",
       "    </tr>\n",
       "    <tr>\n",
       "      <th>1</th>\n",
       "      <td>0.0</td>\n",
       "      <td>0.482644</td>\n",
       "      <td>0.479194</td>\n",
       "      <td>-0.943261</td>\n",
       "      <td>0.756535</td>\n",
       "      <td>0.313101</td>\n",
       "      <td>-0.741464</td>\n",
       "      <td>-0.211913</td>\n",
       "      <td>0.797918</td>\n",
       "      <td>0.219635</td>\n",
       "      <td>0.251174</td>\n",
       "    </tr>\n",
       "    <tr>\n",
       "      <th>2</th>\n",
       "      <td>0.0</td>\n",
       "      <td>0.482644</td>\n",
       "      <td>-2.107070</td>\n",
       "      <td>-0.943261</td>\n",
       "      <td>2.201607</td>\n",
       "      <td>0.313101</td>\n",
       "      <td>-1.840534</td>\n",
       "      <td>-0.211913</td>\n",
       "      <td>1.497003</td>\n",
       "      <td>0.219635</td>\n",
       "      <td>-0.096151</td>\n",
       "    </tr>\n",
       "    <tr>\n",
       "      <th>3</th>\n",
       "      <td>0.0</td>\n",
       "      <td>0.482644</td>\n",
       "      <td>0.479194</td>\n",
       "      <td>-0.943261</td>\n",
       "      <td>-0.527974</td>\n",
       "      <td>0.313101</td>\n",
       "      <td>0.540784</td>\n",
       "      <td>-0.211913</td>\n",
       "      <td>-0.636659</td>\n",
       "      <td>0.219635</td>\n",
       "      <td>0.268123</td>\n",
       "    </tr>\n",
       "    <tr>\n",
       "      <th>4</th>\n",
       "      <td>0.0</td>\n",
       "      <td>0.482644</td>\n",
       "      <td>0.479194</td>\n",
       "      <td>-0.943261</td>\n",
       "      <td>-1.330792</td>\n",
       "      <td>0.313101</td>\n",
       "      <td>1.456676</td>\n",
       "      <td>-0.211913</td>\n",
       "      <td>-1.151886</td>\n",
       "      <td>0.219635</td>\n",
       "      <td>-0.742642</td>\n",
       "    </tr>\n",
       "  </tbody>\n",
       "</table>\n",
       "</div>"
      ],
      "text/plain": [
       "   season    seed_a    seed_b  reg_season_wins_a  reg_season_wins_b  \\\n",
       "0     0.0  0.482644  0.479194          -0.943261          -0.206847   \n",
       "1     0.0  0.482644  0.479194          -0.943261           0.756535   \n",
       "2     0.0  0.482644 -2.107070          -0.943261           2.201607   \n",
       "3     0.0  0.482644  0.479194          -0.943261          -0.527974   \n",
       "4     0.0  0.482644  0.479194          -0.943261          -1.330792   \n",
       "\n",
       "   reg_season_losses_a  reg_season_losses_b  mean_win_diff_a  mean_win_diff_b  \\\n",
       "0             0.313101             0.540784        -0.211913         0.143378   \n",
       "1             0.313101            -0.741464        -0.211913         0.797918   \n",
       "2             0.313101            -1.840534        -0.211913         1.497003   \n",
       "3             0.313101             0.540784        -0.211913        -0.636659   \n",
       "4             0.313101             1.456676        -0.211913        -1.151886   \n",
       "\n",
       "   mean_lose_diff_a  mean_lose_diff_b  \n",
       "0          0.219635          0.612320  \n",
       "1          0.219635          0.251174  \n",
       "2          0.219635         -0.096151  \n",
       "3          0.219635          0.268123  \n",
       "4          0.219635         -0.742642  "
      ]
     },
     "execution_count": 83,
     "metadata": {},
     "output_type": "execute_result"
    }
   ],
   "source": [
    "# create dataset to create preds\n",
    "X_sub_final = X_sub_scaled.copy()\n",
    "X_sub_final.head()"
   ]
  },
  {
   "cell_type": "code",
   "execution_count": 84,
   "metadata": {},
   "outputs": [
    {
     "name": "stdout",
     "output_type": "stream",
     "text": [
      "11\n",
      "11\n"
     ]
    }
   ],
   "source": [
    "print(len(X_sub_final.columns))\n",
    "print(len(X_train_final.columns))"
   ]
  },
  {
   "cell_type": "code",
   "execution_count": 85,
   "metadata": {},
   "outputs": [],
   "source": [
    "# generate predictions\n",
    "submission_preds = xgb_tuned.predict_proba(X_sub_final)"
   ]
  },
  {
   "cell_type": "code",
   "execution_count": 87,
   "metadata": {},
   "outputs": [
    {
     "data": {
      "text/plain": [
       "array([0, 1])"
      ]
     },
     "execution_count": 87,
     "metadata": {},
     "output_type": "execute_result"
    }
   ],
   "source": [
    "xgb_tuned.classes_"
   ]
  },
  {
   "cell_type": "code",
   "execution_count": 88,
   "metadata": {},
   "outputs": [
    {
     "data": {
      "text/html": [
       "<div>\n",
       "<style scoped>\n",
       "    .dataframe tbody tr th:only-of-type {\n",
       "        vertical-align: middle;\n",
       "    }\n",
       "\n",
       "    .dataframe tbody tr th {\n",
       "        vertical-align: top;\n",
       "    }\n",
       "\n",
       "    .dataframe thead th {\n",
       "        text-align: right;\n",
       "    }\n",
       "</style>\n",
       "<table border=\"1\" class=\"dataframe\">\n",
       "  <thead>\n",
       "    <tr style=\"text-align: right;\">\n",
       "      <th></th>\n",
       "      <th>loss_prob</th>\n",
       "      <th>win_prob</th>\n",
       "    </tr>\n",
       "  </thead>\n",
       "  <tbody>\n",
       "    <tr>\n",
       "      <th>0</th>\n",
       "      <td>0.561315</td>\n",
       "      <td>0.438685</td>\n",
       "    </tr>\n",
       "    <tr>\n",
       "      <th>1</th>\n",
       "      <td>0.455919</td>\n",
       "      <td>0.544081</td>\n",
       "    </tr>\n",
       "    <tr>\n",
       "      <th>2</th>\n",
       "      <td>0.942501</td>\n",
       "      <td>0.057499</td>\n",
       "    </tr>\n",
       "    <tr>\n",
       "      <th>3</th>\n",
       "      <td>0.377383</td>\n",
       "      <td>0.622617</td>\n",
       "    </tr>\n",
       "    <tr>\n",
       "      <th>4</th>\n",
       "      <td>0.495534</td>\n",
       "      <td>0.504466</td>\n",
       "    </tr>\n",
       "  </tbody>\n",
       "</table>\n",
       "</div>"
      ],
      "text/plain": [
       "   loss_prob  win_prob\n",
       "0   0.561315  0.438685\n",
       "1   0.455919  0.544081\n",
       "2   0.942501  0.057499\n",
       "3   0.377383  0.622617\n",
       "4   0.495534  0.504466"
      ]
     },
     "execution_count": 88,
     "metadata": {},
     "output_type": "execute_result"
    }
   ],
   "source": [
    "# convert to a dataframe\n",
    "submission = pd.DataFrame(submission_preds, columns=['loss_prob', 'win_prob'])\n",
    "submission.head()"
   ]
  },
  {
   "cell_type": "code",
   "execution_count": 89,
   "metadata": {},
   "outputs": [
    {
     "data": {
      "text/html": [
       "<div>\n",
       "<style scoped>\n",
       "    .dataframe tbody tr th:only-of-type {\n",
       "        vertical-align: middle;\n",
       "    }\n",
       "\n",
       "    .dataframe tbody tr th {\n",
       "        vertical-align: top;\n",
       "    }\n",
       "\n",
       "    .dataframe thead th {\n",
       "        text-align: right;\n",
       "    }\n",
       "</style>\n",
       "<table border=\"1\" class=\"dataframe\">\n",
       "  <thead>\n",
       "    <tr style=\"text-align: right;\">\n",
       "      <th></th>\n",
       "      <th>Pred</th>\n",
       "    </tr>\n",
       "  </thead>\n",
       "  <tbody>\n",
       "    <tr>\n",
       "      <th>0</th>\n",
       "      <td>0.438685</td>\n",
       "    </tr>\n",
       "    <tr>\n",
       "      <th>1</th>\n",
       "      <td>0.544081</td>\n",
       "    </tr>\n",
       "    <tr>\n",
       "      <th>2</th>\n",
       "      <td>0.057499</td>\n",
       "    </tr>\n",
       "    <tr>\n",
       "      <th>3</th>\n",
       "      <td>0.622617</td>\n",
       "    </tr>\n",
       "    <tr>\n",
       "      <th>4</th>\n",
       "      <td>0.504466</td>\n",
       "    </tr>\n",
       "  </tbody>\n",
       "</table>\n",
       "</div>"
      ],
      "text/plain": [
       "       Pred\n",
       "0  0.438685\n",
       "1  0.544081\n",
       "2  0.057499\n",
       "3  0.622617\n",
       "4  0.504466"
      ]
     },
     "execution_count": 89,
     "metadata": {},
     "output_type": "execute_result"
    }
   ],
   "source": [
    "# drop loss_prob\n",
    "submission = submission.drop('loss_prob', axis=1)\n",
    "submission.columns = ['Pred']\n",
    "submission.head()"
   ]
  },
  {
   "cell_type": "code",
   "execution_count": 90,
   "metadata": {},
   "outputs": [
    {
     "data": {
      "text/html": [
       "<div>\n",
       "<style scoped>\n",
       "    .dataframe tbody tr th:only-of-type {\n",
       "        vertical-align: middle;\n",
       "    }\n",
       "\n",
       "    .dataframe tbody tr th {\n",
       "        vertical-align: top;\n",
       "    }\n",
       "\n",
       "    .dataframe thead th {\n",
       "        text-align: right;\n",
       "    }\n",
       "</style>\n",
       "<table border=\"1\" class=\"dataframe\">\n",
       "  <thead>\n",
       "    <tr style=\"text-align: right;\">\n",
       "      <th></th>\n",
       "      <th>ID</th>\n",
       "      <th>Pred</th>\n",
       "    </tr>\n",
       "  </thead>\n",
       "  <tbody>\n",
       "    <tr>\n",
       "      <th>0</th>\n",
       "      <td>2023_1101_1102</td>\n",
       "      <td>0.438685</td>\n",
       "    </tr>\n",
       "    <tr>\n",
       "      <th>1</th>\n",
       "      <td>2023_1101_1103</td>\n",
       "      <td>0.544081</td>\n",
       "    </tr>\n",
       "    <tr>\n",
       "      <th>2</th>\n",
       "      <td>2023_1101_1104</td>\n",
       "      <td>0.057499</td>\n",
       "    </tr>\n",
       "    <tr>\n",
       "      <th>3</th>\n",
       "      <td>2023_1101_1105</td>\n",
       "      <td>0.622617</td>\n",
       "    </tr>\n",
       "    <tr>\n",
       "      <th>4</th>\n",
       "      <td>2023_1101_1106</td>\n",
       "      <td>0.504466</td>\n",
       "    </tr>\n",
       "  </tbody>\n",
       "</table>\n",
       "</div>"
      ],
      "text/plain": [
       "               ID      Pred\n",
       "0  2023_1101_1102  0.438685\n",
       "1  2023_1101_1103  0.544081\n",
       "2  2023_1101_1104  0.057499\n",
       "3  2023_1101_1105  0.622617\n",
       "4  2023_1101_1106  0.504466"
      ]
     },
     "execution_count": 90,
     "metadata": {},
     "output_type": "execute_result"
    }
   ],
   "source": [
    "final_submission = first_sub[['ID']]\n",
    "final_submission = pd.concat([final_submission, submission], axis=1)\n",
    "final_submission.head()"
   ]
  },
  {
   "cell_type": "code",
   "execution_count": 91,
   "metadata": {},
   "outputs": [],
   "source": [
    "submit_path = Path('../submissions/')\n",
    "final_submission.to_csv(submit_path/'akg_submission_1.csv', index=False)"
   ]
  },
  {
   "attachments": {},
   "cell_type": "markdown",
   "metadata": {},
   "source": [
    "## Ensemble Predictions"
   ]
  },
  {
   "cell_type": "code",
   "execution_count": 92,
   "metadata": {},
   "outputs": [],
   "source": [
    "# generate predictions from submission file\n",
    "sub_preds_1 = xgb_tuned.predict_proba(X_sub_final)\n",
    "sub_preds_2 = xgb_a.predict_proba(X_sub_final)\n",
    "sub_preds_3 = xgb_b.predict_proba(X_sub_final)\n",
    "sub_preds_4 = xgb_c.predict_proba(X_sub_final)\n",
    "\n",
    "# ensemble together using bagging\n",
    "ensemble_preds = np.mean(np.array([sub_preds_1, sub_preds_2, sub_preds_3, sub_preds_4]), axis=0)"
   ]
  },
  {
   "cell_type": "code",
   "execution_count": 99,
   "metadata": {},
   "outputs": [
    {
     "data": {
      "text/html": [
       "<div>\n",
       "<style scoped>\n",
       "    .dataframe tbody tr th:only-of-type {\n",
       "        vertical-align: middle;\n",
       "    }\n",
       "\n",
       "    .dataframe tbody tr th {\n",
       "        vertical-align: top;\n",
       "    }\n",
       "\n",
       "    .dataframe thead th {\n",
       "        text-align: right;\n",
       "    }\n",
       "</style>\n",
       "<table border=\"1\" class=\"dataframe\">\n",
       "  <thead>\n",
       "    <tr style=\"text-align: right;\">\n",
       "      <th></th>\n",
       "      <th>Pred</th>\n",
       "    </tr>\n",
       "  </thead>\n",
       "  <tbody>\n",
       "    <tr>\n",
       "      <th>0</th>\n",
       "      <td>0.458548</td>\n",
       "    </tr>\n",
       "    <tr>\n",
       "      <th>1</th>\n",
       "      <td>0.538600</td>\n",
       "    </tr>\n",
       "    <tr>\n",
       "      <th>2</th>\n",
       "      <td>0.059626</td>\n",
       "    </tr>\n",
       "    <tr>\n",
       "      <th>3</th>\n",
       "      <td>0.594755</td>\n",
       "    </tr>\n",
       "    <tr>\n",
       "      <th>4</th>\n",
       "      <td>0.485791</td>\n",
       "    </tr>\n",
       "  </tbody>\n",
       "</table>\n",
       "</div>"
      ],
      "text/plain": [
       "       Pred\n",
       "0  0.458548\n",
       "1  0.538600\n",
       "2  0.059626\n",
       "3  0.594755\n",
       "4  0.485791"
      ]
     },
     "execution_count": 99,
     "metadata": {},
     "output_type": "execute_result"
    }
   ],
   "source": [
    "ens_submission = pd.DataFrame(ensemble_preds, columns=['loss_prob', 'win_prob'])\n",
    "\n",
    "# drop loss_prob\n",
    "ens_submission = ens_submission.drop('loss_prob', axis=1)\n",
    "ens_submission.columns = ['Pred']\n",
    "ens_submission.head()"
   ]
  },
  {
   "cell_type": "code",
   "execution_count": 100,
   "metadata": {},
   "outputs": [
    {
     "data": {
      "text/html": [
       "<div>\n",
       "<style scoped>\n",
       "    .dataframe tbody tr th:only-of-type {\n",
       "        vertical-align: middle;\n",
       "    }\n",
       "\n",
       "    .dataframe tbody tr th {\n",
       "        vertical-align: top;\n",
       "    }\n",
       "\n",
       "    .dataframe thead th {\n",
       "        text-align: right;\n",
       "    }\n",
       "</style>\n",
       "<table border=\"1\" class=\"dataframe\">\n",
       "  <thead>\n",
       "    <tr style=\"text-align: right;\">\n",
       "      <th></th>\n",
       "      <th>ID</th>\n",
       "      <th>Pred</th>\n",
       "    </tr>\n",
       "  </thead>\n",
       "  <tbody>\n",
       "    <tr>\n",
       "      <th>0</th>\n",
       "      <td>2023_1101_1102</td>\n",
       "      <td>0.458548</td>\n",
       "    </tr>\n",
       "    <tr>\n",
       "      <th>1</th>\n",
       "      <td>2023_1101_1103</td>\n",
       "      <td>0.538600</td>\n",
       "    </tr>\n",
       "    <tr>\n",
       "      <th>2</th>\n",
       "      <td>2023_1101_1104</td>\n",
       "      <td>0.059626</td>\n",
       "    </tr>\n",
       "    <tr>\n",
       "      <th>3</th>\n",
       "      <td>2023_1101_1105</td>\n",
       "      <td>0.594755</td>\n",
       "    </tr>\n",
       "    <tr>\n",
       "      <th>4</th>\n",
       "      <td>2023_1101_1106</td>\n",
       "      <td>0.485791</td>\n",
       "    </tr>\n",
       "  </tbody>\n",
       "</table>\n",
       "</div>"
      ],
      "text/plain": [
       "               ID      Pred\n",
       "0  2023_1101_1102  0.458548\n",
       "1  2023_1101_1103  0.538600\n",
       "2  2023_1101_1104  0.059626\n",
       "3  2023_1101_1105  0.594755\n",
       "4  2023_1101_1106  0.485791"
      ]
     },
     "execution_count": 100,
     "metadata": {},
     "output_type": "execute_result"
    }
   ],
   "source": [
    "ensemble_submission = first_sub[['ID']]\n",
    "ensemble_submission = pd.concat([ensemble_submission, ens_submission], axis=1)\n",
    "ensemble_submission.head()"
   ]
  },
  {
   "cell_type": "code",
   "execution_count": 101,
   "metadata": {},
   "outputs": [],
   "source": [
    "# save to CSV\n",
    "final_submission.to_csv(submit_path/'akg_ensemble_submission.csv', index=False)"
   ]
  },
  {
   "attachments": {},
   "cell_type": "markdown",
   "metadata": {},
   "source": [
    "## Information for Bracket"
   ]
  },
  {
   "cell_type": "code",
   "execution_count": 102,
   "metadata": {},
   "outputs": [],
   "source": [
    "df = ensemble_submission.copy()\n",
    "df['Season'] = df['ID'].apply(lambda x: x.split('_')[0]).astype('int64')\n",
    "df['team_a'] = df['ID'].apply(lambda x: x.split('_')[1]).astype('int64')\n",
    "df['team_b'] = df['ID'].apply(lambda x: x.split('_')[2]).astype('int64')"
   ]
  },
  {
   "cell_type": "code",
   "execution_count": 103,
   "metadata": {},
   "outputs": [],
   "source": [
    "team_names = teams.drop(['FirstD1Season', 'LastD1Season'], axis=1)\n",
    "\n",
    "# merge into df\n",
    "df = df.merge(team_names, how='left', left_on='team_a', right_on='TeamID')\n",
    "df.rename(columns={'TeamName':'team_a_name'}, inplace=True)\n",
    "df.drop('TeamID', axis=1, inplace=True)\n",
    "\n",
    "df = df.merge(team_names, how='left', left_on='team_b', right_on='TeamID')\n",
    "df.rename(columns={'TeamName':'team_b_name'}, inplace=True)\n",
    "df.drop('TeamID', axis=1, inplace=True)"
   ]
  },
  {
   "cell_type": "code",
   "execution_count": 104,
   "metadata": {},
   "outputs": [
    {
     "data": {
      "text/html": [
       "<div>\n",
       "<style scoped>\n",
       "    .dataframe tbody tr th:only-of-type {\n",
       "        vertical-align: middle;\n",
       "    }\n",
       "\n",
       "    .dataframe tbody tr th {\n",
       "        vertical-align: top;\n",
       "    }\n",
       "\n",
       "    .dataframe thead th {\n",
       "        text-align: right;\n",
       "    }\n",
       "</style>\n",
       "<table border=\"1\" class=\"dataframe\">\n",
       "  <thead>\n",
       "    <tr style=\"text-align: right;\">\n",
       "      <th></th>\n",
       "      <th>ID</th>\n",
       "      <th>Pred</th>\n",
       "      <th>Season</th>\n",
       "      <th>team_a</th>\n",
       "      <th>team_b</th>\n",
       "      <th>team_a_name</th>\n",
       "      <th>team_b_name</th>\n",
       "    </tr>\n",
       "  </thead>\n",
       "  <tbody>\n",
       "    <tr>\n",
       "      <th>0</th>\n",
       "      <td>2023_1101_1102</td>\n",
       "      <td>0.458548</td>\n",
       "      <td>2023</td>\n",
       "      <td>1101</td>\n",
       "      <td>1102</td>\n",
       "      <td>Abilene Chr</td>\n",
       "      <td>Air Force</td>\n",
       "    </tr>\n",
       "    <tr>\n",
       "      <th>1</th>\n",
       "      <td>2023_1101_1103</td>\n",
       "      <td>0.538600</td>\n",
       "      <td>2023</td>\n",
       "      <td>1101</td>\n",
       "      <td>1103</td>\n",
       "      <td>Abilene Chr</td>\n",
       "      <td>Akron</td>\n",
       "    </tr>\n",
       "    <tr>\n",
       "      <th>2</th>\n",
       "      <td>2023_1101_1104</td>\n",
       "      <td>0.059626</td>\n",
       "      <td>2023</td>\n",
       "      <td>1101</td>\n",
       "      <td>1104</td>\n",
       "      <td>Abilene Chr</td>\n",
       "      <td>Alabama</td>\n",
       "    </tr>\n",
       "    <tr>\n",
       "      <th>3</th>\n",
       "      <td>2023_1101_1105</td>\n",
       "      <td>0.594755</td>\n",
       "      <td>2023</td>\n",
       "      <td>1101</td>\n",
       "      <td>1105</td>\n",
       "      <td>Abilene Chr</td>\n",
       "      <td>Alabama A&amp;M</td>\n",
       "    </tr>\n",
       "    <tr>\n",
       "      <th>4</th>\n",
       "      <td>2023_1101_1106</td>\n",
       "      <td>0.485791</td>\n",
       "      <td>2023</td>\n",
       "      <td>1101</td>\n",
       "      <td>1106</td>\n",
       "      <td>Abilene Chr</td>\n",
       "      <td>Alabama St</td>\n",
       "    </tr>\n",
       "  </tbody>\n",
       "</table>\n",
       "</div>"
      ],
      "text/plain": [
       "               ID      Pred  Season  team_a  team_b  team_a_name  team_b_name\n",
       "0  2023_1101_1102  0.458548    2023    1101    1102  Abilene Chr    Air Force\n",
       "1  2023_1101_1103  0.538600    2023    1101    1103  Abilene Chr        Akron\n",
       "2  2023_1101_1104  0.059626    2023    1101    1104  Abilene Chr      Alabama\n",
       "3  2023_1101_1105  0.594755    2023    1101    1105  Abilene Chr  Alabama A&M\n",
       "4  2023_1101_1106  0.485791    2023    1101    1106  Abilene Chr   Alabama St"
      ]
     },
     "execution_count": 104,
     "metadata": {},
     "output_type": "execute_result"
    }
   ],
   "source": [
    "df.head()"
   ]
  },
  {
   "cell_type": "code",
   "execution_count": 105,
   "metadata": {},
   "outputs": [],
   "source": [
    "bracket_df = df[['team_a', 'team_a_name', 'Pred', 'team_b', 'team_b_name']]\n",
    "bracket_df.columns = ['team_a_ID', 'team_a_name', 'a_win_prob', 'team_b_ID', 'team_b_name']"
   ]
  },
  {
   "cell_type": "code",
   "execution_count": 106,
   "metadata": {},
   "outputs": [
    {
     "data": {
      "text/html": [
       "<div>\n",
       "<style scoped>\n",
       "    .dataframe tbody tr th:only-of-type {\n",
       "        vertical-align: middle;\n",
       "    }\n",
       "\n",
       "    .dataframe tbody tr th {\n",
       "        vertical-align: top;\n",
       "    }\n",
       "\n",
       "    .dataframe thead th {\n",
       "        text-align: right;\n",
       "    }\n",
       "</style>\n",
       "<table border=\"1\" class=\"dataframe\">\n",
       "  <thead>\n",
       "    <tr style=\"text-align: right;\">\n",
       "      <th></th>\n",
       "      <th>team_a_ID</th>\n",
       "      <th>team_a_name</th>\n",
       "      <th>a_win_prob</th>\n",
       "      <th>team_b_ID</th>\n",
       "      <th>team_b_name</th>\n",
       "    </tr>\n",
       "  </thead>\n",
       "  <tbody>\n",
       "    <tr>\n",
       "      <th>0</th>\n",
       "      <td>1101</td>\n",
       "      <td>Abilene Chr</td>\n",
       "      <td>0.458548</td>\n",
       "      <td>1102</td>\n",
       "      <td>Air Force</td>\n",
       "    </tr>\n",
       "    <tr>\n",
       "      <th>1</th>\n",
       "      <td>1101</td>\n",
       "      <td>Abilene Chr</td>\n",
       "      <td>0.538600</td>\n",
       "      <td>1103</td>\n",
       "      <td>Akron</td>\n",
       "    </tr>\n",
       "    <tr>\n",
       "      <th>2</th>\n",
       "      <td>1101</td>\n",
       "      <td>Abilene Chr</td>\n",
       "      <td>0.059626</td>\n",
       "      <td>1104</td>\n",
       "      <td>Alabama</td>\n",
       "    </tr>\n",
       "    <tr>\n",
       "      <th>3</th>\n",
       "      <td>1101</td>\n",
       "      <td>Abilene Chr</td>\n",
       "      <td>0.594755</td>\n",
       "      <td>1105</td>\n",
       "      <td>Alabama A&amp;M</td>\n",
       "    </tr>\n",
       "    <tr>\n",
       "      <th>4</th>\n",
       "      <td>1101</td>\n",
       "      <td>Abilene Chr</td>\n",
       "      <td>0.485791</td>\n",
       "      <td>1106</td>\n",
       "      <td>Alabama St</td>\n",
       "    </tr>\n",
       "  </tbody>\n",
       "</table>\n",
       "</div>"
      ],
      "text/plain": [
       "   team_a_ID  team_a_name  a_win_prob  team_b_ID  team_b_name\n",
       "0       1101  Abilene Chr    0.458548       1102    Air Force\n",
       "1       1101  Abilene Chr    0.538600       1103        Akron\n",
       "2       1101  Abilene Chr    0.059626       1104      Alabama\n",
       "3       1101  Abilene Chr    0.594755       1105  Alabama A&M\n",
       "4       1101  Abilene Chr    0.485791       1106   Alabama St"
      ]
     },
     "execution_count": 106,
     "metadata": {},
     "output_type": "execute_result"
    }
   ],
   "source": [
    "bracket_df.head()"
   ]
  },
  {
   "cell_type": "code",
   "execution_count": 107,
   "metadata": {},
   "outputs": [],
   "source": [
    "# save bracket_df as csv\n",
    "bracket_df.to_csv(data_path/'bracket_probs.csv', index=False)"
   ]
  },
  {
   "cell_type": "code",
   "execution_count": 108,
   "metadata": {},
   "outputs": [],
   "source": [
    "# create a function to look up a matchup\n",
    "def lookup_matchup(team_a, team_b, data=bracket_df):\n",
    "    return data.loc[(data['team_a_name'] == team_a) \n",
    "                    & (data['team_b_name'] == team_b)]"
   ]
  },
  {
   "cell_type": "code",
   "execution_count": 188,
   "metadata": {},
   "outputs": [
    {
     "data": {
      "text/html": [
       "<div>\n",
       "<style scoped>\n",
       "    .dataframe tbody tr th:only-of-type {\n",
       "        vertical-align: middle;\n",
       "    }\n",
       "\n",
       "    .dataframe tbody tr th {\n",
       "        vertical-align: top;\n",
       "    }\n",
       "\n",
       "    .dataframe thead th {\n",
       "        text-align: right;\n",
       "    }\n",
       "</style>\n",
       "<table border=\"1\" class=\"dataframe\">\n",
       "  <thead>\n",
       "    <tr style=\"text-align: right;\">\n",
       "      <th></th>\n",
       "      <th>team_a_ID</th>\n",
       "      <th>team_a_name</th>\n",
       "      <th>a_win_prob</th>\n",
       "      <th>team_b_ID</th>\n",
       "      <th>team_b_name</th>\n",
       "    </tr>\n",
       "  </thead>\n",
       "  <tbody>\n",
       "    <tr>\n",
       "      <th>19701</th>\n",
       "      <td>1166</td>\n",
       "      <td>Creighton</td>\n",
       "      <td>0.337236</td>\n",
       "      <td>1222</td>\n",
       "      <td>Houston</td>\n",
       "    </tr>\n",
       "    <tr>\n",
       "      <th>84984</th>\n",
       "      <td>3166</td>\n",
       "      <td>Creighton</td>\n",
       "      <td>0.863959</td>\n",
       "      <td>3222</td>\n",
       "      <td>Houston</td>\n",
       "    </tr>\n",
       "  </tbody>\n",
       "</table>\n",
       "</div>"
      ],
      "text/plain": [
       "       team_a_ID team_a_name  a_win_prob  team_b_ID team_b_name\n",
       "19701       1166   Creighton    0.337236       1222     Houston\n",
       "84984       3166   Creighton    0.863959       3222     Houston"
      ]
     },
     "execution_count": 188,
     "metadata": {},
     "output_type": "execute_result"
    }
   ],
   "source": [
    "lookup_matchup(\"Creighton\", \"Houston\")"
   ]
  },
  {
   "cell_type": "code",
   "execution_count": null,
   "metadata": {},
   "outputs": [],
   "source": []
  }
 ],
 "metadata": {
  "kernelspec": {
   "display_name": "kaggle",
   "language": "python",
   "name": "python3"
  },
  "language_info": {
   "codemirror_mode": {
    "name": "ipython",
    "version": 3
   },
   "file_extension": ".py",
   "mimetype": "text/x-python",
   "name": "python",
   "nbconvert_exporter": "python",
   "pygments_lexer": "ipython3",
   "version": "3.10.9"
  },
  "orig_nbformat": 4
 },
 "nbformat": 4,
 "nbformat_minor": 2
}
